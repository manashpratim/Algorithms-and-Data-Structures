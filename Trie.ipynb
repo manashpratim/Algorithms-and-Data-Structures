{
  "nbformat": 4,
  "nbformat_minor": 0,
  "metadata": {
    "colab": {
      "name": "Trie.ipynb",
      "provenance": [],
      "collapsed_sections": [],
      "authorship_tag": "ABX9TyM4rqUm/DLUdcjgPTZ7OMlT",
      "include_colab_link": true
    },
    "kernelspec": {
      "name": "python3",
      "display_name": "Python 3"
    }
  },
  "cells": [
    {
      "cell_type": "markdown",
      "metadata": {
        "id": "view-in-github",
        "colab_type": "text"
      },
      "source": [
        "<a href=\"https://colab.research.google.com/github/manashpratim/Algorithms-and-Data-Structures/blob/master/Trie.ipynb\" target=\"_parent\"><img src=\"https://colab.research.google.com/assets/colab-badge.svg\" alt=\"Open In Colab\"/></a>"
      ]
    },
    {
      "cell_type": "code",
      "metadata": {
        "id": "sxUCJwNFgY9r",
        "colab_type": "code",
        "colab": {}
      },
      "source": [
        "class TrieNode(object):\n",
        "    def __init__(self,char = ''):\n",
        "      self.char = ''\n",
        "      self.is_end_word = False\n",
        "      self.children = [None]*26\n",
        "\n",
        "\n",
        "class Trie(object):\n",
        "    def __init__(self):\n",
        "        self.root = TrieNode()\n",
        "\n",
        "    def get_index(self,char):\n",
        "        return ord(char) - ord('a')\n",
        "\n",
        "    def insert(self,key):\n",
        "      if not key:\n",
        "        print('Empty Key!')\n",
        "\n",
        "      curr = self.root\n",
        "      key = key.lower()\n",
        "      for char in key:\n",
        "        index = self.get_index(char)\n",
        "\n",
        "        if not curr.children[index]:\n",
        "            curr.children[index] = TrieNode(char)\n",
        "        curr = curr.children[index]\n",
        "\n",
        "      curr.is_end_word = True\n",
        "      print(key+' inserted!')\n",
        "\n",
        "    def search(self,key):\n",
        "      if not key:\n",
        "        print('Empty Key!')\n",
        "        return False\n",
        "\n",
        "      curr = self.root\n",
        "      key = key.lower()\n",
        "      for char in key:\n",
        "        index = self.get_index(char)\n",
        "\n",
        "        if not curr.children[index]:\n",
        "            print('Key does not exist!')\n",
        "            return False\n",
        "        curr = curr.children[index]\n",
        "\n",
        "      if curr and curr.is_end_word:\n",
        "        print('Key Found!')\n",
        "        return True\n",
        "\n",
        "      print('Key does not exist!')\n",
        "      return False\n",
        "  \n",
        "    def has_children(self,node):\n",
        "\n",
        "        for i in range(len(node.children)):\n",
        "            if node.children[i]:\n",
        "              return True\n",
        "\n",
        "        return False\n",
        "\n",
        "    def delete_helper(self,key,node,length,level):\n",
        "        delete_self = False\n",
        "        if not node:\n",
        "            print('Key does not exist!')\n",
        "            return False\n",
        "\n",
        "        if length == level:\n",
        "\n",
        "            if not self.has_children(node):\n",
        "\n",
        "                  node = None\n",
        "                  delete_self = True\n",
        "            else:\n",
        "                  node.is_end_word = False\n",
        "                  delete_self = False\n",
        "        else:\n",
        "\n",
        "            child = node.children[self.get_index(key[level])]\n",
        "            child_deleted = self.delete_helper(key,child,length,level+1)\n",
        "\n",
        "            if child_deleted:\n",
        "                node.children[self.get_index(key[level])] = None\n",
        "\n",
        "                if self.has_children(node):\n",
        "                    delete_self = False\n",
        "\n",
        "                elif node.is_end_word:\n",
        "                    delete_self = False\n",
        "\n",
        "                else:\n",
        "                    delete_self = True\n",
        "\n",
        "            else:\n",
        "                delete_self = False\n",
        "\n",
        "        return delete_self\n",
        "\n",
        "    def delete(self,key):\n",
        "\n",
        "        if not self.root or not key:\n",
        "              print('Key does not exist!')\n",
        "\n",
        "        self.delete_helper(key,self.root,len(key),0)\n",
        "        \n",
        "\n"
      ],
      "execution_count": 5,
      "outputs": []
    },
    {
      "cell_type": "code",
      "metadata": {
        "id": "RnyPGY4lhek6",
        "colab_type": "code",
        "colab": {
          "base_uri": "https://localhost:8080/",
          "height": 353
        },
        "outputId": "09e66f6f-e6dd-47c6-814b-9255d5a2f22c"
      },
      "source": [
        "# Input keys (use only 'a' through 'z' and lower case)\n",
        "keys = [\"the\", \"a\", \"there\", \"answer\", \"any\", \"by\", \"bye\", \"their\", \"abc\"]\n",
        "output = [\"Not present in trie\", \"Present in trie\"]\n",
        "\n",
        "t = Trie()\n",
        "print(\"Keys to insert: \")\n",
        "print(keys)\n",
        "\n",
        "# Construct Trie\n",
        "for key in keys:\n",
        "    t.insert(key)\n",
        "\n",
        "# Search for different keys\n",
        "if t.search(\"the\") is True:\n",
        "    print(\"the --- \" + output[1])\n",
        "else:\n",
        "    print(\"the --- \" + output[1])\n",
        "\n",
        "if t.search(\"these\") is True:\n",
        "    print(\"these --- \" + output[1])\n",
        "else:\n",
        "    print(\"these --- \" + output[0])\n",
        "\n",
        "if t.search(\"abc\") is True:\n",
        "    print(\"abc --- \" + output[1])\n",
        "else:\n",
        "    print(\"abc --- \" + output[1])\n",
        "\n",
        "t.delete(\"abc\")\n",
        "print(\"Deleted key \\\"abc\\\"\")\n",
        "\n",
        "if t.search(\"abc\") is True:\n",
        "    print(\"abc --- \" + output[1])\n",
        "else:\n",
        "    print(\"abc --- \" + output[0])\n"
      ],
      "execution_count": 6,
      "outputs": [
        {
          "output_type": "stream",
          "text": [
            "Keys to insert: \n",
            "['the', 'a', 'there', 'answer', 'any', 'by', 'bye', 'their', 'abc']\n",
            "the inserted!\n",
            "a inserted!\n",
            "there inserted!\n",
            "answer inserted!\n",
            "any inserted!\n",
            "by inserted!\n",
            "bye inserted!\n",
            "their inserted!\n",
            "abc inserted!\n",
            "Key Found!\n",
            "the --- Present in trie\n",
            "Key does not exist!\n",
            "these --- Not present in trie\n",
            "Key Found!\n",
            "abc --- Present in trie\n",
            "Deleted key \"abc\"\n",
            "Key does not exist!\n",
            "abc --- Not present in trie\n"
          ],
          "name": "stdout"
        }
      ]
    },
    {
      "cell_type": "code",
      "metadata": {
        "id": "xQpN6SDKbPiN",
        "colab_type": "code",
        "colab": {}
      },
      "source": [
        "#Function to get the number of words in the Trie\n",
        "def count_words(node,count):\n",
        "    if not node:\n",
        "      return count\n",
        "    \n",
        "    if node.is_end_word:\n",
        "        count = count+1\n",
        "\n",
        "    for i in range(len(node.children)):\n",
        "\n",
        "        if node.children[i]:\n",
        "            count = count_words(node.children[i],count)\n",
        "\n",
        "    return count    "
      ],
      "execution_count": 12,
      "outputs": []
    },
    {
      "cell_type": "code",
      "metadata": {
        "id": "u7ZJrWxCcBwE",
        "colab_type": "code",
        "colab": {
          "base_uri": "https://localhost:8080/",
          "height": 218
        },
        "outputId": "8d67db42-175f-46a1-f2bc-b37bfada1258"
      },
      "source": [
        "keys = [\"the\", \"a\", \"there\", \"answer\", \"any\",\"by\", \"bye\", \"their\", \"abc\"]\n",
        "t = Trie()\n",
        "print(\"Keys to insert: \")\n",
        "print(keys)\n",
        "\n",
        "# Construct Trie\n",
        "for key in keys:\n",
        "    t.insert(key)\n",
        "    \n",
        "count_words(t.root,0)"
      ],
      "execution_count": 14,
      "outputs": [
        {
          "output_type": "stream",
          "text": [
            "Keys to insert: \n",
            "['the', 'a', 'there', 'answer', 'any', 'by', 'bye', 'their', 'abc']\n",
            "the inserted!\n",
            "a inserted!\n",
            "there inserted!\n",
            "answer inserted!\n",
            "any inserted!\n",
            "by inserted!\n",
            "bye inserted!\n",
            "their inserted!\n",
            "abc inserted!\n"
          ],
          "name": "stdout"
        },
        {
          "output_type": "execute_result",
          "data": {
            "text/plain": [
              "9"
            ]
          },
          "metadata": {
            "tags": []
          },
          "execution_count": 14
        }
      ]
    }
  ]
}