{
  "nbformat": 4,
  "nbformat_minor": 0,
  "metadata": {
    "colab": {
      "name": "Team_13.ipynb",
      "provenance": [],
      "collapsed_sections": [],
      "include_colab_link": true
    },
    "kernelspec": {
      "name": "python3",
      "display_name": "Python 3"
    },
    "accelerator": "GPU"
  },
  "cells": [
    {
      "cell_type": "markdown",
      "metadata": {
        "id": "view-in-github",
        "colab_type": "text"
      },
      "source": [
        "<a href=\"https://colab.research.google.com/github/manashpratim/Algorithms-and-Data-Structures/blob/master/Covestro_Hackathon.ipynb\" target=\"_parent\"><img src=\"https://colab.research.google.com/assets/colab-badge.svg\" alt=\"Open In Colab\"/></a>"
      ]
    },
    {
      "cell_type": "code",
      "metadata": {
        "id": "w45ouVIZUE4i",
        "colab_type": "code",
        "colab": {
          "base_uri": "https://localhost:8080/",
          "height": 34
        },
        "outputId": "da6d1272-7b93-4aca-8fd5-e47a4f215ed1"
      },
      "source": [
        "# Mounting the Google Drive\n",
        "from google.colab import drive\n",
        "drive.mount('/content/drive')"
      ],
      "execution_count": 1,
      "outputs": [
        {
          "output_type": "stream",
          "text": [
            "Drive already mounted at /content/drive; to attempt to forcibly remount, call drive.mount(\"/content/drive\", force_remount=True).\n"
          ],
          "name": "stdout"
        }
      ]
    },
    {
      "cell_type": "code",
      "metadata": {
        "id": "i8lmlSyrUdFK",
        "colab_type": "code",
        "colab": {
          "base_uri": "https://localhost:8080/",
          "height": 134
        },
        "outputId": "5dc0ea50-9b1d-4ab3-bcd7-5f983cc9020a"
      },
      "source": [
        "#install library\n",
        "!pip install python-resize-image"
      ],
      "execution_count": 2,
      "outputs": [
        {
          "output_type": "stream",
          "text": [
            "Requirement already satisfied: python-resize-image in /usr/local/lib/python3.6/dist-packages (1.1.19)\n",
            "Requirement already satisfied: Pillow>=5.1.0 in /usr/local/lib/python3.6/dist-packages (from python-resize-image) (6.2.1)\n",
            "Requirement already satisfied: requests>=2.19.1 in /usr/local/lib/python3.6/dist-packages (from python-resize-image) (2.21.0)\n",
            "Requirement already satisfied: chardet<3.1.0,>=3.0.2 in /usr/local/lib/python3.6/dist-packages (from requests>=2.19.1->python-resize-image) (3.0.4)\n",
            "Requirement already satisfied: urllib3<1.25,>=1.21.1 in /usr/local/lib/python3.6/dist-packages (from requests>=2.19.1->python-resize-image) (1.24.3)\n",
            "Requirement already satisfied: idna<2.9,>=2.5 in /usr/local/lib/python3.6/dist-packages (from requests>=2.19.1->python-resize-image) (2.8)\n",
            "Requirement already satisfied: certifi>=2017.4.17 in /usr/local/lib/python3.6/dist-packages (from requests>=2.19.1->python-resize-image) (2019.9.11)\n"
          ],
          "name": "stdout"
        }
      ]
    },
    {
      "cell_type": "code",
      "metadata": {
        "id": "9FkqyJHwUfdb",
        "colab_type": "code",
        "colab": {}
      },
      "source": [
        "#Importing all the libraries\n",
        "import numpy as np \n",
        "import matplotlib.pyplot as plt\n",
        "import matplotlib.image as mpimg\n",
        "from keras.preprocessing.image import img_to_array\n",
        "from keras.preprocessing.image import array_to_img\n",
        "from PIL import Image\n",
        "import glob\n",
        "import csv\n",
        "import tensorflow as tf\n",
        "from resizeimage import resizeimage\n",
        "from keras.preprocessing import image\n",
        "from keras.models import Sequential\n",
        "from keras.models import Model\n",
        "from keras.layers import Dense\n",
        "from keras.layers import Dropout\n",
        "from keras.layers import Conv2D\n",
        "from keras.applications.resnet50 import ResNet50\n",
        "import keras\n",
        "from keras.models import load_model"
      ],
      "execution_count": 0,
      "outputs": []
    },
    {
      "cell_type": "code",
      "metadata": {
        "id": "phus7ajYUsgg",
        "colab_type": "code",
        "colab": {}
      },
      "source": [
        "#Function to Load Images. Returns all the images in a directory in a list format\n",
        "def load_images(path):\n",
        "    image_list = []\n",
        " \n",
        "    for filename in glob.glob(path): \n",
        "        im=Image.open(filename)\n",
        "        image_list.append([filename[::-1][:filename[::-1].find('/')][::-1],im])\n",
        "    \n",
        "    return image_list "
      ],
      "execution_count": 0,
      "outputs": []
    },
    {
      "cell_type": "code",
      "metadata": {
        "id": "rAeDmyQNVADv",
        "colab_type": "code",
        "colab": {}
      },
      "source": [
        "#Function to convert images to array. Returns a Numpy array of all the images \n",
        "def image_to_array(img_list):\n",
        "    img_array = []\n",
        "    for i in range(len(img_list)): \n",
        "        img_array.append(img_to_array(img_list[i][1]))\n",
        "\n",
        "    img_array = np.array(img_array) \n",
        "    return img_array"
      ],
      "execution_count": 0,
      "outputs": []
    },
    {
      "cell_type": "code",
      "metadata": {
        "id": "IzNWfx3nVYSA",
        "colab_type": "code",
        "colab": {}
      },
      "source": [
        "#Function to extract names of images and their ratings from the.csv file. Returns a dictionary that has the files names of images and their ratings \n",
        "def parse_meta_data(path):\n",
        "      rows = []\n",
        "      with open(path) as csv_file:\n",
        "          csv_reader = csv.reader(csv_file, delimiter=',')\n",
        "          line_count = 0\n",
        "          for row in csv_reader:\n",
        "            if line_count == 0:\n",
        "                  line_count += 1\n",
        "            else:\n",
        "                  rows.append(row)\n",
        "      meta_data = {}\n",
        "      for i in range(len(rows)):\n",
        "          meta_data[rows[i][0]+'.bmp'] = rows[i][-1]     \n",
        "      return meta_data"
      ],
      "execution_count": 0,
      "outputs": []
    },
    {
      "cell_type": "code",
      "metadata": {
        "id": "jjps_qk3VYbI",
        "colab_type": "code",
        "colab": {}
      },
      "source": [
        "#Function to get the images and ratings and segregate them into x_train and y_train. \n",
        "def get_train_data(meta_data,img_list):\n",
        "  ratings = []\n",
        "  img_array = []\n",
        "  for i in range(len(img_list)):\n",
        "     ratings.append(float(meta_data[img_list[i][0]]))\n",
        "     img_array.append(img_to_array(img_list[i][1]))\n",
        "  ratings = np.array(ratings)\n",
        "  img_array = np.array(img_array)\n",
        "  return img_array,ratings"
      ],
      "execution_count": 0,
      "outputs": []
    },
    {
      "cell_type": "code",
      "metadata": {
        "id": "wWi-x_b5V4QH",
        "colab_type": "code",
        "colab": {}
      },
      "source": [
        "#Function to crop the images\n",
        "def CropImage(im):\n",
        "\n",
        "    # by finding greatest changes in gradient of average column intensity\n",
        "    # in a transposed image the location of the horizontal borders can be\n",
        "    # found\n",
        "\n",
        "    window = 30 #size of the gradient over intensity space\n",
        "    im = im.T \n",
        "    averageIntensity = [] #average column intensity over transposed image\n",
        "\n",
        "    # determing average intensity of column in transposed space\n",
        "    for col in range(0,len(im[0])):\n",
        "        averageIntensity.append(np.mean(im[:,col]))\n",
        "\n",
        "    # calculating gradient of intensity over all columns analyzed                  \n",
        "    gradient = np.zeros(len(averageIntensity)-window)\n",
        "    for i in range(0,len(averageIntensity)-window):\n",
        "        gradient[i] = (averageIntensity[i+window] - averageIntensity[i])/window\n",
        "\n",
        "    # edge is found at greatest change in intensity  \n",
        "    cropCol = np.argmax(abs(gradient))\n",
        "   \n",
        "    # apply the crop at the edge \n",
        "    if cropCol < 200:\n",
        "        im = im[:,cropCol:]\n",
        "    elif cropCol > 500:\n",
        "        im = im[:,0:cropCol]\n",
        "\n",
        "    return im.T"
      ],
      "execution_count": 0,
      "outputs": []
    },
    {
      "cell_type": "code",
      "metadata": {
        "id": "6pc3XnBCVwoz",
        "colab_type": "code",
        "colab": {}
      },
      "source": [
        "#Function to resize the crop image. Returns an array of cropped images as Numpy vector\n",
        "def crop_resize_image(img_list):\n",
        "    img_array = []\n",
        "    for i in range(len(img_list)):\n",
        "        cover = CropImage(img_list[i])\n",
        "        cover = array_to_img(cover)\n",
        "        cover = resizeimage.resize_cover(cover, [100, 150])\n",
        "        img_array.append(img_to_array(cover))  \n",
        "    \n",
        "    img_array = np.array(img_array)\n",
        "  \n",
        "    return img_array"
      ],
      "execution_count": 0,
      "outputs": []
    },
    {
      "cell_type": "code",
      "metadata": {
        "id": "8NovNxLRZLfj",
        "colab_type": "code",
        "colab": {}
      },
      "source": [
        "#Function to resize the original image\n",
        "def resize_image(img_list):\n",
        "    img_array = []\n",
        "    for i in range(len(img_list)):\n",
        "        cover = array_to_img(img_list[i])\n",
        "        cover = resizeimage.resize_cover(cover, [100, 150])\n",
        "        img_array.append(img_to_array(cover))\n",
        "    img_array = np.array(img_array)\n",
        " \n",
        "    return img_array"
      ],
      "execution_count": 0,
      "outputs": []
    },
    {
      "cell_type": "code",
      "metadata": {
        "id": "oa9KEdMxV9Nu",
        "colab_type": "code",
        "colab": {}
      },
      "source": [
        "#Function to convert one channel image to three channel image (To be used for Transfer Learning)\n",
        "def one_channel_2_three_channel(img_array):\n",
        "   new_array = np.zeros((img_array.shape[0],img_array.shape[1],img_array.shape[2],3))\n",
        "   for i in range(len(img_array)):\n",
        "      new = np.stack((img_array[i],)*3, axis=-2)\n",
        "      new_array[i] = np.squeeze( new, axis=-1)\n",
        "   return new_array"
      ],
      "execution_count": 0,
      "outputs": []
    },
    {
      "cell_type": "code",
      "metadata": {
        "id": "k5HCHs0PWmFn",
        "colab_type": "code",
        "colab": {}
      },
      "source": [
        "#Loading the image files and doing some preprocessing\n",
        "train_image_list = load_images('/content/drive/My Drive/StudentData/train/*.bmp')\n",
        "test_image_list = load_images('/content/drive/My Drive/StudentData/test/*.bmp')\n",
        "train_meta_data = parse_meta_data('/content/drive/My Drive/StudentData/train_scores.csv')\n",
        "\n",
        "x_train,y_train = get_train_data(train_meta_data,train_image_list)\n",
        "x_test = image_to_array(test_image_list)"
      ],
      "execution_count": 0,
      "outputs": []
    },
    {
      "cell_type": "code",
      "metadata": {
        "id": "hvQlhCYfW8Rw",
        "colab_type": "code",
        "colab": {}
      },
      "source": [
        "#cropping the images. Donot use this block if you do not want to crop the images.\n",
        "train_x = crop_resize_image(x_train)\n",
        "test_x = crop_resize_image(x_test)"
      ],
      "execution_count": 0,
      "outputs": []
    },
    {
      "cell_type": "code",
      "metadata": {
        "id": "ED7kNoG8Zy_X",
        "colab_type": "code",
        "colab": {}
      },
      "source": [
        "#Resizing the images. Donot run this block if you ran the above (croping image) block\n",
        "x_train = resize_image(x_train)\n",
        "x_test = resize_image(x_test)"
      ],
      "execution_count": 0,
      "outputs": []
    },
    {
      "cell_type": "code",
      "metadata": {
        "id": "rAC5lVrOXI3K",
        "colab_type": "code",
        "colab": {}
      },
      "source": [
        "#converting one channel image to three channel images to be used later. Change the inputs to train_x and test_x if using the cropping image block\n",
        "x_train_2 = one_channel_2_three_channel(train_x)\n",
        "x_test_2 = one_channel_2_three_channel(test_x)"
      ],
      "execution_count": 0,
      "outputs": []
    },
    {
      "cell_type": "markdown",
      "metadata": {
        "id": "iYmucaacjQu2",
        "colab_type": "text"
      },
      "source": [
        "# **The Model that consistently gave us best results**"
      ]
    },
    {
      "cell_type": "markdown",
      "metadata": {
        "id": "IKAZ5lX-Vn44",
        "colab_type": "text"
      },
      "source": [
        "## **Transfer Learning**"
      ]
    },
    {
      "cell_type": "code",
      "metadata": {
        "id": "SiMMMXRnjXpo",
        "colab_type": "code",
        "colab": {}
      },
      "source": [
        "# Implementing the model\n",
        "base_model1=ResNet50(include_top=False, weights= 'imagenet', pooling='avg')\n",
        "\n",
        "base_model1.trainable = False\n",
        "\n",
        "x = Dense(256, activation='relu')(base_model1.output)\n",
        "x = Dropout(0.4)(x)\n",
        "x = Dense(1)(x)\n",
        "\n",
        "transfer_model = Model(base_model1.input, x) \n",
        "transfer_model.compile(optimizer ='adam',\n",
        "             loss = 'mean_squared_error', \n",
        "             metrics = ['mae'])"
      ],
      "execution_count": 0,
      "outputs": []
    },
    {
      "cell_type": "code",
      "metadata": {
        "id": "E3sN3H32jpKz",
        "colab_type": "code",
        "colab": {
          "base_uri": "https://localhost:8080/",
          "height": 1000
        },
        "outputId": "4efed790-64e4-47d5-bef0-e6489fd4cbc9"
      },
      "source": [
        "reduce_lr = keras.callbacks.ReduceLROnPlateau(monitor='val_loss', factor=0.1, patience=5, mode='auto')\n",
        "history = transfer_model.fit(x_train_2, y_train, batch_size=32, epochs=50, verbose=1, callbacks=[reduce_lr], validation_split=0.05, shuffle=True,use_multiprocessing=True)"
      ],
      "execution_count": 47,
      "outputs": [
        {
          "output_type": "stream",
          "text": [
            "Train on 187 samples, validate on 10 samples\n",
            "Epoch 1/50\n",
            "187/187 [==============================] - 21s 112ms/step - loss: 12.0626 - mean_absolute_error: 2.7782 - val_loss: 17.1219 - val_mean_absolute_error: 3.1938\n",
            "Epoch 2/50\n",
            "187/187 [==============================] - 1s 4ms/step - loss: 3.1140 - mean_absolute_error: 1.4215 - val_loss: 51.0471 - val_mean_absolute_error: 3.6097\n",
            "Epoch 3/50\n",
            "187/187 [==============================] - 1s 4ms/step - loss: 2.3654 - mean_absolute_error: 1.2306 - val_loss: 19.7678 - val_mean_absolute_error: 2.8409\n",
            "Epoch 4/50\n",
            "187/187 [==============================] - 1s 4ms/step - loss: 2.6931 - mean_absolute_error: 1.2048 - val_loss: 25.2666 - val_mean_absolute_error: 2.6561\n",
            "Epoch 5/50\n",
            "187/187 [==============================] - 1s 4ms/step - loss: 2.2619 - mean_absolute_error: 1.1825 - val_loss: 2.5441 - val_mean_absolute_error: 1.1058\n",
            "Epoch 6/50\n",
            "187/187 [==============================] - 1s 4ms/step - loss: 1.6912 - mean_absolute_error: 1.0297 - val_loss: 0.8763 - val_mean_absolute_error: 0.7105\n",
            "Epoch 7/50\n",
            "187/187 [==============================] - 1s 4ms/step - loss: 0.9607 - mean_absolute_error: 0.7997 - val_loss: 1.3586 - val_mean_absolute_error: 1.0930\n",
            "Epoch 8/50\n",
            "187/187 [==============================] - 1s 4ms/step - loss: 1.1018 - mean_absolute_error: 0.8272 - val_loss: 2.3032 - val_mean_absolute_error: 1.3144\n",
            "Epoch 9/50\n",
            "187/187 [==============================] - 1s 4ms/step - loss: 1.2166 - mean_absolute_error: 0.8775 - val_loss: 1.1299 - val_mean_absolute_error: 0.9157\n",
            "Epoch 10/50\n",
            "187/187 [==============================] - 1s 4ms/step - loss: 1.2221 - mean_absolute_error: 0.8600 - val_loss: 4.8371 - val_mean_absolute_error: 1.9803\n",
            "Epoch 11/50\n",
            "187/187 [==============================] - 1s 4ms/step - loss: 1.3913 - mean_absolute_error: 0.9150 - val_loss: 2.2570 - val_mean_absolute_error: 1.2851\n",
            "Epoch 12/50\n",
            "187/187 [==============================] - 1s 4ms/step - loss: 0.8741 - mean_absolute_error: 0.7131 - val_loss: 3.4640 - val_mean_absolute_error: 1.6168\n",
            "Epoch 13/50\n",
            "187/187 [==============================] - 1s 4ms/step - loss: 1.0759 - mean_absolute_error: 0.8057 - val_loss: 2.7813 - val_mean_absolute_error: 1.4455\n",
            "Epoch 14/50\n",
            "187/187 [==============================] - 1s 4ms/step - loss: 0.8177 - mean_absolute_error: 0.6914 - val_loss: 1.9692 - val_mean_absolute_error: 1.2376\n",
            "Epoch 15/50\n",
            "187/187 [==============================] - 1s 4ms/step - loss: 0.6217 - mean_absolute_error: 0.6141 - val_loss: 1.1026 - val_mean_absolute_error: 0.9339\n",
            "Epoch 16/50\n",
            "187/187 [==============================] - 1s 4ms/step - loss: 0.6450 - mean_absolute_error: 0.6261 - val_loss: 0.9785 - val_mean_absolute_error: 0.8768\n",
            "Epoch 17/50\n",
            "187/187 [==============================] - 1s 4ms/step - loss: 0.9588 - mean_absolute_error: 0.7598 - val_loss: 0.8492 - val_mean_absolute_error: 0.8121\n",
            "Epoch 18/50\n",
            "187/187 [==============================] - 1s 4ms/step - loss: 0.7333 - mean_absolute_error: 0.6106 - val_loss: 0.7243 - val_mean_absolute_error: 0.7441\n",
            "Epoch 19/50\n",
            "187/187 [==============================] - 1s 4ms/step - loss: 0.7908 - mean_absolute_error: 0.6880 - val_loss: 0.6090 - val_mean_absolute_error: 0.6719\n",
            "Epoch 20/50\n",
            "187/187 [==============================] - 1s 4ms/step - loss: 0.7670 - mean_absolute_error: 0.6685 - val_loss: 0.5264 - val_mean_absolute_error: 0.6141\n",
            "Epoch 21/50\n",
            "187/187 [==============================] - 1s 4ms/step - loss: 0.7729 - mean_absolute_error: 0.6793 - val_loss: 0.4571 - val_mean_absolute_error: 0.5709\n",
            "Epoch 22/50\n",
            "187/187 [==============================] - 1s 4ms/step - loss: 0.7080 - mean_absolute_error: 0.6399 - val_loss: 0.3941 - val_mean_absolute_error: 0.5243\n",
            "Epoch 23/50\n",
            "187/187 [==============================] - 1s 4ms/step - loss: 1.0164 - mean_absolute_error: 0.7849 - val_loss: 0.3487 - val_mean_absolute_error: 0.4861\n",
            "Epoch 24/50\n",
            "187/187 [==============================] - 1s 4ms/step - loss: 0.7310 - mean_absolute_error: 0.6845 - val_loss: 0.3139 - val_mean_absolute_error: 0.4601\n",
            "Epoch 25/50\n",
            "187/187 [==============================] - 1s 4ms/step - loss: 0.7021 - mean_absolute_error: 0.6668 - val_loss: 0.2869 - val_mean_absolute_error: 0.4391\n",
            "Epoch 26/50\n",
            "187/187 [==============================] - 1s 4ms/step - loss: 0.6897 - mean_absolute_error: 0.6235 - val_loss: 0.2754 - val_mean_absolute_error: 0.4292\n",
            "Epoch 27/50\n",
            "187/187 [==============================] - 1s 4ms/step - loss: 0.7793 - mean_absolute_error: 0.7021 - val_loss: 0.2677 - val_mean_absolute_error: 0.4198\n",
            "Epoch 28/50\n",
            "187/187 [==============================] - 1s 4ms/step - loss: 0.7926 - mean_absolute_error: 0.6881 - val_loss: 0.2532 - val_mean_absolute_error: 0.4016\n",
            "Epoch 29/50\n",
            "187/187 [==============================] - 1s 4ms/step - loss: 0.8692 - mean_absolute_error: 0.7232 - val_loss: 0.2441 - val_mean_absolute_error: 0.3871\n",
            "Epoch 30/50\n",
            "187/187 [==============================] - 1s 4ms/step - loss: 0.5448 - mean_absolute_error: 0.5865 - val_loss: 0.2366 - val_mean_absolute_error: 0.3743\n",
            "Epoch 31/50\n",
            "187/187 [==============================] - 1s 4ms/step - loss: 0.6604 - mean_absolute_error: 0.6165 - val_loss: 0.2435 - val_mean_absolute_error: 0.3771\n",
            "Epoch 32/50\n",
            "187/187 [==============================] - 1s 4ms/step - loss: 0.7040 - mean_absolute_error: 0.6439 - val_loss: 0.2532 - val_mean_absolute_error: 0.3833\n",
            "Epoch 33/50\n",
            "187/187 [==============================] - 1s 4ms/step - loss: 0.6479 - mean_absolute_error: 0.6295 - val_loss: 0.2535 - val_mean_absolute_error: 0.3831\n",
            "Epoch 34/50\n",
            "187/187 [==============================] - 1s 4ms/step - loss: 0.7244 - mean_absolute_error: 0.6450 - val_loss: 0.2420 - val_mean_absolute_error: 0.3709\n",
            "Epoch 35/50\n",
            "187/187 [==============================] - 1s 4ms/step - loss: 0.8030 - mean_absolute_error: 0.7079 - val_loss: 0.2341 - val_mean_absolute_error: 0.3617\n",
            "Epoch 36/50\n",
            "187/187 [==============================] - 1s 4ms/step - loss: 0.6114 - mean_absolute_error: 0.6139 - val_loss: 0.2230 - val_mean_absolute_error: 0.3473\n",
            "Epoch 37/50\n",
            "187/187 [==============================] - 1s 4ms/step - loss: 0.7114 - mean_absolute_error: 0.6503 - val_loss: 0.2140 - val_mean_absolute_error: 0.3331\n",
            "Epoch 38/50\n",
            "187/187 [==============================] - 1s 4ms/step - loss: 0.8274 - mean_absolute_error: 0.6998 - val_loss: 0.2097 - val_mean_absolute_error: 0.3249\n",
            "Epoch 39/50\n",
            "187/187 [==============================] - 1s 4ms/step - loss: 0.7346 - mean_absolute_error: 0.6763 - val_loss: 0.1999 - val_mean_absolute_error: 0.3063\n",
            "Epoch 40/50\n",
            "187/187 [==============================] - 1s 4ms/step - loss: 0.6638 - mean_absolute_error: 0.6524 - val_loss: 0.1940 - val_mean_absolute_error: 0.2891\n",
            "Epoch 41/50\n",
            "187/187 [==============================] - 1s 4ms/step - loss: 0.8826 - mean_absolute_error: 0.7044 - val_loss: 0.1923 - val_mean_absolute_error: 0.2785\n",
            "Epoch 42/50\n",
            "187/187 [==============================] - 1s 4ms/step - loss: 0.6928 - mean_absolute_error: 0.6493 - val_loss: 0.1957 - val_mean_absolute_error: 0.2818\n",
            "Epoch 43/50\n",
            "187/187 [==============================] - 1s 4ms/step - loss: 0.6263 - mean_absolute_error: 0.6062 - val_loss: 0.2011 - val_mean_absolute_error: 0.2846\n",
            "Epoch 44/50\n",
            "187/187 [==============================] - 1s 4ms/step - loss: 0.5911 - mean_absolute_error: 0.6078 - val_loss: 0.2032 - val_mean_absolute_error: 0.2859\n",
            "Epoch 45/50\n",
            "187/187 [==============================] - 1s 4ms/step - loss: 0.8291 - mean_absolute_error: 0.6948 - val_loss: 0.2096 - val_mean_absolute_error: 0.2988\n",
            "Epoch 46/50\n",
            "187/187 [==============================] - 1s 4ms/step - loss: 0.7305 - mean_absolute_error: 0.6670 - val_loss: 0.2044 - val_mean_absolute_error: 0.2839\n",
            "Epoch 47/50\n",
            "187/187 [==============================] - 1s 4ms/step - loss: 0.7670 - mean_absolute_error: 0.6669 - val_loss: 0.2036 - val_mean_absolute_error: 0.2812\n",
            "Epoch 48/50\n",
            "187/187 [==============================] - 1s 4ms/step - loss: 0.6174 - mean_absolute_error: 0.6358 - val_loss: 0.2021 - val_mean_absolute_error: 0.2773\n",
            "Epoch 49/50\n",
            "187/187 [==============================] - 1s 4ms/step - loss: 0.7441 - mean_absolute_error: 0.6463 - val_loss: 0.2015 - val_mean_absolute_error: 0.2750\n",
            "Epoch 50/50\n",
            "187/187 [==============================] - 1s 4ms/step - loss: 0.6537 - mean_absolute_error: 0.6262 - val_loss: 0.2010 - val_mean_absolute_error: 0.2712\n"
          ],
          "name": "stdout"
        }
      ]
    },
    {
      "cell_type": "code",
      "metadata": {
        "id": "tReUG1BR_arf",
        "colab_type": "code",
        "colab": {
          "base_uri": "https://localhost:8080/",
          "height": 265
        },
        "outputId": "b8617180-a857-479a-9920-5e4002d1ed6a"
      },
      "source": [
        "#Visualizing the Loss over the epochs\n",
        "%matplotlib inline\n",
        "\n",
        "loss=history.history['loss']\n",
        "val_loss=history.history['val_loss']\n",
        "\n",
        "epochs=range(len(loss)) #No. of epochs\n",
        "\n",
        "import matplotlib.pyplot as plt\n",
        "#Plot training and validation loss per epoch\n",
        "plt.plot(epochs,loss,'b',label='Training Loss')\n",
        "plt.plot(epochs,val_loss,'r',label='Validation Loss')\n",
        "plt.legend()\n",
        "plt.show()"
      ],
      "execution_count": 48,
      "outputs": [
        {
          "output_type": "display_data",
          "data": {
            "image/png": "[encoded data removed]",
            "text/plain": [
              "<Figure size 432x288 with 1 Axes>"
            ]
          },
          "metadata": {
            "tags": []
          }
        }
      ]
    },
    {
      "cell_type": "code",
      "metadata": {
        "id": "1CW25Eaoa2NB",
        "colab_type": "code",
        "colab": {}
      },
      "source": [
        "test_pred = transfer_model.predict(x_test_2)"
      ],
      "execution_count": 0,
      "outputs": []
    },
    {
      "cell_type": "code",
      "metadata": {
        "id": "a2ojAakTjJnq",
        "colab_type": "code",
        "colab": {}
      },
      "source": [
        "with open('team13submission.csv', 'w') as file:\n",
        "    file.write('image,total_rating\\n')\n",
        "    for i in range(len(x_test)):\n",
        "        file.write(str(test_image_list[i][0][:-4])+','+str(test_pred[i][0])+'\\n')"
      ],
      "execution_count": 0,
      "outputs": []
    },
    {
      "cell_type": "code",
      "metadata": {
        "id": "Tx9j-iXYSEEU",
        "colab_type": "code",
        "colab": {}
      },
      "source": [
        "#save the model\n",
        "transfer_model.save('/content/drive/My Drive/my_model.h5') "
      ],
      "execution_count": 0,
      "outputs": []
    },
    {
      "cell_type": "markdown",
      "metadata": {
        "id": "XQtvzk84l2Mi",
        "colab_type": "text"
      },
      "source": [
        "# **Models that we tried but did not give us best results** "
      ]
    },
    {
      "cell_type": "markdown",
      "metadata": {
        "id": "e99oGVfxYfFg",
        "colab_type": "text"
      },
      "source": [
        "## **Simple Convolutional Neural Network**"
      ]
    },
    {
      "cell_type": "code",
      "metadata": {
        "id": "q-Med8XQYd_K",
        "colab_type": "code",
        "colab": {
          "base_uri": "https://localhost:8080/",
          "height": 87
        },
        "outputId": "1362ba74-1c79-497c-9a2d-798ee514b335"
      },
      "source": [
        "# Developing the model\n",
        "model1 = tf.keras.models.Sequential([\n",
        "    \n",
        "    tf.keras.layers.Conv2D(64,(3,3),activation='relu',input_shape=(150,100,1)),\n",
        "    tf.keras.layers.Conv2D(64,(3,3),activation='relu'),\n",
        "    tf.keras.layers.MaxPooling2D(pool_size=(3,3),strides=[3,3]),\n",
        "\n",
        "    tf.keras.layers.Conv2D(32,(3,3),activation='relu'),\n",
        "    tf.keras.layers.Conv2D(32,(3,3),activation='relu'),\n",
        "    tf.keras.layers.MaxPooling2D(pool_size=(3,3),strides=[3,3]),\n",
        "\n",
        "    tf.keras.layers.Flatten(),\n",
        "       \n",
        "    tf.keras.layers.Dense(256,activation='relu'),\n",
        "    tf.keras.layers.Dense(128,activation='relu'),\n",
        "    tf.keras.layers.Dense(1)\n",
        "])"
      ],
      "execution_count": 21,
      "outputs": [
        {
          "output_type": "stream",
          "text": [
            "WARNING:tensorflow:From /usr/local/lib/python3.6/dist-packages/tensorflow_core/python/ops/resource_variable_ops.py:1630: calling BaseResourceVariable.__init__ (from tensorflow.python.ops.resource_variable_ops) with constraint is deprecated and will be removed in a future version.\n",
            "Instructions for updating:\n",
            "If using Keras pass *_constraint arguments to layers.\n"
          ],
          "name": "stdout"
        }
      ]
    },
    {
      "cell_type": "code",
      "metadata": {
        "id": "lYRAuoc8YKmj",
        "colab_type": "code",
        "colab": {
          "base_uri": "https://localhost:8080/",
          "height": 1000
        },
        "outputId": "c6bd4f45-c14c-4238-a20a-46c18fdb7913"
      },
      "source": [
        "reduce_lr = tf.keras.callbacks.ReduceLROnPlateau(monitor='val_loss', factor=0.1, patience=10, mode='auto')\n",
        "model1.compile(optimizer='adam',loss='mean_squared_error',metrics=['mae'])\n",
        "model1.fit(x_train, y_train, batch_size=32, epochs=50, verbose=1, callbacks=[reduce_lr], validation_split=0.05, shuffle=True,use_multiprocessing=True)"
      ],
      "execution_count": 22,
      "outputs": [
        {
          "output_type": "stream",
          "text": [
            "Train on 187 samples, validate on 10 samples\n",
            "Epoch 1/50\n",
            "187/187 [==============================] - 2s 11ms/sample - loss: 24.6640 - mean_absolute_error: 4.1672 - val_loss: 19.4231 - val_mean_absolute_error: 3.0189\n",
            "Epoch 2/50\n",
            "187/187 [==============================] - 0s 769us/sample - loss: 8.1302 - mean_absolute_error: 2.0875 - val_loss: 10.4806 - val_mean_absolute_error: 2.5819\n",
            "Epoch 3/50\n",
            "187/187 [==============================] - 0s 775us/sample - loss: 6.4380 - mean_absolute_error: 1.9941 - val_loss: 9.5553 - val_mean_absolute_error: 2.4235\n",
            "Epoch 4/50\n",
            "187/187 [==============================] - 0s 767us/sample - loss: 4.7645 - mean_absolute_error: 1.7778 - val_loss: 7.3668 - val_mean_absolute_error: 2.3308\n",
            "Epoch 5/50\n",
            "187/187 [==============================] - 0s 759us/sample - loss: 4.4885 - mean_absolute_error: 1.7492 - val_loss: 4.5341 - val_mean_absolute_error: 1.8512\n",
            "Epoch 6/50\n",
            "187/187 [==============================] - 0s 769us/sample - loss: 3.6794 - mean_absolute_error: 1.5916 - val_loss: 3.5775 - val_mean_absolute_error: 1.4585\n",
            "Epoch 7/50\n",
            "187/187 [==============================] - 0s 757us/sample - loss: 3.4800 - mean_absolute_error: 1.4946 - val_loss: 4.5016 - val_mean_absolute_error: 2.0229\n",
            "Epoch 8/50\n",
            "187/187 [==============================] - 0s 760us/sample - loss: 2.8249 - mean_absolute_error: 1.3369 - val_loss: 3.8512 - val_mean_absolute_error: 1.8911\n",
            "Epoch 9/50\n",
            "187/187 [==============================] - 0s 767us/sample - loss: 2.4116 - mean_absolute_error: 1.2556 - val_loss: 4.8822 - val_mean_absolute_error: 2.0596\n",
            "Epoch 10/50\n",
            "187/187 [==============================] - 0s 778us/sample - loss: 2.3887 - mean_absolute_error: 1.2496 - val_loss: 3.9055 - val_mean_absolute_error: 1.8717\n",
            "Epoch 11/50\n",
            "187/187 [==============================] - 0s 756us/sample - loss: 1.9332 - mean_absolute_error: 1.1205 - val_loss: 3.2067 - val_mean_absolute_error: 1.7147\n",
            "Epoch 12/50\n",
            "187/187 [==============================] - 0s 774us/sample - loss: 1.9522 - mean_absolute_error: 1.1302 - val_loss: 2.3407 - val_mean_absolute_error: 1.4762\n",
            "Epoch 13/50\n",
            "187/187 [==============================] - 0s 773us/sample - loss: 1.5518 - mean_absolute_error: 0.9611 - val_loss: 1.1668 - val_mean_absolute_error: 0.9345\n",
            "Epoch 14/50\n",
            "187/187 [==============================] - 0s 766us/sample - loss: 1.1220 - mean_absolute_error: 0.8280 - val_loss: 0.8789 - val_mean_absolute_error: 0.6780\n",
            "Epoch 15/50\n",
            "187/187 [==============================] - 0s 771us/sample - loss: 0.9347 - mean_absolute_error: 0.7537 - val_loss: 0.9491 - val_mean_absolute_error: 0.8485\n",
            "Epoch 16/50\n",
            "187/187 [==============================] - 0s 758us/sample - loss: 0.8573 - mean_absolute_error: 0.7055 - val_loss: 0.7634 - val_mean_absolute_error: 0.6798\n",
            "Epoch 17/50\n",
            "187/187 [==============================] - 0s 779us/sample - loss: 0.6628 - mean_absolute_error: 0.6360 - val_loss: 0.6061 - val_mean_absolute_error: 0.6720\n",
            "Epoch 18/50\n",
            "187/187 [==============================] - 0s 773us/sample - loss: 0.5687 - mean_absolute_error: 0.5559 - val_loss: 0.5786 - val_mean_absolute_error: 0.6059\n",
            "Epoch 19/50\n",
            "187/187 [==============================] - 0s 787us/sample - loss: 0.4443 - mean_absolute_error: 0.5015 - val_loss: 0.5346 - val_mean_absolute_error: 0.6848\n",
            "Epoch 20/50\n",
            "187/187 [==============================] - 0s 772us/sample - loss: 0.2858 - mean_absolute_error: 0.3975 - val_loss: 0.3575 - val_mean_absolute_error: 0.5220\n",
            "Epoch 21/50\n",
            "187/187 [==============================] - 0s 784us/sample - loss: 0.2652 - mean_absolute_error: 0.3778 - val_loss: 0.4197 - val_mean_absolute_error: 0.5406\n",
            "Epoch 22/50\n",
            "187/187 [==============================] - 0s 770us/sample - loss: 0.2257 - mean_absolute_error: 0.3693 - val_loss: 0.4572 - val_mean_absolute_error: 0.4848\n",
            "Epoch 23/50\n",
            "187/187 [==============================] - 0s 775us/sample - loss: 0.2734 - mean_absolute_error: 0.4097 - val_loss: 0.5363 - val_mean_absolute_error: 0.4728\n",
            "Epoch 24/50\n",
            "187/187 [==============================] - 0s 770us/sample - loss: 0.3002 - mean_absolute_error: 0.4333 - val_loss: 0.3306 - val_mean_absolute_error: 0.4935\n",
            "Epoch 25/50\n",
            "187/187 [==============================] - 0s 764us/sample - loss: 0.2383 - mean_absolute_error: 0.3731 - val_loss: 0.4022 - val_mean_absolute_error: 0.5362\n",
            "Epoch 26/50\n",
            "187/187 [==============================] - 0s 790us/sample - loss: 0.2089 - mean_absolute_error: 0.3439 - val_loss: 0.5443 - val_mean_absolute_error: 0.6588\n",
            "Epoch 27/50\n",
            "187/187 [==============================] - 0s 761us/sample - loss: 0.1188 - mean_absolute_error: 0.2565 - val_loss: 0.4386 - val_mean_absolute_error: 0.5928\n",
            "Epoch 28/50\n",
            "187/187 [==============================] - 0s 778us/sample - loss: 0.0883 - mean_absolute_error: 0.2157 - val_loss: 0.3467 - val_mean_absolute_error: 0.5017\n",
            "Epoch 29/50\n",
            "187/187 [==============================] - 0s 760us/sample - loss: 0.0700 - mean_absolute_error: 0.1907 - val_loss: 0.3141 - val_mean_absolute_error: 0.4882\n",
            "Epoch 30/50\n",
            "187/187 [==============================] - 0s 774us/sample - loss: 0.0650 - mean_absolute_error: 0.1964 - val_loss: 0.3070 - val_mean_absolute_error: 0.4654\n",
            "Epoch 31/50\n",
            "187/187 [==============================] - 0s 763us/sample - loss: 0.0528 - mean_absolute_error: 0.1562 - val_loss: 0.3245 - val_mean_absolute_error: 0.4709\n",
            "Epoch 32/50\n",
            "187/187 [==============================] - 0s 770us/sample - loss: 0.0529 - mean_absolute_error: 0.1805 - val_loss: 0.2682 - val_mean_absolute_error: 0.4165\n",
            "Epoch 33/50\n",
            "187/187 [==============================] - 0s 765us/sample - loss: 0.0789 - mean_absolute_error: 0.2165 - val_loss: 0.2610 - val_mean_absolute_error: 0.3656\n",
            "Epoch 34/50\n",
            "187/187 [==============================] - 0s 764us/sample - loss: 0.1011 - mean_absolute_error: 0.2608 - val_loss: 0.4143 - val_mean_absolute_error: 0.5006\n",
            "Epoch 35/50\n",
            "187/187 [==============================] - 0s 767us/sample - loss: 0.0924 - mean_absolute_error: 0.2479 - val_loss: 0.3064 - val_mean_absolute_error: 0.3937\n",
            "Epoch 36/50\n",
            "187/187 [==============================] - 0s 762us/sample - loss: 0.0665 - mean_absolute_error: 0.2024 - val_loss: 0.3197 - val_mean_absolute_error: 0.4445\n",
            "Epoch 37/50\n",
            "187/187 [==============================] - 0s 764us/sample - loss: 0.0561 - mean_absolute_error: 0.1901 - val_loss: 0.4703 - val_mean_absolute_error: 0.5601\n",
            "Epoch 38/50\n",
            "187/187 [==============================] - 0s 758us/sample - loss: 0.0440 - mean_absolute_error: 0.1706 - val_loss: 0.2855 - val_mean_absolute_error: 0.4246\n",
            "Epoch 39/50\n",
            "187/187 [==============================] - 0s 762us/sample - loss: 0.0395 - mean_absolute_error: 0.1481 - val_loss: 0.4486 - val_mean_absolute_error: 0.5584\n",
            "Epoch 40/50\n",
            "187/187 [==============================] - 0s 777us/sample - loss: 0.0334 - mean_absolute_error: 0.1366 - val_loss: 0.4014 - val_mean_absolute_error: 0.5253\n",
            "Epoch 41/50\n",
            "187/187 [==============================] - 0s 771us/sample - loss: 0.0252 - mean_absolute_error: 0.1156 - val_loss: 0.2230 - val_mean_absolute_error: 0.4045\n",
            "Epoch 42/50\n",
            "187/187 [==============================] - 0s 771us/sample - loss: 0.0228 - mean_absolute_error: 0.1120 - val_loss: 0.4116 - val_mean_absolute_error: 0.5329\n",
            "Epoch 43/50\n",
            "187/187 [==============================] - 0s 766us/sample - loss: 0.0173 - mean_absolute_error: 0.1019 - val_loss: 0.3279 - val_mean_absolute_error: 0.4593\n",
            "Epoch 44/50\n",
            "187/187 [==============================] - 0s 771us/sample - loss: 0.0162 - mean_absolute_error: 0.0964 - val_loss: 0.3894 - val_mean_absolute_error: 0.5008\n",
            "Epoch 45/50\n",
            "187/187 [==============================] - 0s 760us/sample - loss: 0.0110 - mean_absolute_error: 0.0737 - val_loss: 0.2943 - val_mean_absolute_error: 0.4384\n",
            "Epoch 46/50\n",
            "187/187 [==============================] - 0s 769us/sample - loss: 0.0072 - mean_absolute_error: 0.0584 - val_loss: 0.3337 - val_mean_absolute_error: 0.4727\n",
            "Epoch 47/50\n",
            "187/187 [==============================] - 0s 770us/sample - loss: 0.0067 - mean_absolute_error: 0.0569 - val_loss: 0.3401 - val_mean_absolute_error: 0.4625\n",
            "Epoch 48/50\n",
            "187/187 [==============================] - 0s 763us/sample - loss: 0.0054 - mean_absolute_error: 0.0515 - val_loss: 0.3292 - val_mean_absolute_error: 0.4557\n",
            "Epoch 49/50\n",
            "187/187 [==============================] - 0s 764us/sample - loss: 0.0045 - mean_absolute_error: 0.0459 - val_loss: 0.3397 - val_mean_absolute_error: 0.4615\n",
            "Epoch 50/50\n",
            "187/187 [==============================] - 0s 775us/sample - loss: 0.0042 - mean_absolute_error: 0.0425 - val_loss: 0.3529 - val_mean_absolute_error: 0.4706\n"
          ],
          "name": "stdout"
        },
        {
          "output_type": "execute_result",
          "data": {
            "text/plain": [
              "<tensorflow.python.keras.callbacks.History at 0x7f12d3bef6a0>"
            ]
          },
          "metadata": {
            "tags": []
          },
          "execution_count": 22
        }
      ]
    },
    {
      "cell_type": "code",
      "metadata": {
        "id": "tQa7i4jRkph_",
        "colab_type": "code",
        "colab": {}
      },
      "source": [
        "test_pred = model1.predict(x_test)"
      ],
      "execution_count": 0,
      "outputs": []
    },
    {
      "cell_type": "code",
      "metadata": {
        "id": "tC3m3jM0lHx8",
        "colab_type": "code",
        "colab": {}
      },
      "source": [
        "with open('team13submission.csv', 'w') as file:\n",
        "    file.write('image,total_rating\\n')\n",
        "    for i in range(len(x_test)):\n",
        "        file.write(str(test_image_list[i][0][:-4])+','+str(test_pred[i][0])+'\\n')"
      ],
      "execution_count": 0,
      "outputs": []
    },
    {
      "cell_type": "markdown",
      "metadata": {
        "id": "qsPf3-YglNII",
        "colab_type": "text"
      },
      "source": [
        "##**Transfer Learning and Random Forests Regressor**"
      ]
    },
    {
      "cell_type": "code",
      "metadata": {
        "id": "xe_hcanlozGI",
        "colab_type": "code",
        "colab": {}
      },
      "source": [
        "base_model2=ResNet50(include_top=False, weights= 'imagenet', pooling='avg')\n",
        "\n",
        "base_model2.trainable = False\n",
        "\n",
        "x = Dense(4096, activation='relu')(base_model2.output)\n",
        "\n",
        "transfer_model1 = Model(base_model2.input, x) \n",
        "transfer_model1.compile(optimizer ='adam',\n",
        "             loss = 'mean_squared_error', \n",
        "             metrics = ['mae'])"
      ],
      "execution_count": 0,
      "outputs": []
    },
    {
      "cell_type": "code",
      "metadata": {
        "id": "2HgcBDZTo9KO",
        "colab_type": "code",
        "colab": {}
      },
      "source": [
        "train_output = transfer_model1.predict(x_train_2)\n",
        "test_output = transfer_model1.predict(x_test_2)"
      ],
      "execution_count": 0,
      "outputs": []
    },
    {
      "cell_type": "code",
      "metadata": {
        "id": "wIRwJl1JpEtV",
        "colab_type": "code",
        "colab": {
          "base_uri": "https://localhost:8080/",
          "height": 134
        },
        "outputId": "f95f56dd-ebd9-427b-9aa9-5c8318acc9ce"
      },
      "source": [
        "from sklearn.ensemble import RandomForestRegressor\n",
        "rf=RandomForestRegressor(n_estimators= 200)\n",
        "rf.fit(train_output,y_train)"
      ],
      "execution_count": 30,
      "outputs": [
        {
          "output_type": "execute_result",
          "data": {
            "text/plain": [
              "RandomForestRegressor(bootstrap=True, criterion='mse', max_depth=None,\n",
              "                      max_features='auto', max_leaf_nodes=None,\n",
              "                      min_impurity_decrease=0.0, min_impurity_split=None,\n",
              "                      min_samples_leaf=1, min_samples_split=2,\n",
              "                      min_weight_fraction_leaf=0.0, n_estimators=200,\n",
              "                      n_jobs=None, oob_score=False, random_state=None,\n",
              "                      verbose=0, warm_start=False)"
            ]
          },
          "metadata": {
            "tags": []
          },
          "execution_count": 30
        }
      ]
    },
    {
      "cell_type": "code",
      "metadata": {
        "id": "8PBAqfXUpxnl",
        "colab_type": "code",
        "colab": {}
      },
      "source": [
        "test_pred = rf.predict(test_output )"
      ],
      "execution_count": 0,
      "outputs": []
    },
    {
      "cell_type": "code",
      "metadata": {
        "id": "N6goj945u45F",
        "colab_type": "code",
        "colab": {}
      },
      "source": [
        "with open('team13submission.csv', 'w') as file:\n",
        "    file.write('image,total_rating\\n')\n",
        "    for i in range(len(x_test)):\n",
        "        file.write(str(test_image_list[i][0][:-4])+','+str(test_pred[i])+'\\n')"
      ],
      "execution_count": 0,
      "outputs": []
    }
  ]
}