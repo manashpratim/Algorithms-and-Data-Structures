{
  "nbformat": 4,
  "nbformat_minor": 0,
  "metadata": {
    "colab": {
      "name": "Sorting Algorithms.ipynb",
      "version": "0.3.2",
      "provenance": [],
      "collapsed_sections": [],
      "include_colab_link": true
    },
    "kernelspec": {
      "name": "python3",
      "display_name": "Python 3"
    }
  },
  "cells": [
    {
      "cell_type": "markdown",
      "metadata": {
        "id": "view-in-github",
        "colab_type": "text"
      },
      "source": [
        "<a href=\"https://colab.research.google.com/github/manashpratim/Algorithms-and-Data-Structures/blob/master/Sorting_Algorithms.ipynb\" target=\"_parent\"><img src=\"https://colab.research.google.com/assets/colab-badge.svg\" alt=\"Open In Colab\"/></a>"
      ]
    },
    {
      "cell_type": "markdown",
      "metadata": {
        "id": "rxXXopVN7Xfr",
        "colab_type": "text"
      },
      "source": [
        "## **Bubble Sort**"
      ]
    },
    {
      "cell_type": "code",
      "metadata": {
        "id": "MFg2lzBCkbKA",
        "colab_type": "code",
        "colab": {}
      },
      "source": [
        "def bubble_sort(arr):\n",
        "  \n",
        "  for i in range(len(arr)-1,0,-1):      #loop backwards\n",
        "    \n",
        "    for j in range(i):        \n",
        "        if arr[j] > arr[j+1]:         \n",
        "          temp = arr[j+1]\n",
        "          arr[j+1] = arr[j]\n",
        "          arr[j] =temp\n",
        "          \n",
        "  return arr"
      ],
      "execution_count": 0,
      "outputs": []
    },
    {
      "cell_type": "code",
      "metadata": {
        "id": "JYLTsPip9pN5",
        "colab_type": "code",
        "colab": {}
      },
      "source": [
        "arr=[3,2,13,4,6,5,7,-8,1,-2]"
      ],
      "execution_count": 0,
      "outputs": []
    },
    {
      "cell_type": "code",
      "metadata": {
        "id": "Di8U5NkZ-04K",
        "colab_type": "code",
        "colab": {
          "base_uri": "https://localhost:8080/",
          "height": 34
        },
        "outputId": "8ed47736-4bef-4d60-b287-9007d34ec157"
      },
      "source": [
        " bubble_sort(arr)"
      ],
      "execution_count": 13,
      "outputs": [
        {
          "output_type": "execute_result",
          "data": {
            "text/plain": [
              "[-8, -2, 1, 2, 3, 4, 5, 6, 7, 13]"
            ]
          },
          "metadata": {
            "tags": []
          },
          "execution_count": 13
        }
      ]
    },
    {
      "cell_type": "markdown",
      "metadata": {
        "id": "lFk-lTmwATyj",
        "colab_type": "text"
      },
      "source": [
        "## **Selection Sort**"
      ]
    },
    {
      "cell_type": "code",
      "metadata": {
        "id": "3gme69Cf_Qiz",
        "colab_type": "code",
        "colab": {}
      },
      "source": [
        "def selection_sort(arr):\n",
        "\n",
        "  for i in range(len(arr)-1): \n",
        "    min_pos=i                           #initializing the first position as the position of the minimum element\n",
        "    \n",
        "    for j in range(i+1,len(arr)):       \n",
        "      if arr[min_pos]>arr[j]:           #find the minimum element\n",
        "        min_pos=j\n",
        "    temp = arr[min_pos]                 #swapping (minimum element is put at the front of the array)\n",
        "    arr[min_pos] = arr[i]\n",
        "    arr[i] =temp\n",
        "    \n",
        "  return arr"
      ],
      "execution_count": 0,
      "outputs": []
    },
    {
      "cell_type": "code",
      "metadata": {
        "id": "3fqsrRsrHE14",
        "colab_type": "code",
        "colab": {}
      },
      "source": [
        "arr=[3,2,13,4,6,5,7,-8,1,-2]"
      ],
      "execution_count": 0,
      "outputs": []
    },
    {
      "cell_type": "code",
      "metadata": {
        "id": "4Z8qUqHOClxn",
        "colab_type": "code",
        "colab": {
          "base_uri": "https://localhost:8080/",
          "height": 34
        },
        "outputId": "f1c8db1f-c107-4887-e967-17a69d329771"
      },
      "source": [
        "selection_sort(arr)"
      ],
      "execution_count": 44,
      "outputs": [
        {
          "output_type": "execute_result",
          "data": {
            "text/plain": [
              "[-8, -2, 1, 2, 3, 4, 5, 6, 7, 13]"
            ]
          },
          "metadata": {
            "tags": []
          },
          "execution_count": 44
        }
      ]
    },
    {
      "cell_type": "markdown",
      "metadata": {
        "id": "XEE4J8-eYTHQ",
        "colab_type": "text"
      },
      "source": [
        "## **Insertion Sort**"
      ]
    },
    {
      "cell_type": "code",
      "metadata": {
        "id": "KmoIDLyLYXPN",
        "colab_type": "code",
        "colab": {}
      },
      "source": [
        "def insertion_sort(arr):\n",
        "  \n",
        "  for i in range(1,len(arr)):\n",
        "    for j in (range(i,0,-1)):\n",
        "      if arr[j]<arr[j-1]:\n",
        "        temp=arr[j]\n",
        "        arr[j]=arr[j-1]\n",
        "        arr[j-1]=temp  \n",
        "  \n",
        "  return arr"
      ],
      "execution_count": 0,
      "outputs": []
    },
    {
      "cell_type": "code",
      "metadata": {
        "id": "WXeTwNxWa27D",
        "colab_type": "code",
        "colab": {}
      },
      "source": [
        "arr=[3,4,13,2,6,5,7,-8,1,-2]"
      ],
      "execution_count": 0,
      "outputs": []
    },
    {
      "cell_type": "code",
      "metadata": {
        "id": "YNS-5czAb5nq",
        "colab_type": "code",
        "colab": {
          "base_uri": "https://localhost:8080/",
          "height": 34
        },
        "outputId": "ec20ae34-aac5-4677-cbcf-b92dc4ae2831"
      },
      "source": [
        "insertion_sort(arr)"
      ],
      "execution_count": 51,
      "outputs": [
        {
          "output_type": "execute_result",
          "data": {
            "text/plain": [
              "[-8, -2, 1, 2, 3, 4, 5, 6, 7, 13]"
            ]
          },
          "metadata": {
            "tags": []
          },
          "execution_count": 51
        }
      ]
    },
    {
      "cell_type": "markdown",
      "metadata": {
        "id": "elFbXjJwsMDX",
        "colab_type": "text"
      },
      "source": [
        "## **Quick Sort**"
      ]
    },
    {
      "cell_type": "code",
      "metadata": {
        "id": "6HVy5ZbuoTuU",
        "colab_type": "code",
        "colab": {}
      },
      "source": [
        "def quick_sort(arr):\n",
        "    \n",
        "    if len(arr) == 0:      #base case (if length of the array is 0, it is already sorted)\n",
        "      return arr\n",
        "    \n",
        "    pivot = len(arr) // 2  #the mid element is the pivot \n",
        "    left = [i for i in arr if i < arr[pivot]]      #elements smaller than the pivot are placed to its left\n",
        "    mid = [i for i in arr if i == arr[pivot]]      #elements equal to the pivot are placed near the mid position and need not be sorted \n",
        "    right = [i for i in arr if i > arr[pivot]]     #elements greater than the pivot are placed to its right\n",
        "    return quick_sort(left) + mid + quick_sort(right)      #recursively sort the left, middle and right list. Join them and return the result"
      ],
      "execution_count": 0,
      "outputs": []
    },
    {
      "cell_type": "code",
      "metadata": {
        "id": "kRyfkW3Qr83n",
        "colab_type": "code",
        "colab": {}
      },
      "source": [
        "arr=[3,2,13,4,6,5,7,-8,1,-2]"
      ],
      "execution_count": 0,
      "outputs": []
    },
    {
      "cell_type": "code",
      "metadata": {
        "id": "IvrFU4Tlp81r",
        "colab_type": "code",
        "colab": {
          "base_uri": "https://localhost:8080/",
          "height": 34
        },
        "outputId": "7c8ddc1d-c457-4ebe-d8b2-f825ca08b49c"
      },
      "source": [
        "quick_sort(arr)"
      ],
      "execution_count": 40,
      "outputs": [
        {
          "output_type": "execute_result",
          "data": {
            "text/plain": [
              "[-8, -2, 1, 2, 3, 4, 5, 6, 7, 13]"
            ]
          },
          "metadata": {
            "tags": []
          },
          "execution_count": 40
        }
      ]
    },
    {
      "cell_type": "markdown",
      "metadata": {
        "id": "h87usTkVnZ9q",
        "colab_type": "text"
      },
      "source": [
        "## **Relative Sort Array**\n",
        "Given two arrays arr1 and arr2, the elements of arr2 are distinct, and all elements in arr2 are also in arr1.\n",
        "\n",
        "Sort the elements of arr1 such that the relative ordering of items in arr1 are the same as in arr2.  Elements that don't appear in arr2 should be placed at the end of arr1 in ascending order.\n",
        "\n",
        "\n",
        "Input: arr1 = [2,3,1,3,2,4,6,7,9,2,19], arr2 = [2,1,4,3,9,6]\n",
        "Output: [2,2,2,1,4,3,3,9,6,7,19]"
      ]
    },
    {
      "cell_type": "code",
      "metadata": {
        "id": "ND4o88XZnVb8",
        "colab_type": "code",
        "colab": {}
      },
      "source": [
        "def relative_sort(arr1,arr2):\n",
        "      p=0\n",
        "      for i in arr2:\n",
        "          for j in range(p,len(arr1)):\n",
        "              if i == arr1[j]:\n",
        "                  temp=arr1[p]\n",
        "                  arr1[p]=arr1[j]\n",
        "                  arr1[j]=temp\n",
        "                  p=p+1\n",
        "\n",
        "      return arr1[:p]+quick_sort(arr1[p:])"
      ],
      "execution_count": 0,
      "outputs": []
    },
    {
      "cell_type": "code",
      "metadata": {
        "id": "eQJid6Jdn0zU",
        "colab_type": "code",
        "colab": {
          "base_uri": "https://localhost:8080/",
          "height": 34
        },
        "outputId": "5eed05c5-edc9-4583-d174-56d446f5a0d9"
      },
      "source": [
        "arr1 = [2,3,1,3,2,4,6,7,9,2,19] \n",
        "arr2 = [2,1,4,3,9,6] \n",
        "relative_sort(arr1,arr2)"
      ],
      "execution_count": 23,
      "outputs": [
        {
          "output_type": "execute_result",
          "data": {
            "text/plain": [
              "[2, 2, 2, 1, 4, 3, 3, 9, 6, 7, 19]"
            ]
          },
          "metadata": {
            "tags": []
          },
          "execution_count": 23
        }
      ]
    },
    {
      "cell_type": "markdown",
      "metadata": {
        "id": "Y9lvbmD8wjfK",
        "colab_type": "text"
      },
      "source": [
        "## **Valid Anagram**\n",
        "Given two strings s and t , write a function to determine if t is an anagram of s.\n",
        "\n",
        "Input: s = \"anagram\", t = \"nagaram\"\n",
        "Output: true"
      ]
    },
    {
      "cell_type": "code",
      "metadata": {
        "id": "I88H9OgXr0qi",
        "colab_type": "code",
        "colab": {}
      },
      "source": [
        "def is_anagram(s,t):\n",
        "  s1=[ord(i) for i in s]\n",
        "  t1=[ord(i) for i in t]\n",
        "\n",
        "  s1=quick_sort(s1)\n",
        "  t1=quick_sort(t1)\n",
        "  \n",
        "  return s1==t1"
      ],
      "execution_count": 0,
      "outputs": []
    },
    {
      "cell_type": "code",
      "metadata": {
        "id": "azermcjorpvz",
        "colab_type": "code",
        "colab": {
          "base_uri": "https://localhost:8080/",
          "height": 34
        },
        "outputId": "9d6a6162-1bf3-4e16-ef17-92bea9440fed"
      },
      "source": [
        "s = \"cat\"\n",
        "t = \"car\"\n",
        "is_anagram(s,t)"
      ],
      "execution_count": 47,
      "outputs": [
        {
          "output_type": "execute_result",
          "data": {
            "text/plain": [
              "False"
            ]
          },
          "metadata": {
            "tags": []
          },
          "execution_count": 47
        }
      ]
    },
    {
      "cell_type": "code",
      "metadata": {
        "id": "4alrNmHYwzpv",
        "colab_type": "code",
        "colab": {
          "base_uri": "https://localhost:8080/",
          "height": 34
        },
        "outputId": "bdaa51d9-4d69-43a4-cf19-ec86cdd09108"
      },
      "source": [
        "s = \"anagram\"\n",
        "t = \"nagaram\"\n",
        "is_anagram(s,t)"
      ],
      "execution_count": 49,
      "outputs": [
        {
          "output_type": "execute_result",
          "data": {
            "text/plain": [
              "True"
            ]
          },
          "metadata": {
            "tags": []
          },
          "execution_count": 49
        }
      ]
    },
    {
      "cell_type": "markdown",
      "metadata": {
        "id": "kyuC00gx0Yg8",
        "colab_type": "text"
      },
      "source": [
        "## **Sort Colors**\n",
        "Given an array with n objects colored red, white or blue, sort them in-place so that objects of the same color are adjacent, with the colors in the order red, white and blue.\n",
        "\n",
        "Here, we will use the integers 0, 1, and 2 to represent the color red, white, and blue respectively.\n",
        "\n",
        "Input: [2,0,2,1,1,0]\n",
        "Output: [0,0,1,1,2,2]"
      ]
    },
    {
      "cell_type": "code",
      "metadata": {
        "id": "-4FSl_bow_r-",
        "colab_type": "code",
        "colab": {}
      },
      "source": [
        "def sortColors1(arr):\n",
        "  zeros=len([i for i in arr if i==0])\n",
        "  ones=len([i for i in arr if i==1])\n",
        "  twos=len([i for i in arr if i==2])\n",
        "  for i in range(zeros):\n",
        "    arr[i]=0\n",
        "  for i in range(zeros,zeros+ones):\n",
        "    arr[i]=1\n",
        "  for i in range(zeros+ones,zeros+ones+twos):\n",
        "    arr[i]=2\n",
        "  \n",
        "  return arr"
      ],
      "execution_count": 0,
      "outputs": []
    },
    {
      "cell_type": "code",
      "metadata": {
        "id": "r3cUXLT3y6Fe",
        "colab_type": "code",
        "colab": {
          "base_uri": "https://localhost:8080/",
          "height": 34
        },
        "outputId": "db8e4e64-631b-4921-8124-4695ef3efcc8"
      },
      "source": [
        "arr=[2,0,2,1,1,0]\n",
        "sortColors(arr)\n"
      ],
      "execution_count": 57,
      "outputs": [
        {
          "output_type": "execute_result",
          "data": {
            "text/plain": [
              "[0, 0, 1, 1, 2, 2]"
            ]
          },
          "metadata": {
            "tags": []
          },
          "execution_count": 57
        }
      ]
    },
    {
      "cell_type": "code",
      "metadata": {
        "id": "TT58uaAY07HL",
        "colab_type": "code",
        "colab": {}
      },
      "source": [
        "def sortColors2(arr):\n",
        "  return quick_sort(arr)"
      ],
      "execution_count": 0,
      "outputs": []
    },
    {
      "cell_type": "code",
      "metadata": {
        "id": "CAoehsfZ1AYU",
        "colab_type": "code",
        "colab": {
          "base_uri": "https://localhost:8080/",
          "height": 34
        },
        "outputId": "1c01ed0c-bedb-4dda-f24c-2b3e31e643c9"
      },
      "source": [
        "arr=[2,0,2,1,1,0]\n",
        "sortColors(arr)\n"
      ],
      "execution_count": 60,
      "outputs": [
        {
          "output_type": "execute_result",
          "data": {
            "text/plain": [
              "[0, 0, 1, 1, 2, 2]"
            ]
          },
          "metadata": {
            "tags": []
          },
          "execution_count": 60
        }
      ]
    }
  ]
}