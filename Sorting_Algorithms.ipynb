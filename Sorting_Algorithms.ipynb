{
  "nbformat": 4,
  "nbformat_minor": 0,
  "metadata": {
    "colab": {
      "name": "Sorting Algorithms.ipynb",
      "version": "0.3.2",
      "provenance": [],
      "collapsed_sections": [],
      "include_colab_link": true
    },
    "kernelspec": {
      "name": "python3",
      "display_name": "Python 3"
    }
  },
  "cells": [
    {
      "cell_type": "markdown",
      "metadata": {
        "id": "view-in-github",
        "colab_type": "text"
      },
      "source": [
        "<a href=\"https://colab.research.google.com/github/manashpratim/Algorithms-and-Data-Structures/blob/master/Sorting_Algorithms.ipynb\" target=\"_parent\"><img src=\"https://colab.research.google.com/assets/colab-badge.svg\" alt=\"Open In Colab\"/></a>"
      ]
    },
    {
      "cell_type": "markdown",
      "metadata": {
        "id": "rxXXopVN7Xfr",
        "colab_type": "text"
      },
      "source": [
        "## **Bubble Sort**"
      ]
    },
    {
      "cell_type": "code",
      "metadata": {
        "id": "MFg2lzBCkbKA",
        "colab_type": "code",
        "colab": {}
      },
      "source": [
        "def bubble_sort(arr):\n",
        "  \n",
        "  for i in range(len(arr)-1,0,-1):      #loop backwards\n",
        "    \n",
        "    for j in range(i):        \n",
        "        if arr[j] > arr[j+1]:         \n",
        "          temp = arr[j+1]\n",
        "          arr[j+1] = arr[j]\n",
        "          arr[j] =temp\n",
        "          \n",
        "  return arr"
      ],
      "execution_count": 0,
      "outputs": []
    },
    {
      "cell_type": "code",
      "metadata": {
        "id": "JYLTsPip9pN5",
        "colab_type": "code",
        "colab": {}
      },
      "source": [
        "arr=[3,2,13,4,6,5,7,-8,1,-2]"
      ],
      "execution_count": 0,
      "outputs": []
    },
    {
      "cell_type": "code",
      "metadata": {
        "id": "Di8U5NkZ-04K",
        "colab_type": "code",
        "colab": {
          "base_uri": "https://localhost:8080/",
          "height": 34
        },
        "outputId": "8ed47736-4bef-4d60-b287-9007d34ec157"
      },
      "source": [
        " bubble_sort(arr)"
      ],
      "execution_count": 13,
      "outputs": [
        {
          "output_type": "execute_result",
          "data": {
            "text/plain": [
              "[-8, -2, 1, 2, 3, 4, 5, 6, 7, 13]"
            ]
          },
          "metadata": {
            "tags": []
          },
          "execution_count": 13
        }
      ]
    },
    {
      "cell_type": "markdown",
      "metadata": {
        "id": "lFk-lTmwATyj",
        "colab_type": "text"
      },
      "source": [
        "## **Selection Sort**"
      ]
    },
    {
      "cell_type": "code",
      "metadata": {
        "id": "3gme69Cf_Qiz",
        "colab_type": "code",
        "colab": {}
      },
      "source": [
        "def selection_sort(arr):\n",
        "\n",
        "  for i in range(len(arr)-1): \n",
        "    min_pos=i                           #initializing the first position as the position of the minimum element\n",
        "    \n",
        "    for j in range(i+1,len(arr)):       \n",
        "      if arr[min_pos]>arr[j]:           #find the minimum element\n",
        "        min_pos=j\n",
        "    temp = arr[min_pos]                 #swapping (minimum element is put at the front of the array)\n",
        "    arr[min_pos] = arr[i]\n",
        "    arr[i] =temp\n",
        "    \n",
        "  return arr"
      ],
      "execution_count": 0,
      "outputs": []
    },
    {
      "cell_type": "code",
      "metadata": {
        "id": "3fqsrRsrHE14",
        "colab_type": "code",
        "colab": {}
      },
      "source": [
        "arr=[3,2,13,4,6,5,7,-8,1,-2]"
      ],
      "execution_count": 0,
      "outputs": []
    },
    {
      "cell_type": "code",
      "metadata": {
        "id": "4Z8qUqHOClxn",
        "colab_type": "code",
        "colab": {
          "base_uri": "https://localhost:8080/",
          "height": 34
        },
        "outputId": "f1c8db1f-c107-4887-e967-17a69d329771"
      },
      "source": [
        "selection_sort(arr)"
      ],
      "execution_count": 44,
      "outputs": [
        {
          "output_type": "execute_result",
          "data": {
            "text/plain": [
              "[-8, -2, 1, 2, 3, 4, 5, 6, 7, 13]"
            ]
          },
          "metadata": {
            "tags": []
          },
          "execution_count": 44
        }
      ]
    },
    {
      "cell_type": "markdown",
      "metadata": {
        "id": "XEE4J8-eYTHQ",
        "colab_type": "text"
      },
      "source": [
        "## **Insertion Sort**"
      ]
    },
    {
      "cell_type": "code",
      "metadata": {
        "id": "KmoIDLyLYXPN",
        "colab_type": "code",
        "colab": {}
      },
      "source": [
        "def insertion_sort(arr):\n",
        "  \n",
        "  for i in range(1,len(arr)):\n",
        "    for j in (range(i,0,-1)):\n",
        "      if arr[j]<arr[j-1]:\n",
        "        temp=arr[j]\n",
        "        arr[j]=arr[j-1]\n",
        "        arr[j-1]=temp  \n",
        "  \n",
        "  return arr"
      ],
      "execution_count": 0,
      "outputs": []
    },
    {
      "cell_type": "code",
      "metadata": {
        "id": "WXeTwNxWa27D",
        "colab_type": "code",
        "colab": {}
      },
      "source": [
        "arr=[3,4,13,2,6,5,7,-8,1,-2]"
      ],
      "execution_count": 0,
      "outputs": []
    },
    {
      "cell_type": "code",
      "metadata": {
        "id": "YNS-5czAb5nq",
        "colab_type": "code",
        "colab": {
          "base_uri": "https://localhost:8080/",
          "height": 34
        },
        "outputId": "ec20ae34-aac5-4677-cbcf-b92dc4ae2831"
      },
      "source": [
        "insertion_sort(arr)"
      ],
      "execution_count": 51,
      "outputs": [
        {
          "output_type": "execute_result",
          "data": {
            "text/plain": [
              "[-8, -2, 1, 2, 3, 4, 5, 6, 7, 13]"
            ]
          },
          "metadata": {
            "tags": []
          },
          "execution_count": 51
        }
      ]
    },
    {
      "cell_type": "markdown",
      "metadata": {
        "id": "elFbXjJwsMDX",
        "colab_type": "text"
      },
      "source": [
        "## **Quick Sort**"
      ]
    },
    {
      "cell_type": "code",
      "metadata": {
        "id": "6HVy5ZbuoTuU",
        "colab_type": "code",
        "colab": {}
      },
      "source": [
        "def quick_sort(arr):\n",
        "    \n",
        "    if len(arr) == 0:      #base case (if length of the array is 0, it is already sorted)\n",
        "      return arr\n",
        "    \n",
        "    pivot = len(arr) // 2  #the mid element is the pivot \n",
        "    left = [i for i in arr if i < arr[pivot]]      #elements smaller than the pivot are placed to its left\n",
        "    mid = [i for i in arr if i == arr[pivot]]      #elements equal to the pivot are placed near the mid position and need not be sorted \n",
        "    right = [i for i in arr if i > arr[pivot]]     #elements greater than the pivot are placed to its right\n",
        "    return quicksort_recursive(left) + mid + quicksort_recursive(right)      #recursively sort the left, middle and right list. Join them and return the result"
      ],
      "execution_count": 0,
      "outputs": []
    },
    {
      "cell_type": "code",
      "metadata": {
        "id": "kRyfkW3Qr83n",
        "colab_type": "code",
        "colab": {}
      },
      "source": [
        "arr=[3,2,13,4,6,5,7,-8,1,-2]"
      ],
      "execution_count": 0,
      "outputs": []
    },
    {
      "cell_type": "code",
      "metadata": {
        "id": "IvrFU4Tlp81r",
        "colab_type": "code",
        "colab": {
          "base_uri": "https://localhost:8080/",
          "height": 34
        },
        "outputId": "7c8ddc1d-c457-4ebe-d8b2-f825ca08b49c"
      },
      "source": [
        "quick_sort(arr)"
      ],
      "execution_count": 40,
      "outputs": [
        {
          "output_type": "execute_result",
          "data": {
            "text/plain": [
              "[-8, -2, 1, 2, 3, 4, 5, 6, 7, 13]"
            ]
          },
          "metadata": {
            "tags": []
          },
          "execution_count": 40
        }
      ]
    }
  ]
}