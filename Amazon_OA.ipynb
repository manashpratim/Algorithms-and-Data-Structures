{
  "nbformat": 4,
  "nbformat_minor": 0,
  "metadata": {
    "colab": {
      "name": "Amazon OA.ipynb",
      "provenance": [],
      "collapsed_sections": [],
      "authorship_tag": "ABX9TyM4CSYy/+nt5pfNdR8rSHBK",
      "include_colab_link": true
    },
    "kernelspec": {
      "name": "python3",
      "display_name": "Python 3"
    }
  },
  "cells": [
    {
      "cell_type": "markdown",
      "metadata": {
        "id": "view-in-github",
        "colab_type": "text"
      },
      "source": [
        "<a href=\"https://colab.research.google.com/github/manashpratim/Algorithms-and-Data-Structures/blob/master/Amazon_OA.ipynb\" target=\"_parent\"><img src=\"https://colab.research.google.com/assets/colab-badge.svg\" alt=\"Open In Colab\"/></a>"
      ]
    },
    {
      "cell_type": "markdown",
      "metadata": {
        "id": "rC5JwCV17pE6",
        "colab_type": "text"
      },
      "source": [
        "## **Amazon Fresh Promotion**"
      ]
    },
    {
      "cell_type": "code",
      "metadata": {
        "id": "Rs2Uu9Yn4ziY",
        "colab_type": "code",
        "colab": {}
      },
      "source": [
        "def fresh_promotion(codeList,shoppingCart):\n",
        "\n",
        "    if not codeList: return 1 \n",
        "    if not shoppingCart: return 0\n",
        "\n",
        "    i = 0\n",
        "    j = 0\n",
        "\n",
        "    while i<len(codeList) and j+len(codeList[i])<=len(shoppingCart):\n",
        "\n",
        "          match = True\n",
        "          \n",
        "          for k in range(len(codeList[i])):\n",
        "              #print(codeList[i][k],shoppingCart[j+k])\n",
        "              if codeList[i][k]!='anything' and codeList[i][k]!=shoppingCart[j+k]:\n",
        "                  match = False\n",
        "                  break\n",
        "\n",
        "          if match:\n",
        "            j+=len(codeList[i])\n",
        "            i+=1\n",
        "          else:\n",
        "            j+=1\n",
        "    #print(i)\n",
        "    return 1 if i==len(codeList) else 0 "
      ],
      "execution_count": null,
      "outputs": []
    },
    {
      "cell_type": "code",
      "metadata": {
        "id": "zrnZ-h0u4pYx",
        "colab_type": "code",
        "colab": {}
      },
      "source": [
        "codeList = [['apple', 'apple'], ['banana', 'anything', 'banana']] \n",
        "shoppingCart = ['orange', 'apple', 'apple', 'banana', 'orange', 'banana']\n",
        "\n",
        "codeList1 = [['apple', 'apple'], ['apple', 'apple', 'banana']] \n",
        "shoppingCart1 = ['apple', 'apple', 'apple', 'banana']"
      ],
      "execution_count": null,
      "outputs": []
    },
    {
      "cell_type": "code",
      "metadata": {
        "id": "IL1v3Am36DCr",
        "colab_type": "code",
        "colab": {
          "base_uri": "https://localhost:8080/",
          "height": 67
        },
        "outputId": "7ead1ab1-c8b2-4c95-ff8d-e8de41b86dbb"
      },
      "source": [
        "fresh_promotion(codeList1,shoppingCart1)"
      ],
      "execution_count": null,
      "outputs": [
        {
          "output_type": "stream",
          "text": [
            "apple apple\n",
            "apple apple\n"
          ],
          "name": "stdout"
        },
        {
          "output_type": "execute_result",
          "data": {
            "text/plain": [
              "0"
            ]
          },
          "metadata": {
            "tags": []
          },
          "execution_count": 18
        }
      ]
    },
    {
      "cell_type": "markdown",
      "metadata": {
        "id": "LDQkRI3GDkcw",
        "colab_type": "text"
      },
      "source": [
        "##**Substrings of size K with K distinct chars** "
      ]
    },
    {
      "cell_type": "code",
      "metadata": {
        "id": "gfifro7J87Q0",
        "colab_type": "code",
        "colab": {}
      },
      "source": [
        "# Time Complexity: O(n)\n",
        "# Space Complexity: O(1)\n",
        "def unique_character_strings(s,k):\n",
        "    if not s: return []\n",
        "\n",
        "    res = set()\n",
        "    start = 0\n",
        "    dic = {}\n",
        "\n",
        "    for end, char in enumerate(s):\n",
        "\n",
        "        if char in dic and dic[char]>=start:\n",
        "          start=dic[char]+1\n",
        "\n",
        "        dic[char] = end\n",
        "\n",
        "        if end-start+1==k:\n",
        "          res.add(s[start:start+k])\n",
        "          start+=1\n",
        "\n",
        "\n",
        "    return res"
      ],
      "execution_count": 42,
      "outputs": []
    },
    {
      "cell_type": "code",
      "metadata": {
        "id": "N6PiqLkn85QJ",
        "colab_type": "code",
        "colab": {}
      },
      "source": [
        "s = \"awaglknagawunagwkwagl\"\n",
        "k = 4\n",
        "s1 = \"abcabc\"\n",
        "k1 = 3\n",
        "s2 = \"awaglk\" \n",
        "k2 = 4"
      ],
      "execution_count": 40,
      "outputs": []
    },
    {
      "cell_type": "code",
      "metadata": {
        "id": "x4yxqCeWAdqZ",
        "colab_type": "code",
        "colab": {
          "base_uri": "https://localhost:8080/",
          "height": 34
        },
        "outputId": "ab759996-73b9-4792-c5be-975290c0152b"
      },
      "source": [
        "unique_character_strings(s2,k2)"
      ],
      "execution_count": 43,
      "outputs": [
        {
          "output_type": "execute_result",
          "data": {
            "text/plain": [
              "{'aglk', 'wagl'}"
            ]
          },
          "metadata": {
            "tags": []
          },
          "execution_count": 43
        }
      ]
    },
    {
      "cell_type": "code",
      "metadata": {
        "id": "thrZmg0kAdvf",
        "colab_type": "code",
        "colab": {
          "base_uri": "https://localhost:8080/",
          "height": 34
        },
        "outputId": "fd8477f3-50b2-4e33-f62a-db210acb60b2"
      },
      "source": [
        "unique_character_strings(s1,k1)"
      ],
      "execution_count": 45,
      "outputs": [
        {
          "output_type": "execute_result",
          "data": {
            "text/plain": [
              "{'abc', 'bca', 'cab'}"
            ]
          },
          "metadata": {
            "tags": []
          },
          "execution_count": 45
        }
      ]
    },
    {
      "cell_type": "code",
      "metadata": {
        "id": "huu0sFRG_wjX",
        "colab_type": "code",
        "colab": {
          "base_uri": "https://localhost:8080/",
          "height": 218
        },
        "outputId": "eeea4e73-d89c-4675-fbd3-6ddd4c4220ed"
      },
      "source": [
        "unique_character_strings(s,k)"
      ],
      "execution_count": 44,
      "outputs": [
        {
          "output_type": "execute_result",
          "data": {
            "text/plain": [
              "{'aglk',\n",
              " 'agwk',\n",
              " 'awun',\n",
              " 'gawu',\n",
              " 'glkn',\n",
              " 'knag',\n",
              " 'kwag',\n",
              " 'lkna',\n",
              " 'nagw',\n",
              " 'unag',\n",
              " 'wagl',\n",
              " 'wuna'}"
            ]
          },
          "metadata": {
            "tags": []
          },
          "execution_count": 44
        }
      ]
    },
    {
      "cell_type": "markdown",
      "metadata": {
        "id": "-U6gBFgNAifV",
        "colab_type": "text"
      },
      "source": [
        "## **Substrings of size K with K-1 distinct characters**"
      ]
    },
    {
      "cell_type": "code",
      "metadata": {
        "id": "s77RJFc6AINp",
        "colab_type": "code",
        "colab": {}
      },
      "source": [
        "# Time Complexity: O(n)\n",
        "# Space Complexity: O(1)\n",
        "def unique_character_strings1(s,k):\n",
        "    if not s: return []\n",
        "\n",
        "    res = set()\n",
        "    start = 0\n",
        "    dic = {}\n",
        "\n",
        "    for end, char in enumerate(s):\n",
        "\n",
        "        if char in dic and dic[char][0]>=start and dic[char][1]==2:\n",
        "          start=dic[char][0]+1\n",
        "          dic[char][1]-=1\n",
        "\n",
        "        if char not in dic:\n",
        "          dic[char] = []\n",
        "          dic[char].append(end)\n",
        "          dic[char].append(0)\n",
        "        \n",
        "        dic[char][0] = end\n",
        "        dic[char][1]+=1\n",
        "\n",
        "        if end-start+1==k:\n",
        "          match = False\n",
        "          for key in dic:\n",
        "            if dic[key][1]==2:\n",
        "              match = True\n",
        "          if match:\n",
        "            res.add(s[start:start+k])\n",
        "          dic[s[start]][1]-=1\n",
        "          start+=1\n",
        "\n",
        "\n",
        "    return res"
      ],
      "execution_count": 49,
      "outputs": []
    },
    {
      "cell_type": "code",
      "metadata": {
        "id": "0piPeDqzAxjL",
        "colab_type": "code",
        "colab": {}
      },
      "source": [
        "s = \"awaglknagawunagwkwagl\"\n",
        "k = 4\n",
        "s1 = \"abcabc\"\n",
        "k1 = 3\n",
        "s2 = \"awaglk\" \n",
        "k2 = 4"
      ],
      "execution_count": 50,
      "outputs": []
    },
    {
      "cell_type": "code",
      "metadata": {
        "id": "OyhGZQaiAyhE",
        "colab_type": "code",
        "colab": {
          "base_uri": "https://localhost:8080/",
          "height": 34
        },
        "outputId": "1f91b5e6-118a-42c6-b00e-156efca11aa4"
      },
      "source": [
        "unique_character_strings1(s,k)"
      ],
      "execution_count": 51,
      "outputs": [
        {
          "output_type": "execute_result",
          "data": {
            "text/plain": [
              "{'agaw', 'awag', 'gwkw', 'naga', 'wkwa'}"
            ]
          },
          "metadata": {
            "tags": []
          },
          "execution_count": 51
        }
      ]
    },
    {
      "cell_type": "code",
      "metadata": {
        "id": "HymPPai-A2J5",
        "colab_type": "code",
        "colab": {
          "base_uri": "https://localhost:8080/",
          "height": 34
        },
        "outputId": "c9b2144e-a519-4954-cf45-4aee258b75e5"
      },
      "source": [
        "unique_character_strings1(s1,k1)"
      ],
      "execution_count": 52,
      "outputs": [
        {
          "output_type": "execute_result",
          "data": {
            "text/plain": [
              "set()"
            ]
          },
          "metadata": {
            "tags": []
          },
          "execution_count": 52
        }
      ]
    },
    {
      "cell_type": "code",
      "metadata": {
        "id": "akQjz3hBA8M3",
        "colab_type": "code",
        "colab": {
          "base_uri": "https://localhost:8080/",
          "height": 34
        },
        "outputId": "c0054af6-4504-4a05-fbbf-668540377487"
      },
      "source": [
        "unique_character_strings1(s2,k2)"
      ],
      "execution_count": 53,
      "outputs": [
        {
          "output_type": "execute_result",
          "data": {
            "text/plain": [
              "{'awag'}"
            ]
          },
          "metadata": {
            "tags": []
          },
          "execution_count": 53
        }
      ]
    },
    {
      "cell_type": "markdown",
      "metadata": {
        "id": "z2Ek6-OFPiX_",
        "colab_type": "text"
      },
      "source": [
        "## **Favorite Genre**"
      ]
    },
    {
      "cell_type": "code",
      "metadata": {
        "id": "UT3u2z0vPm8_",
        "colab_type": "code",
        "colab": {}
      },
      "source": [
        "def favoriteGenre(userSongs,songGenres):\n",
        "\n",
        "      if not userSongs: return {} \n",
        "      res = {}\n",
        "\n",
        "      if not songGenres:\n",
        "        for user in userSongs:\n",
        "          res[user] = []\n",
        "        return res\n",
        "      \n",
        "      reversegenre = {}\n",
        "\n",
        "      for genre in songGenres:\n",
        "          for song in songGenres[genre]:\n",
        "              reversegenre[song] = genre\n",
        "\n",
        "      for user in userSongs:\n",
        "          dic = {}\n",
        "          for song in userSongs[user]:\n",
        "            genre = reversegenre[song]\n",
        "            if genre not in dic:\n",
        "              dic[genre] = 0\n",
        "            dic[genre]+=1\n",
        "\n",
        "          m = sorted(dic.values(),reverse=True)[0]\n",
        "          res[user] = []\n",
        "          for genre in dic:\n",
        "            if dic[genre]==m:\n",
        "              res[user].append(genre)\n",
        "\n",
        "\n",
        "      return res       "
      ],
      "execution_count": null,
      "outputs": []
    },
    {
      "cell_type": "code",
      "metadata": {
        "id": "_kiFu-0TR1RG",
        "colab_type": "code",
        "colab": {}
      },
      "source": [
        "userSongs = {  \n",
        "   \"David\": [\"song1\", \"song2\", \"song3\", \"song4\", \"song8\"],\n",
        "   \"Emma\":  [\"song5\", \"song6\", \"song7\"]\n",
        "}\n",
        "songGenres = {  \n",
        "   \"Rock\":    [\"song1\", \"song3\"],\n",
        "   \"Dubstep\": [\"song7\"],\n",
        "   \"Techno\":  [\"song2\", \"song4\"],\n",
        "   \"Pop\":     [\"song5\", \"song6\"],\n",
        "   \"Jazz\":    [\"song8\", \"song9\"]\n",
        "}\n",
        "\n",
        "userSongs1 = {  \n",
        "   \"David\": [\"song1\", \"song2\"],\n",
        "   \"Emma\":  [\"song3\", \"song4\"]\n",
        "}\n",
        "songGenres2 = {}"
      ],
      "execution_count": null,
      "outputs": []
    },
    {
      "cell_type": "code",
      "metadata": {
        "id": "I3aaQ-DVR7nH",
        "colab_type": "code",
        "colab": {
          "base_uri": "https://localhost:8080/",
          "height": 34
        },
        "outputId": "c21883d2-345f-46bb-ddc9-aef70167c55e"
      },
      "source": [
        "favoriteGenre(userSongs,songGenres)"
      ],
      "execution_count": null,
      "outputs": [
        {
          "output_type": "execute_result",
          "data": {
            "text/plain": [
              "{'David': ['Rock', 'Techno'], 'Emma': ['Pop']}"
            ]
          },
          "metadata": {
            "tags": []
          },
          "execution_count": 63
        }
      ]
    },
    {
      "cell_type": "markdown",
      "metadata": {
        "id": "w5XGYDbt19hx",
        "colab_type": "text"
      },
      "source": [
        "## **Optimization**"
      ]
    },
    {
      "cell_type": "code",
      "metadata": {
        "id": "LgwGb_i-2ArV",
        "colab_type": "code",
        "colab": {}
      },
      "source": [
        "# Time Complexity: O(n^2)\n",
        "# Space Complexity: O(n) #Excluding output\n",
        "def findTarget1(l1,l2,target):\n",
        "    import heapq\n",
        "    mini = float('inf')\n",
        "    h = []\n",
        "    for i in range(len(l1)):\n",
        "        for j in range(len(l2)):\n",
        "            s = l1[i][1]+l2[j][1]\n",
        "            if s<=target:\n",
        "                heapq.heappush(h,(abs(target-s),l1[i][0],l2[j][0]))\n",
        "                \n",
        "    \n",
        "    if len(h)>0:\n",
        "        mini = h[0][0]\n",
        "        res = []\n",
        "        while h and h[0][0]==mini:\n",
        "            a,b,c = heapq.heappop(h)\n",
        "            res.append([b,c])\n",
        "            \n",
        "        return res\n",
        "    \n",
        "    return []"
      ],
      "execution_count": 10,
      "outputs": []
    },
    {
      "cell_type": "code",
      "metadata": {
        "id": "vpnuFCa05Y-x",
        "colab_type": "code",
        "colab": {}
      },
      "source": [
        "# Time Complexity: O(nlogn)\n",
        "# Space Complexity: O(1) #excluding solution\n",
        "\n",
        "def findTarget2(l1,l2,target):\n",
        "\n",
        "    if not l1 or not l2: return []\n",
        "    diff = float('inf')\n",
        "\n",
        "    l1.sort(key = lambda k: k[1])\n",
        "    l2.sort(key = lambda k: k[1]) \n",
        "    \n",
        "    size1 = len(l1)\n",
        "    size2 = len(l2)\n",
        "    res = []\n",
        "    i = 0\n",
        "    j = size2-1\n",
        "    while i<size1 and j>=0:\n",
        "          s = l1[i][1]+l2[j][1]\n",
        "          if target - s == diff:\n",
        "              res.append([l1[i][0],l2[j][0]])\n",
        "          elif target-s<diff and target>=s:\n",
        "              res = []\n",
        "              res.append([l1[i][0],l2[j][0]])\n",
        "              diff = target-s\n",
        "                \n",
        "    \n",
        "          if target<s:\n",
        "            j-=1\n",
        "          else:\n",
        "            i+=1\n",
        "    return res"
      ],
      "execution_count": 16,
      "outputs": []
    },
    {
      "cell_type": "code",
      "metadata": {
        "id": "5HE-9hnS40tw",
        "colab_type": "code",
        "colab": {}
      },
      "source": [
        "a = [[1, 2], [2, 4], [3, 6]]\n",
        "b = [[1, 2]]\n",
        "target = 7\n",
        "a1 = [[1, 3], [2, 5], [3, 7], [4, 10]]\n",
        "b1 = [[1, 2], [2, 3], [3, 4], [4, 5]]\n",
        "target1 = 10\n",
        "\n",
        "a2 = [[1, 8], [2, 7], [3, 14]]\n",
        "b2 = [[1, 5], [2, 10], [3, 14]]\n",
        "target2 = 20\n",
        "\n",
        "a3 = [[1, 8], [2, 15], [3, 9]]\n",
        "b3 = [[1, 8], [2, 11], [3, 12]]\n",
        "target3 = 20"
      ],
      "execution_count": 8,
      "outputs": []
    },
    {
      "cell_type": "code",
      "metadata": {
        "id": "CXhUucf75zNG",
        "colab_type": "code",
        "colab": {
          "base_uri": "https://localhost:8080/",
          "height": 34
        },
        "outputId": "e131e334-d5fb-4cd1-ebd5-cd2d309a5951"
      },
      "source": [
        "findTarget(a2,b2,target2)"
      ],
      "execution_count": 24,
      "outputs": [
        {
          "output_type": "execute_result",
          "data": {
            "text/plain": [
              "[[3, 1]]"
            ]
          },
          "metadata": {
            "tags": []
          },
          "execution_count": 24
        }
      ]
    },
    {
      "cell_type": "code",
      "metadata": {
        "id": "bapfk9854vYf",
        "colab_type": "code",
        "colab": {
          "base_uri": "https://localhost:8080/",
          "height": 34
        },
        "outputId": "56759774-fba0-4980-e38b-fb41d9df43d0"
      },
      "source": [
        "findTarget1(a2,b2,target2)"
      ],
      "execution_count": 23,
      "outputs": [
        {
          "output_type": "execute_result",
          "data": {
            "text/plain": [
              "[[3, 1]]"
            ]
          },
          "metadata": {
            "tags": []
          },
          "execution_count": 23
        }
      ]
    },
    {
      "cell_type": "markdown",
      "metadata": {
        "id": "2AFjRaUaDqv8",
        "colab_type": "text"
      },
      "source": [
        "## **Missing Dice Rolls**"
      ]
    },
    {
      "cell_type": "code",
      "metadata": {
        "id": "NksGx-5bDuyD",
        "colab_type": "code",
        "colab": {}
      },
      "source": [
        "def missing_dice_rolls(arr,f,m):\n",
        "\n",
        "    if not arr: return 0\n",
        "    total = sum(arr)\n",
        "    count = len(arr)+f\n",
        "    target = m*count - total\n",
        "\n",
        "    if target>6*count:\n",
        "      return [0]\n",
        "\n",
        "    nums = [1,2,3,4,5,6]\n",
        "    res = []\n",
        "    def backtracking(nums,curr,total,f,target,match):\n",
        "\n",
        "      if total<target and len(curr)<f and not match:\n",
        "\n",
        "        for i in range(len(nums)):\n",
        "            curr.append(nums[i])\n",
        "            total+=nums[i]\n",
        "\n",
        "            if total==target and len(curr)==f:\n",
        "                res.append(curr[:])\n",
        "                match = True\n",
        "                break\n",
        "            elif total<target and len(curr)<f and not match:\n",
        "                match = backtracking(nums,curr,total,f,target,match)\n",
        "\n",
        "            total-=curr.pop()\n",
        "      if match:\n",
        "        return True\n",
        "      return False\n",
        "\n",
        "\n",
        "    if backtracking(nums,[],0,f,target,False):\n",
        "      return res\n",
        "    return [0]"
      ],
      "execution_count": 89,
      "outputs": []
    },
    {
      "cell_type": "code",
      "metadata": {
        "id": "Bs7tahl9IezS",
        "colab_type": "code",
        "colab": {}
      },
      "source": [
        "A = [3, 2, 4, 3] \n",
        "F = 2 \n",
        "M = 4\n",
        "\n",
        "A1 = [1,5,6] \n",
        "F1 = 4\n",
        "M1 = 3\n",
        "\n",
        "A2 = [1, 2, 3, 4] \n",
        "F2 = 4 \n",
        "M2 = 6"
      ],
      "execution_count": 83,
      "outputs": []
    },
    {
      "cell_type": "code",
      "metadata": {
        "id": "sYHnPTooI2-w",
        "colab_type": "code",
        "colab": {
          "base_uri": "https://localhost:8080/",
          "height": 67
        },
        "outputId": "0f4d5bf6-7b60-434e-bf03-125bdc960542"
      },
      "source": [
        "print(missing_dice_rolls(A,F,M))\n",
        "print(missing_dice_rolls(A1,F1,M1))\n",
        "print(missing_dice_rolls(A2,F2,M2))"
      ],
      "execution_count": 90,
      "outputs": [
        {
          "output_type": "stream",
          "text": [
            "[[6, 6]]\n",
            "[[1, 1, 1, 6]]\n",
            "[0]\n"
          ],
          "name": "stdout"
        }
      ]
    },
    {
      "cell_type": "markdown",
      "metadata": {
        "id": "xl0oxmNFh3tv",
        "colab_type": "text"
      },
      "source": [
        "## **Largest Item Associations**"
      ]
    },
    {
      "cell_type": "code",
      "metadata": {
        "id": "jBR1sLfjExGO",
        "colab_type": "code",
        "colab": {}
      },
      "source": [
        "from collections import deque\n",
        "import heapq\n",
        "def dfs(curr_ver,graph,visited):\n",
        "\n",
        "    stack = deque()\n",
        "    stack.append(curr_ver)\n",
        "    res = []\n",
        "    visited.add(curr_ver)\n",
        "    while stack:\n",
        "\n",
        "        node = stack.pop()\n",
        "        heapq.heappush(res,node)\n",
        "\n",
        "        for ver in graph[node]:\n",
        "            if ver not in visited:\n",
        "              visited.add(ver)\n",
        "              stack.append(ver)\n",
        "\n",
        "    return res,visited\n",
        "\n",
        "\n",
        "def largest_item_associations(arr):\n",
        "\n",
        "    if not arr: return []\n",
        "\n",
        "    graph = {}\n",
        "    edges = set()\n",
        "    for i,edge in enumerate(arr):\n",
        "        edge1 = edge[0]\n",
        "        edge2 = edge[1]\n",
        "\n",
        "        if edge1 not in graph:\n",
        "          graph[edge1] = []\n",
        "          edges.add(edge1)\n",
        "        if edge2 not in graph:\n",
        "          graph[edge2] = []\n",
        "          edges.add(edge2)\n",
        "\n",
        "        graph[edge1].append(edge2)\n",
        "        graph[edge2].append(edge1)\n",
        "      \n",
        "    visited = set()\n",
        "    out = []\n",
        "\n",
        "    for node in graph:\n",
        "        if node not in visited: \n",
        "            res,visited = dfs(node,graph,visited)\n",
        "        \n",
        "        if not out:\n",
        "          out.append(res[:])\n",
        "        elif len(out[0])<len(res):\n",
        "            out.pop()\n",
        "            out.append(res[:])\n",
        "        elif len(out[0])==len(res) and \" \".join(out[0])>\" \".join(res):\n",
        "            out.pop()\n",
        "            out.append(res[:])\n",
        "    return out"
      ],
      "execution_count": 99,
      "outputs": []
    },
    {
      "cell_type": "code",
      "metadata": {
        "id": "hRkSyZUblzZD",
        "colab_type": "code",
        "colab": {}
      },
      "source": [
        "arr1 = [['Item1', 'Item2'], ['Item3', 'Item4'], ['Item4', 'Item5']]\n",
        "arr2 = [['Item1', 'Item2'], ['Item2', 'Item3'], ['Item5', 'Item6']]\n",
        "arr3 = [['Item1', 'Item2'], ['Item2', 'Item3'], ['Item4', 'Item5'], ['Item5', 'Item6']]"
      ],
      "execution_count": 103,
      "outputs": []
    },
    {
      "cell_type": "code",
      "metadata": {
        "id": "oaSION4vlv0_",
        "colab_type": "code",
        "colab": {
          "base_uri": "https://localhost:8080/",
          "height": 67
        },
        "outputId": "4b74d737-191b-4e70-fdaf-a41a0d282a1a"
      },
      "source": [
        "print(largest_item_associations(arr1))\n",
        "print(largest_item_associations(arr2))\n",
        "print(largest_item_associations(arr3))"
      ],
      "execution_count": 106,
      "outputs": [
        {
          "output_type": "stream",
          "text": [
            "[['Item3', 'Item4', 'Item5']]\n",
            "[['Item1', 'Item2', 'Item3']]\n",
            "[['Item1', 'Item2', 'Item3']]\n"
          ],
          "name": "stdout"
        }
      ]
    },
    {
      "cell_type": "markdown",
      "metadata": {
        "id": "SgUUv5bK7xIy",
        "colab_type": "text"
      },
      "source": [
        "## **Minimum cost to repair all edges**"
      ]
    },
    {
      "cell_type": "code",
      "metadata": {
        "id": "cSyb9OUl72FY",
        "colab_type": "code",
        "colab": {}
      },
      "source": [
        "def minimumCost(N,edges,edgesToRepair):\n",
        "    \n",
        "    if N<1 or (not edges and not edgesToRepair) or not edgesToRepair: return -1\n",
        "    \n",
        "    df = {i:i for i in range(1,N+1)}\n",
        "    edges_to_be_repaired = set([(i,j) for i,j,k in edgesToRepair])\n",
        "    edgesToRepair.sort(key = lambda x:x[-1])\n",
        "    res = 0\n",
        "\n",
        "    def find(node):\n",
        "        if df[node]!=node:\n",
        "            df[node] = find(df[node])\n",
        "        return df[node]\n",
        "\n",
        "    for node1,node2 in edges:\n",
        "        if (node1,node2) not in edges_to_be_repaired and not (node2,node1) in edges_to_be_repaired:\n",
        "          x = find(node1)\n",
        "          y = find(node2)\n",
        "          edges_to_be_repaired.add((node1,node2))\n",
        "          if x!=y:\n",
        "              df[x] = y  \n",
        "    \n",
        "    for node1,node2,cost in edgesToRepair:\n",
        "        x = find(node1)\n",
        "        y = find(node2)\n",
        "        if x!=y:\n",
        "            \n",
        "            res+=cost\n",
        "            df[x] = y\n",
        "            \n",
        "    return res if len(set([find(i) for i in df]))==1 else -1"
      ],
      "execution_count": 176,
      "outputs": []
    },
    {
      "cell_type": "code",
      "metadata": {
        "id": "dLgSzxLh81oP",
        "colab_type": "code",
        "colab": {}
      },
      "source": [
        "n = 6\n",
        "edges = [[1, 2], [2, 3], [4, 5], [3, 5], [1, 6], [2, 4]]\n",
        "edgesToRepair = [[1, 6, 410], [2, 4, 800]]\n",
        "\n",
        "n1 = 5\n",
        "edges1 = [[1, 2], [2, 3], [3, 4], [4, 5], [1, 5]]\n",
        "edgesToRepair1 = [[1, 2, 12], [3, 4, 30], [1, 5, 8]]\n",
        "\n",
        "n2 = 6\n",
        "edges2 = [[1, 2], [2, 3], [4, 5], [5, 6], [1, 5], [2, 4], [3, 4]]\n",
        "edgesToRepair2 = [[1, 5, 110], [2, 4, 84], [3, 4, 79]]"
      ],
      "execution_count": 179,
      "outputs": []
    },
    {
      "cell_type": "code",
      "metadata": {
        "id": "nV9-Bova92zE",
        "colab_type": "code",
        "colab": {
          "base_uri": "https://localhost:8080/",
          "height": 67
        },
        "outputId": "85c5d48c-bf3e-4773-dd4c-804926dfdc56"
      },
      "source": [
        "print(minimumCost(n,edges,edgesToRepair))\n",
        "print(minimumCost(n1,edges1,edgesToRepair1))\n",
        "print(minimumCost(n2,edges2,edgesToRepair2))"
      ],
      "execution_count": 178,
      "outputs": [
        {
          "output_type": "stream",
          "text": [
            "410\n",
            "20\n",
            "79\n"
          ],
          "name": "stdout"
        }
      ]
    },
    {
      "cell_type": "markdown",
      "metadata": {
        "id": "8YwV9obWF7R3",
        "colab_type": "text"
      },
      "source": [
        "## **Truck Box**"
      ]
    },
    {
      "cell_type": "code",
      "metadata": {
        "id": "rSB5Sv_sGACC",
        "colab_type": "code",
        "colab": {}
      },
      "source": [
        "def get_max_unit(num,boxes,unitSize,unitsPerBox,truckSize):\n",
        "    \n",
        "    if not truckSize or not boxes or not num or not unitsPerBox or not unitSize: return 0\n",
        "    import heapq\n",
        "\n",
        "    h = []\n",
        "\n",
        "    for i,box in enumerate(boxes):\n",
        "        heapq.heappush(h,(-unitsPerBox[i],box))\n",
        "\n",
        "    res = 0\n",
        "    while truckSize>0 and h:\n",
        "\n",
        "        a,b = heapq.heappop(h)\n",
        "        res+=(-a)\n",
        "        b-=1\n",
        "        truckSize-=1\n",
        "        if b:\n",
        "          heapq.heappush(h,(a,b)) \n",
        "\n",
        "    return res"
      ],
      "execution_count": 182,
      "outputs": []
    },
    {
      "cell_type": "code",
      "metadata": {
        "id": "RymYXAZiF_Pe",
        "colab_type": "code",
        "colab": {
          "base_uri": "https://localhost:8080/",
          "height": 50
        },
        "outputId": "dcee59bc-f881-49ec-8787-a3ed379a4ec8"
      },
      "source": [
        "print(get_max_unit(3, [1,2,3], 3, [3,2,1], 3))\n",
        "print(get_max_unit(3, [2,5,3], 3, [3,2,1], 50))"
      ],
      "execution_count": 183,
      "outputs": [
        {
          "output_type": "stream",
          "text": [
            "7\n",
            "19\n"
          ],
          "name": "stdout"
        }
      ]
    }
  ]
}