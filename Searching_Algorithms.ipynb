{
  "nbformat": 4,
  "nbformat_minor": 0,
  "metadata": {
    "colab": {
      "name": "Searching Algorithms.ipynb",
      "version": "0.3.2",
      "provenance": [],
      "collapsed_sections": [],
      "include_colab_link": true
    },
    "kernelspec": {
      "name": "python3",
      "display_name": "Python 3"
    }
  },
  "cells": [
    {
      "cell_type": "markdown",
      "metadata": {
        "id": "view-in-github",
        "colab_type": "text"
      },
      "source": [
        "<a href=\"https://colab.research.google.com/github/manashpratim/Algorithms-and-Data-Structures/blob/master/Searching_Algorithms.ipynb\" target=\"_parent\"><img src=\"https://colab.research.google.com/assets/colab-badge.svg\" alt=\"Open In Colab\"/></a>"
      ]
    },
    {
      "cell_type": "markdown",
      "metadata": {
        "id": "xBT76Pyo20TV",
        "colab_type": "text"
      },
      "source": [
        "## **Sequential Search**"
      ]
    },
    {
      "cell_type": "markdown",
      "metadata": {
        "id": "LlAve3SY3Ig0",
        "colab_type": "text"
      },
      "source": [
        "**Unordered List**"
      ]
    },
    {
      "cell_type": "code",
      "metadata": {
        "id": "tcWTSE1510YR",
        "colab_type": "code",
        "colab": {}
      },
      "source": [
        "def seq_search(arr,element):\n",
        "  \n",
        "  for i in range(len(arr)):\n",
        "    if arr[i] == element:\n",
        "      return True\n",
        "        \n",
        "  return False"
      ],
      "execution_count": 0,
      "outputs": []
    },
    {
      "cell_type": "code",
      "metadata": {
        "id": "nsQTkkRR35Yi",
        "colab_type": "code",
        "colab": {}
      },
      "source": [
        "arr = [1,9,2,8,3,4,7,5,6]"
      ],
      "execution_count": 0,
      "outputs": []
    },
    {
      "cell_type": "code",
      "metadata": {
        "id": "sgi25LNd3_xM",
        "colab_type": "code",
        "colab": {
          "base_uri": "https://localhost:8080/",
          "height": 34
        },
        "outputId": "86764490-2d1c-408c-a26f-5ea43dcb2ccb"
      },
      "source": [
        "seq_search(arr,8)"
      ],
      "execution_count": 7,
      "outputs": [
        {
          "output_type": "execute_result",
          "data": {
            "text/plain": [
              "True"
            ]
          },
          "metadata": {
            "tags": []
          },
          "execution_count": 7
        }
      ]
    },
    {
      "cell_type": "code",
      "metadata": {
        "id": "CeCZ95B94E2t",
        "colab_type": "code",
        "colab": {
          "base_uri": "https://localhost:8080/",
          "height": 34
        },
        "outputId": "b7b9e402-2d2d-4b7a-b1d4-c40225c25ec6"
      },
      "source": [
        "seq_search(arr,2.5)"
      ],
      "execution_count": 8,
      "outputs": [
        {
          "output_type": "execute_result",
          "data": {
            "text/plain": [
              "False"
            ]
          },
          "metadata": {
            "tags": []
          },
          "execution_count": 8
        }
      ]
    },
    {
      "cell_type": "markdown",
      "metadata": {
        "id": "2O-oA9uc4OFM",
        "colab_type": "text"
      },
      "source": [
        "**Ordered List**"
      ]
    },
    {
      "cell_type": "code",
      "metadata": {
        "id": "gcz4meWK4Q_U",
        "colab_type": "code",
        "colab": {}
      },
      "source": [
        "def ordered_seq_search(arr,element):\n",
        "  \n",
        "  for i in range(len(arr)):\n",
        " \n",
        "    if arr[i]==element:\n",
        "      return True\n",
        "      break\n",
        "    elif arr[i]>element:\n",
        "      return False\n",
        "      break\n",
        "  "
      ],
      "execution_count": 0,
      "outputs": []
    },
    {
      "cell_type": "code",
      "metadata": {
        "id": "SHDjLQmY5MwM",
        "colab_type": "code",
        "colab": {
          "base_uri": "https://localhost:8080/",
          "height": 34
        },
        "outputId": "1ba67241-514b-44fc-ffe5-23e3b9b0e1f8"
      },
      "source": [
        "ordered_seq_search(sorted(arr),4)"
      ],
      "execution_count": 16,
      "outputs": [
        {
          "output_type": "execute_result",
          "data": {
            "text/plain": [
              "True"
            ]
          },
          "metadata": {
            "tags": []
          },
          "execution_count": 16
        }
      ]
    },
    {
      "cell_type": "code",
      "metadata": {
        "id": "DEnprFcc5VYc",
        "colab_type": "code",
        "colab": {
          "base_uri": "https://localhost:8080/",
          "height": 34
        },
        "outputId": "f73b25b8-dccc-413a-ceca-3811994a58dc"
      },
      "source": [
        "ordered_seq_search(sorted(arr),4.5)"
      ],
      "execution_count": 17,
      "outputs": [
        {
          "output_type": "execute_result",
          "data": {
            "text/plain": [
              "False"
            ]
          },
          "metadata": {
            "tags": []
          },
          "execution_count": 17
        }
      ]
    },
    {
      "cell_type": "markdown",
      "metadata": {
        "id": "15P8j3ML5rCg",
        "colab_type": "text"
      },
      "source": [
        "## **Binary Search**"
      ]
    },
    {
      "cell_type": "code",
      "metadata": {
        "id": "JmGRSZFb7XVr",
        "colab_type": "code",
        "colab": {}
      },
      "source": [
        "def binary_search(arr,element):\n",
        "  \n",
        "  first=0\n",
        "  last=len(arr)-1\n",
        "  \n",
        "  found=False\n",
        "  \n",
        "  while first <= last and not found:\n",
        "    \n",
        "    mid=(first+last)//2\n",
        "    \n",
        "    if arr[mid]==element:   #best case\n",
        "      found=True\n",
        "      \n",
        "    else:\n",
        "      \n",
        "      if element<arr[mid]:  #check in the LHS of the mid\n",
        "        last=mid-1\n",
        "        \n",
        "      else:                 #check in RHS of the mid\n",
        "        first=mid+1\n",
        "        \n",
        "  return found"
      ],
      "execution_count": 0,
      "outputs": []
    },
    {
      "cell_type": "code",
      "metadata": {
        "id": "ih7p6Rj98ohG",
        "colab_type": "code",
        "colab": {}
      },
      "source": [
        "arr=[1,9,2,8,3,4,7,5,6]"
      ],
      "execution_count": 0,
      "outputs": []
    },
    {
      "cell_type": "code",
      "metadata": {
        "id": "NTx0BFyL8uot",
        "colab_type": "code",
        "colab": {
          "base_uri": "https://localhost:8080/",
          "height": 34
        },
        "outputId": "28ba85a2-07db-41f1-bff0-b130722c70a9"
      },
      "source": [
        " binary_search(sorted(arr),8)  #input array must be sorted"
      ],
      "execution_count": 23,
      "outputs": [
        {
          "output_type": "execute_result",
          "data": {
            "text/plain": [
              "True"
            ]
          },
          "metadata": {
            "tags": []
          },
          "execution_count": 23
        }
      ]
    },
    {
      "cell_type": "code",
      "metadata": {
        "id": "rjS_apnA9Fqf",
        "colab_type": "code",
        "colab": {
          "base_uri": "https://localhost:8080/",
          "height": 34
        },
        "outputId": "c286b300-e71d-49cf-db10-706595ef9c96"
      },
      "source": [
        "binary_search(sorted(arr),4.5)"
      ],
      "execution_count": 24,
      "outputs": [
        {
          "output_type": "execute_result",
          "data": {
            "text/plain": [
              "False"
            ]
          },
          "metadata": {
            "tags": []
          },
          "execution_count": 24
        }
      ]
    },
    {
      "cell_type": "markdown",
      "metadata": {
        "id": "8s7sdk8T9OTG",
        "colab_type": "text"
      },
      "source": [
        "**Recursive Implementation**"
      ]
    },
    {
      "cell_type": "code",
      "metadata": {
        "id": "6Dvbhg9C9SCa",
        "colab_type": "code",
        "colab": {}
      },
      "source": [
        "def binary_search_recursive(arr,element):\n",
        "  \n",
        "  if len(arr)==0:\n",
        "    return False\n",
        "  \n",
        "  else:\n",
        "    \n",
        "    mid=len(arr)//2\n",
        "    \n",
        "    if arr[mid]==element:\n",
        "      return True\n",
        "    \n",
        "    else:\n",
        "      \n",
        "      if element>arr[mid]:                     #check in the LHS of mid\n",
        "        return binary_search_recursive(arr[mid+1:],element)\n",
        "      \n",
        "      else:                                    #check in the RHS of mid\n",
        "        return  binary_search_recursive(arr[:mid],element)\n",
        "  "
      ],
      "execution_count": 0,
      "outputs": []
    },
    {
      "cell_type": "code",
      "metadata": {
        "id": "UvOfP668_6ll",
        "colab_type": "code",
        "colab": {
          "base_uri": "https://localhost:8080/",
          "height": 34
        },
        "outputId": "b7bc7ebc-f66c-4ac2-a2ab-81c21cb6c29a"
      },
      "source": [
        "binary_search_recursive(sorted(arr),8)"
      ],
      "execution_count": 26,
      "outputs": [
        {
          "output_type": "execute_result",
          "data": {
            "text/plain": [
              "True"
            ]
          },
          "metadata": {
            "tags": []
          },
          "execution_count": 26
        }
      ]
    },
    {
      "cell_type": "code",
      "metadata": {
        "id": "6YKXmLjWAF3x",
        "colab_type": "code",
        "colab": {
          "base_uri": "https://localhost:8080/",
          "height": 34
        },
        "outputId": "0154e10d-2e2e-4111-e833-045d54e56d59"
      },
      "source": [
        "binary_search_recursive(sorted(arr),4.5)"
      ],
      "execution_count": 27,
      "outputs": [
        {
          "output_type": "execute_result",
          "data": {
            "text/plain": [
              "False"
            ]
          },
          "metadata": {
            "tags": []
          },
          "execution_count": 27
        }
      ]
    }
  ]
}