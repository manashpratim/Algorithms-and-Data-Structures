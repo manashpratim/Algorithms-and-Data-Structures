{
  "nbformat": 4,
  "nbformat_minor": 0,
  "metadata": {
    "colab": {
      "name": "Searching Algorithms.ipynb",
      "version": "0.3.2",
      "provenance": [],
      "collapsed_sections": [],
      "include_colab_link": true
    },
    "kernelspec": {
      "name": "python3",
      "display_name": "Python 3"
    }
  },
  "cells": [
    {
      "cell_type": "markdown",
      "metadata": {
        "id": "view-in-github",
        "colab_type": "text"
      },
      "source": [
        "<a href=\"https://colab.research.google.com/github/manashpratim/Algorithms-and-Data-Structures/blob/master/Searching_Algorithms.ipynb\" target=\"_parent\"><img src=\"https://colab.research.google.com/assets/colab-badge.svg\" alt=\"Open In Colab\"/></a>"
      ]
    },
    {
      "cell_type": "markdown",
      "metadata": {
        "id": "xBT76Pyo20TV",
        "colab_type": "text"
      },
      "source": [
        "## **Sequential Search**"
      ]
    },
    {
      "cell_type": "markdown",
      "metadata": {
        "id": "LlAve3SY3Ig0",
        "colab_type": "text"
      },
      "source": [
        "**Unordered List**"
      ]
    },
    {
      "cell_type": "code",
      "metadata": {
        "id": "tcWTSE1510YR",
        "colab_type": "code",
        "colab": {}
      },
      "source": [
        "def seq_search(arr,element):\n",
        "  \n",
        "  for i in range(len(arr)):\n",
        "    if arr[i] == element:\n",
        "      return True\n",
        "        \n",
        "  return False"
      ],
      "execution_count": 0,
      "outputs": []
    },
    {
      "cell_type": "code",
      "metadata": {
        "id": "nsQTkkRR35Yi",
        "colab_type": "code",
        "colab": {}
      },
      "source": [
        "arr = [1,9,2,8,3,4,7,5,6]"
      ],
      "execution_count": 0,
      "outputs": []
    },
    {
      "cell_type": "code",
      "metadata": {
        "id": "sgi25LNd3_xM",
        "colab_type": "code",
        "colab": {
          "base_uri": "https://localhost:8080/",
          "height": 34
        },
        "outputId": "86764490-2d1c-408c-a26f-5ea43dcb2ccb"
      },
      "source": [
        "seq_search(arr,8)"
      ],
      "execution_count": 7,
      "outputs": [
        {
          "output_type": "execute_result",
          "data": {
            "text/plain": [
              "True"
            ]
          },
          "metadata": {
            "tags": []
          },
          "execution_count": 7
        }
      ]
    },
    {
      "cell_type": "code",
      "metadata": {
        "id": "CeCZ95B94E2t",
        "colab_type": "code",
        "colab": {
          "base_uri": "https://localhost:8080/",
          "height": 34
        },
        "outputId": "b7b9e402-2d2d-4b7a-b1d4-c40225c25ec6"
      },
      "source": [
        "seq_search(arr,2.5)"
      ],
      "execution_count": 8,
      "outputs": [
        {
          "output_type": "execute_result",
          "data": {
            "text/plain": [
              "False"
            ]
          },
          "metadata": {
            "tags": []
          },
          "execution_count": 8
        }
      ]
    },
    {
      "cell_type": "markdown",
      "metadata": {
        "id": "2O-oA9uc4OFM",
        "colab_type": "text"
      },
      "source": [
        "**Ordered List**"
      ]
    },
    {
      "cell_type": "code",
      "metadata": {
        "id": "gcz4meWK4Q_U",
        "colab_type": "code",
        "colab": {}
      },
      "source": [
        "def ordered_seq_search(arr,element):\n",
        "  \n",
        "  for i in range(len(arr)):\n",
        " \n",
        "    if arr[i]==element:\n",
        "      return True\n",
        "      break\n",
        "    elif arr[i]>element:\n",
        "      return False\n",
        "      break\n",
        "  "
      ],
      "execution_count": 0,
      "outputs": []
    },
    {
      "cell_type": "code",
      "metadata": {
        "id": "SHDjLQmY5MwM",
        "colab_type": "code",
        "colab": {
          "base_uri": "https://localhost:8080/",
          "height": 34
        },
        "outputId": "1ba67241-514b-44fc-ffe5-23e3b9b0e1f8"
      },
      "source": [
        "ordered_seq_search(sorted(arr),4)"
      ],
      "execution_count": 16,
      "outputs": [
        {
          "output_type": "execute_result",
          "data": {
            "text/plain": [
              "True"
            ]
          },
          "metadata": {
            "tags": []
          },
          "execution_count": 16
        }
      ]
    },
    {
      "cell_type": "code",
      "metadata": {
        "id": "DEnprFcc5VYc",
        "colab_type": "code",
        "colab": {
          "base_uri": "https://localhost:8080/",
          "height": 34
        },
        "outputId": "f73b25b8-dccc-413a-ceca-3811994a58dc"
      },
      "source": [
        "ordered_seq_search(sorted(arr),4.5)"
      ],
      "execution_count": 17,
      "outputs": [
        {
          "output_type": "execute_result",
          "data": {
            "text/plain": [
              "False"
            ]
          },
          "metadata": {
            "tags": []
          },
          "execution_count": 17
        }
      ]
    },
    {
      "cell_type": "markdown",
      "metadata": {
        "id": "15P8j3ML5rCg",
        "colab_type": "text"
      },
      "source": [
        "## **Binary Search**"
      ]
    },
    {
      "cell_type": "code",
      "metadata": {
        "id": "JmGRSZFb7XVr",
        "colab_type": "code",
        "colab": {}
      },
      "source": [
        "def binary_search(arr,element):\n",
        "  \n",
        "  first=0\n",
        "  last=len(arr)-1\n",
        "  \n",
        "  found=False\n",
        "  \n",
        "  while first <= last and not found:\n",
        "    \n",
        "    mid=(first+last)//2\n",
        "    \n",
        "    if arr[mid]==element:   #best case\n",
        "      found=True\n",
        "      \n",
        "    else:\n",
        "      \n",
        "      if element<arr[mid]:  #check in the LHS of the mid\n",
        "        last=mid-1\n",
        "        \n",
        "      else:                 #check in RHS of the mid\n",
        "        first=mid+1\n",
        "        \n",
        "  return found"
      ],
      "execution_count": 0,
      "outputs": []
    },
    {
      "cell_type": "code",
      "metadata": {
        "id": "ih7p6Rj98ohG",
        "colab_type": "code",
        "colab": {}
      },
      "source": [
        "arr=[1,9,2,8,3,4,7,5,6]"
      ],
      "execution_count": 0,
      "outputs": []
    },
    {
      "cell_type": "code",
      "metadata": {
        "id": "NTx0BFyL8uot",
        "colab_type": "code",
        "colab": {
          "base_uri": "https://localhost:8080/",
          "height": 34
        },
        "outputId": "28ba85a2-07db-41f1-bff0-b130722c70a9"
      },
      "source": [
        " binary_search(sorted(arr),8)  #input array must be sorted"
      ],
      "execution_count": 23,
      "outputs": [
        {
          "output_type": "execute_result",
          "data": {
            "text/plain": [
              "True"
            ]
          },
          "metadata": {
            "tags": []
          },
          "execution_count": 23
        }
      ]
    },
    {
      "cell_type": "code",
      "metadata": {
        "id": "rjS_apnA9Fqf",
        "colab_type": "code",
        "colab": {
          "base_uri": "https://localhost:8080/",
          "height": 34
        },
        "outputId": "c286b300-e71d-49cf-db10-706595ef9c96"
      },
      "source": [
        "binary_search(sorted(arr),4.5)"
      ],
      "execution_count": 24,
      "outputs": [
        {
          "output_type": "execute_result",
          "data": {
            "text/plain": [
              "False"
            ]
          },
          "metadata": {
            "tags": []
          },
          "execution_count": 24
        }
      ]
    },
    {
      "cell_type": "markdown",
      "metadata": {
        "id": "8s7sdk8T9OTG",
        "colab_type": "text"
      },
      "source": [
        "**Recursive Implementation**"
      ]
    },
    {
      "cell_type": "code",
      "metadata": {
        "id": "6Dvbhg9C9SCa",
        "colab_type": "code",
        "colab": {}
      },
      "source": [
        "def binary_search_recursive(arr,element):\n",
        "  \n",
        "  if len(arr)==0:               #base case\n",
        "    return False\n",
        "  \n",
        "  else:\n",
        "    \n",
        "    mid=len(arr)//2\n",
        "    \n",
        "    if arr[mid]==element:\n",
        "      return True\n",
        "    \n",
        "    else:\n",
        "      \n",
        "      if element>arr[mid]:                     #check in the LHS of mid\n",
        "        return binary_search_recursive(arr[mid+1:],element)\n",
        "      \n",
        "      else:                                    #check in the RHS of mid\n",
        "        return  binary_search_recursive(arr[:mid],element)\n",
        "  "
      ],
      "execution_count": 0,
      "outputs": []
    },
    {
      "cell_type": "code",
      "metadata": {
        "id": "UvOfP668_6ll",
        "colab_type": "code",
        "colab": {
          "base_uri": "https://localhost:8080/",
          "height": 34
        },
        "outputId": "b7bc7ebc-f66c-4ac2-a2ab-81c21cb6c29a"
      },
      "source": [
        "binary_search_recursive(sorted(arr),8)"
      ],
      "execution_count": 26,
      "outputs": [
        {
          "output_type": "execute_result",
          "data": {
            "text/plain": [
              "True"
            ]
          },
          "metadata": {
            "tags": []
          },
          "execution_count": 26
        }
      ]
    },
    {
      "cell_type": "code",
      "metadata": {
        "id": "6YKXmLjWAF3x",
        "colab_type": "code",
        "colab": {
          "base_uri": "https://localhost:8080/",
          "height": 34
        },
        "outputId": "0154e10d-2e2e-4111-e833-045d54e56d59"
      },
      "source": [
        "binary_search_recursive(sorted(arr),4.5)"
      ],
      "execution_count": 27,
      "outputs": [
        {
          "output_type": "execute_result",
          "data": {
            "text/plain": [
              "False"
            ]
          },
          "metadata": {
            "tags": []
          },
          "execution_count": 27
        }
      ]
    },
    {
      "cell_type": "markdown",
      "metadata": {
        "id": "uumdY0ejPyqu",
        "colab_type": "text"
      },
      "source": [
        "## **Hash Table**"
      ]
    },
    {
      "cell_type": "code",
      "metadata": {
        "id": "U2sFqUu3QClP",
        "colab_type": "code",
        "colab": {}
      },
      "source": [
        "class HashTable(object):\n",
        "  \n",
        "  def __init__(self,size):\n",
        "    self.size = size               #defining the size of the hash table\n",
        "    self.slots = [None]*self.size  #initializing the slots as a list with None values\n",
        "    self.data = [None]*self.size   #initializing the data as a list with None values\n",
        "    \n",
        "  def hashfunction(self,key,size):\n",
        "    return key%size                #the remainder method\n",
        "  \n",
        "  def rehashfunction(self,oldhash,size):       #for collision resolution\n",
        "    return (oldhash+1)%size      \n",
        "    \n",
        "  def insert(self,key,data):                   #function to insert elements into a hash table\n",
        "    \n",
        "    if type(key) == str:\n",
        "      s=0\n",
        "      for i in key:\n",
        "          s=s+ord(i)\n",
        "      hashvalue = self.hashfunction(s,len(self.slots))\n",
        "      \n",
        "    else:\n",
        "      hashvalue = self.hashfunction(key,len(self.slots))\n",
        "    \n",
        "    if self.slots[hashvalue] == None:\n",
        "      self.slots[hashvalue] = key\n",
        "      self.data[hashvalue]  = data\n",
        "      \n",
        "    else:                                      #incase of collision\n",
        "      \n",
        "      if self.slots[hashvalue] ==  key:        #if the key already exists, replace the data\n",
        "        self.data[hashvalue]  = data\n",
        "        \n",
        "      else:\n",
        "        \n",
        "        nextslot = self.rehashfunction(hashvalue,len(self.slots))\n",
        "        \n",
        "        while self.slots[nextslot] != None and self.slots[nextslot] !=key:    #loop till we find an empty slot or a slot where the key exists\n",
        "          nextslot=self.rehashfunction(nextslot,len(self.slots))\n",
        "          \n",
        "        if self.slots[nextslot] == None:\n",
        "          self.slots[nextslot] = key\n",
        "          self.data[nextslot] = data\n",
        "        \n",
        "        else:                                                  #if the key already exists\n",
        "          \n",
        "          self.data[nextslot] = data\n",
        "          \n",
        "          \n",
        "  def get(self,key):                                           #function to get the data, given a key\n",
        "    \n",
        "    if type(key) == str:\n",
        "      s=0\n",
        "      for i in key:\n",
        "          s=s+ord(i)\n",
        "      startslot = self.hashfunction(s,len(self.slots))\n",
        "    \n",
        "    else:\n",
        "      startslot = self.hashfunction(key,len(self.slots))\n",
        "    \n",
        "    data = None\n",
        "    found = False\n",
        "    stop = False\n",
        "    position = startslot\n",
        "    \n",
        "    while self.slots[position]!=None and not found and not stop:\n",
        "      \n",
        "      if self.slots[position] == key:                           #if key is found, retrieve the data\n",
        "        found = True\n",
        "        data = self.data[position]\n",
        "        \n",
        "      else:  \n",
        "        position=self.rehashfunction(position,len(self.slots))\n",
        "        \n",
        "        if position == startslot:                               #if after searching the whole hashtable we end up in the startslot again, then stop searching\n",
        "          stop = True\n",
        "          \n",
        "    if data == None:\n",
        "      print('Invalid Key!')\n",
        "    \n",
        "    else:\n",
        "          \n",
        "      return data \n",
        "  \n",
        "  \n",
        "  def delete(self,key):                                           #function to delete the key and data for a given key\n",
        "    \n",
        "    if type(key) == str:\n",
        "      s=0\n",
        "      for i in key:\n",
        "          s=s+ord(i)\n",
        "      startslot = self.hashfunction(s,len(self.slots))\n",
        "    \n",
        "    else:\n",
        "      startslot = self.hashfunction(key,len(self.slots))\n",
        "    \n",
        "    found = False\n",
        "    stop = False\n",
        "    position = startslot\n",
        "    \n",
        "    while self.slots[position]!=None and not found and not stop:\n",
        "      \n",
        "      if self.slots[position] == key:                           #if key is found, set the data and key to None\n",
        "        found = True\n",
        "        self.slots[position] = None\n",
        "        self.data[position] = None\n",
        "        \n",
        "      else:  \n",
        "        position=self.rehashfunction(position,len(self.slots))\n",
        "        \n",
        "        if position == startslot:                               #if after searching the whole hashtable we end up in the startslot again, then stop searching\n",
        "          stop = True\n",
        "          \n",
        "    if found == False:\n",
        "      print('Invalid Key!')\n",
        "    \n",
        "    else:\n",
        "      print('Key {} deleted!'.format(key))"
      ],
      "execution_count": 0,
      "outputs": []
    },
    {
      "cell_type": "code",
      "metadata": {
        "id": "5J22BZQGZuJJ",
        "colab_type": "code",
        "colab": {}
      },
      "source": [
        "h = HashTable(4)   #creating a hashtable of size 4"
      ],
      "execution_count": 0,
      "outputs": []
    },
    {
      "cell_type": "code",
      "metadata": {
        "id": "o2LRzr_eZ1Ql",
        "colab_type": "code",
        "colab": {}
      },
      "source": [
        "h.insert(1,5)    #here, the key is 1 and the data at the key is 5\n",
        "h.insert(2,'two') "
      ],
      "execution_count": 0,
      "outputs": []
    },
    {
      "cell_type": "code",
      "metadata": {
        "id": "Deea2bNZaFb_",
        "colab_type": "code",
        "colab": {
          "base_uri": "https://localhost:8080/",
          "height": 34
        },
        "outputId": "48a32d79-0290-4107-9d12-2d7b51e88e4f"
      },
      "source": [
        "h.get(1)"
      ],
      "execution_count": 105,
      "outputs": [
        {
          "output_type": "execute_result",
          "data": {
            "text/plain": [
              "5"
            ]
          },
          "metadata": {
            "tags": []
          },
          "execution_count": 105
        }
      ]
    },
    {
      "cell_type": "code",
      "metadata": {
        "id": "qx6kdp3lb_s2",
        "colab_type": "code",
        "colab": {
          "base_uri": "https://localhost:8080/",
          "height": 34
        },
        "outputId": "0c76b779-a6b7-425d-abf6-421ad61e3619"
      },
      "source": [
        "h.get(2)"
      ],
      "execution_count": 106,
      "outputs": [
        {
          "output_type": "execute_result",
          "data": {
            "text/plain": [
              "'two'"
            ]
          },
          "metadata": {
            "tags": []
          },
          "execution_count": 106
        }
      ]
    },
    {
      "cell_type": "code",
      "metadata": {
        "id": "pnQCRGTYcD3z",
        "colab_type": "code",
        "colab": {
          "base_uri": "https://localhost:8080/",
          "height": 34
        },
        "outputId": "2c656791-137b-4d50-f389-df18966e6d57"
      },
      "source": [
        "h.get(10)"
      ],
      "execution_count": 107,
      "outputs": [
        {
          "output_type": "stream",
          "text": [
            "Invalid Key!\n"
          ],
          "name": "stdout"
        }
      ]
    },
    {
      "cell_type": "code",
      "metadata": {
        "id": "Yi0n7UgkcH4n",
        "colab_type": "code",
        "colab": {}
      },
      "source": [
        "h.insert('apple',5)\n",
        "h.insert('mango','tasty')"
      ],
      "execution_count": 0,
      "outputs": []
    },
    {
      "cell_type": "code",
      "metadata": {
        "id": "ivlDbtpQcLYb",
        "colab_type": "code",
        "colab": {
          "base_uri": "https://localhost:8080/",
          "height": 34
        },
        "outputId": "dd469010-4902-4953-8047-355bd1ddfedf"
      },
      "source": [
        "h.get('apple')"
      ],
      "execution_count": 109,
      "outputs": [
        {
          "output_type": "execute_result",
          "data": {
            "text/plain": [
              "5"
            ]
          },
          "metadata": {
            "tags": []
          },
          "execution_count": 109
        }
      ]
    },
    {
      "cell_type": "code",
      "metadata": {
        "id": "5Q1EjQdsiSxt",
        "colab_type": "code",
        "colab": {
          "base_uri": "https://localhost:8080/",
          "height": 34
        },
        "outputId": "fef9676b-42e2-4236-9d56-7c2baeac4c44"
      },
      "source": [
        "h.get('mango')"
      ],
      "execution_count": 110,
      "outputs": [
        {
          "output_type": "execute_result",
          "data": {
            "text/plain": [
              "'tasty'"
            ]
          },
          "metadata": {
            "tags": []
          },
          "execution_count": 110
        }
      ]
    },
    {
      "cell_type": "code",
      "metadata": {
        "id": "weMbyCJ8hLhO",
        "colab_type": "code",
        "colab": {
          "base_uri": "https://localhost:8080/",
          "height": 34
        },
        "outputId": "99f5ce74-ab65-4b15-b587-fd6667752b9e"
      },
      "source": [
        "h.delete('apple')"
      ],
      "execution_count": 111,
      "outputs": [
        {
          "output_type": "stream",
          "text": [
            "Key apple deleted!\n"
          ],
          "name": "stdout"
        }
      ]
    },
    {
      "cell_type": "code",
      "metadata": {
        "id": "4bK0UudwhPFK",
        "colab_type": "code",
        "colab": {
          "base_uri": "https://localhost:8080/",
          "height": 34
        },
        "outputId": "a7603e3a-25d9-4d63-e56b-359d0b763fa2"
      },
      "source": [
        "h.get('apple')"
      ],
      "execution_count": 112,
      "outputs": [
        {
          "output_type": "stream",
          "text": [
            "Invalid Key!\n"
          ],
          "name": "stdout"
        }
      ]
    },
    {
      "cell_type": "markdown",
      "metadata": {
        "id": "pthMzLXChVhy",
        "colab_type": "text"
      },
      "source": [
        "**That's the end of the hash table implementation.**\n",
        "\n",
        "**Note:**  Python already has a built-in dictionary object that serves as a Hash Table."
      ]
    }
  ]
}