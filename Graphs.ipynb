{
  "nbformat": 4,
  "nbformat_minor": 0,
  "metadata": {
    "colab": {
      "name": "Graphs.ipynb",
      "provenance": [],
      "collapsed_sections": [],
      "authorship_tag": "ABX9TyP6g5oYqRh9z1jCggUxB916",
      "include_colab_link": true
    },
    "kernelspec": {
      "name": "python3",
      "display_name": "Python 3"
    }
  },
  "cells": [
    {
      "cell_type": "markdown",
      "metadata": {
        "id": "view-in-github",
        "colab_type": "text"
      },
      "source": [
        "<a href=\"https://colab.research.google.com/github/manashpratim/Algorithms-and-Data-Structures/blob/master/Graphs.ipynb\" target=\"_parent\"><img src=\"https://colab.research.google.com/assets/colab-badge.svg\" alt=\"Open In Colab\"/></a>"
      ]
    },
    {
      "cell_type": "markdown",
      "metadata": {
        "id": "yL2knVvzoeee",
        "colab_type": "text"
      },
      "source": [
        "# **Graphs Implementation (Adjacency List)**"
      ]
    },
    {
      "cell_type": "code",
      "metadata": {
        "id": "UoeDBQ6D2Ioa",
        "colab_type": "code",
        "colab": {}
      },
      "source": [
        "class Node(object):\n",
        "  def __init__(self,val,next=None):\n",
        "    self.val = val\n",
        "    self.next = next"
      ],
      "execution_count": 0,
      "outputs": []
    },
    {
      "cell_type": "code",
      "metadata": {
        "id": "ElAyJL0B3oT0",
        "colab_type": "code",
        "colab": {}
      },
      "source": [
        "class LinkedList(object):\n",
        "  def __init__(self):\n",
        "    self.head = None\n",
        "  \n",
        "  def isempty(self):\n",
        "    if not self.head: \n",
        "      return True\n",
        "    return False\n",
        "\n",
        "  def get_head(self):\n",
        "    return self.head\n",
        "\n",
        "  def insert_at_head(self,val):\n",
        "      node = Node(val)\n",
        "      if self.isempty():\n",
        "        self.head = node\n",
        "      else:\n",
        "        node.next = self.head\n",
        "        self.head = node\n",
        "\n",
        "  def insert_at_tail(self,val):\n",
        "      node = Node(val)\n",
        "      if self.isempty():\n",
        "        self.head = node\n",
        "      else:\n",
        "        curr = self.head\n",
        "        while curr.next:\n",
        "          curr = curr.next\n",
        "        curr.next = node\n",
        "\n",
        "  def delete_at_head(self):\n",
        "      if self.isempty():\n",
        "        print('List is empty!')\n",
        "      else:\n",
        "        temp = self.head\n",
        "        self.head = self.head.next\n",
        "        print(str(temp.val) + ' deleted!')\n",
        "\n",
        "  def delete(self,val):\n",
        "      if self.isempty():\n",
        "        print('List is empty!')\n",
        "      else:\n",
        "        curr = self.head\n",
        "        prev = None\n",
        "        while curr:\n",
        "          if curr.val == val:\n",
        "            if prev:\n",
        "              prev.next =  curr.next\n",
        "            else:\n",
        "              self.head = curr.next\n",
        "            print(str(curr.val) + ' deleted!')\n",
        "            return\n",
        "          prev = curr\n",
        "          curr = curr.next\n",
        "        print(str(val)+' not in List!')\n",
        "\n",
        "  def length(self):\n",
        "    if self.isempty():\n",
        "        return 0\n",
        "    else:\n",
        "        l = 0\n",
        "        curr = self.head\n",
        "        while curr:\n",
        "          l = l + 1\n",
        "          curr = curr.next\n",
        "        return l\n",
        "        \n",
        "  def printll(self):\n",
        "      if self.isempty():\n",
        "        print('List is empty')\n",
        "        \n",
        "      else:\n",
        "        curr = self.head\n",
        "        \n",
        "        while curr:\n",
        "          print(curr.val,end= '-> ')\n",
        "          curr = curr.next\n",
        "          if not curr:\n",
        "            print('None')\n",
        "\n",
        "  "
      ],
      "execution_count": 0,
      "outputs": []
    },
    {
      "cell_type": "code",
      "metadata": {
        "id": "StHpTWouilmt",
        "colab_type": "code",
        "colab": {}
      },
      "source": [
        "class Graph(object):\n",
        "  def __init__(self,vertices):\n",
        "    self.vertices = vertices\n",
        "    self.arr = []\n",
        "\n",
        "    for i in range(self.vertices):\n",
        "      self.arr.append(LinkedList())\n",
        "  \n",
        "  def add_edge(self,source,des):\n",
        "\n",
        "    if source < self.vertices and des < self.vertices:\n",
        "      self.arr[source].insert_at_head(des)       \n",
        "      #self.arr[des].insert_at_head(source)               #Uncomment for undirected graph\n",
        "    \n",
        "  def print_graph(self):\n",
        "    for i in range(self.vertices):\n",
        "        print('Vertex ',str(i)+': ',end=' ')\n",
        "        self.arr[i].printll()\n",
        "        \n",
        "        "
      ],
      "execution_count": 0,
      "outputs": []
    },
    {
      "cell_type": "code",
      "metadata": {
        "id": "cSLY9zHp6tTO",
        "colab_type": "code",
        "colab": {}
      },
      "source": [
        "l = LinkedList()"
      ],
      "execution_count": 0,
      "outputs": []
    },
    {
      "cell_type": "code",
      "metadata": {
        "id": "WPAfFO5B60bc",
        "colab_type": "code",
        "colab": {
          "base_uri": "https://localhost:8080/",
          "height": 34
        },
        "outputId": "eee2b615-0511-41f2-c096-35e225ce1d9c"
      },
      "source": [
        "l.insert_at_head(3)\n",
        "l.insert_at_head(1)\n",
        "l.insert_at_tail(4)\n",
        "l.insert_at_head(6)\n",
        "l.printll()"
      ],
      "execution_count": 36,
      "outputs": [
        {
          "output_type": "stream",
          "text": [
            "6-> 1-> 3-> 4-> None\n"
          ],
          "name": "stdout"
        }
      ]
    },
    {
      "cell_type": "markdown",
      "metadata": {
        "id": "oB7wvVk36KDZ",
        "colab_type": "text"
      },
      "source": [
        "## **BFS**"
      ]
    },
    {
      "cell_type": "code",
      "metadata": {
        "id": "DYip03gHve5N",
        "colab_type": "code",
        "colab": {}
      },
      "source": [
        "def bfs_helper(graph,source):\n",
        "    q = []\n",
        "    q.append(source)\n",
        "    visited = set()\n",
        "    res = ''\n",
        "\n",
        "    while len(q)>0:\n",
        "      v = q.pop(0)  \n",
        "      if v not in visited:\n",
        "        temp = graph.arr[v].get_head()\n",
        "        while temp:\n",
        "          q.append(temp.val)\n",
        "          temp = temp.next\n",
        "        res+= str(v)\n",
        "        visited.add(v)\n",
        "    return res,visited\n",
        "\n",
        "def bfs(graph,source):\n",
        "    result,visited = bfs_helper(graph,source)\n",
        "    for i in range(graph.vertices):\n",
        "      if i not in visited:\n",
        "         res,_= bfs_helper(graph,i)\n",
        "         result+=res\n",
        "    return result"
      ],
      "execution_count": 0,
      "outputs": []
    },
    {
      "cell_type": "code",
      "metadata": {
        "id": "nGIBikdimqYa",
        "colab_type": "code",
        "colab": {
          "base_uri": "https://localhost:8080/",
          "height": 118
        },
        "outputId": "103921b7-a356-4224-d56b-d2cb9fe1116d"
      },
      "source": [
        "g = Graph(6)\n",
        "g.add_edge(0, 1)\n",
        "g.add_edge(0, 2)\n",
        "g.add_edge(1, 3)\n",
        "g.add_edge(1, 4)\n",
        "g.print_graph()"
      ],
      "execution_count": 97,
      "outputs": [
        {
          "output_type": "stream",
          "text": [
            "Vertex  0:  2-> 1-> None\n",
            "Vertex  1:  4-> 3-> None\n",
            "Vertex  2:  List is empty\n",
            "Vertex  3:  List is empty\n",
            "Vertex  4:  List is empty\n",
            "Vertex  5:  List is empty\n"
          ],
          "name": "stdout"
        }
      ]
    },
    {
      "cell_type": "code",
      "metadata": {
        "id": "OoSB5YmMpYGQ",
        "colab_type": "code",
        "colab": {
          "base_uri": "https://localhost:8080/",
          "height": 34
        },
        "outputId": "6bb0ff25-83a5-4ce2-b9dd-003e30e8eb33"
      },
      "source": [
        "bfs(g,0)"
      ],
      "execution_count": 99,
      "outputs": [
        {
          "output_type": "execute_result",
          "data": {
            "text/plain": [
              "'021435'"
            ]
          },
          "metadata": {
            "tags": []
          },
          "execution_count": 99
        }
      ]
    },
    {
      "cell_type": "markdown",
      "metadata": {
        "id": "3VoA5yj26Oq8",
        "colab_type": "text"
      },
      "source": [
        "## **DFS**"
      ]
    },
    {
      "cell_type": "code",
      "metadata": {
        "id": "rJ2azf-i1ylB",
        "colab_type": "code",
        "colab": {}
      },
      "source": [
        "def dfs_helper(graph,source):\n",
        "    s = []\n",
        "    s.append(source)\n",
        "    visited = set()\n",
        "    res = ''\n",
        "    while len(s)>0:\n",
        "      v = s.pop(0)  \n",
        "      if v not in visited:\n",
        "        temp = graph.arr[v].get_head()\n",
        "        while temp:\n",
        "          s.insert(0,temp.val)\n",
        "          temp = temp.next\n",
        "        res = res + str(v) \n",
        "        visited.add(v)\n",
        "    return res,visited\n",
        "\n",
        "def dfs(graph,source):\n",
        "    result,visited = dfs_helper(graph,source)\n",
        "    for i in range(graph.vertices):\n",
        "      if i not in visited:\n",
        "         res,_= dfs_helper(graph,i)\n",
        "         result+=res\n",
        "    return result"
      ],
      "execution_count": 0,
      "outputs": []
    },
    {
      "cell_type": "code",
      "metadata": {
        "id": "u3s_u2pA30d2",
        "colab_type": "code",
        "colab": {
          "base_uri": "https://localhost:8080/",
          "height": 134
        },
        "outputId": "40134243-47f5-4874-ae85-36f84b03f1b8"
      },
      "source": [
        "g = Graph(7)\n",
        "g.add_edge(1, 3)\n",
        "g.add_edge(1, 2)\n",
        "g.add_edge(2, 5)\n",
        "g.add_edge(2, 4)\n",
        "g.add_edge(3, 6)\n",
        "g.print_graph()"
      ],
      "execution_count": 87,
      "outputs": [
        {
          "output_type": "stream",
          "text": [
            "Vertex  0:  List is empty\n",
            "Vertex  1:  2-> 3-> None\n",
            "Vertex  2:  4-> 5-> None\n",
            "Vertex  3:  6-> None\n",
            "Vertex  4:  List is empty\n",
            "Vertex  5:  List is empty\n",
            "Vertex  6:  List is empty\n"
          ],
          "name": "stdout"
        }
      ]
    },
    {
      "cell_type": "code",
      "metadata": {
        "id": "p2GbY8Ex3nDU",
        "colab_type": "code",
        "colab": {
          "base_uri": "https://localhost:8080/",
          "height": 34
        },
        "outputId": "3cfc4f04-38da-4b47-a9c0-69432e8fd505"
      },
      "source": [
        "dfs(g,1)"
      ],
      "execution_count": 93,
      "outputs": [
        {
          "output_type": "execute_result",
          "data": {
            "text/plain": [
              "'1362540'"
            ]
          },
          "metadata": {
            "tags": []
          },
          "execution_count": 93
        }
      ]
    },
    {
      "cell_type": "markdown",
      "metadata": {
        "id": "aXz-AO98_kqe",
        "colab_type": "text"
      },
      "source": [
        "## **Detect Cycle**"
      ]
    },
    {
      "cell_type": "code",
      "metadata": {
        "id": "6pBbbAbT7Fcz",
        "colab_type": "code",
        "colab": {}
      },
      "source": [
        "def detect_helper(graph,source):#,visited):\n",
        "        q = []\n",
        "        q.append(source)\n",
        "        visited = set()\n",
        "\n",
        "        while len(q)>0:\n",
        "          v = q.pop(0)  \n",
        "          if v not in visited:\n",
        "            temp = graph.arr[v].get_head()\n",
        "            while temp:\n",
        "              q.append(temp.val)\n",
        "              temp = temp.next\n",
        "            visited.add(v)\n",
        "          else:\n",
        "            return True\n",
        "        return False\n",
        "\n",
        "def detect_cycle(graph):\n",
        "\n",
        "    for i in range(graph.vertices):\n",
        "        if detect_helper(graph,i)\n",
        "          return True      \n",
        "    return False"
      ],
      "execution_count": 0,
      "outputs": []
    },
    {
      "cell_type": "code",
      "metadata": {
        "id": "yQsq1pyD8fT6",
        "colab_type": "code",
        "colab": {
          "base_uri": "https://localhost:8080/",
          "height": 67
        },
        "outputId": "e298e1ae-b320-45de-d969-f41b8c524611"
      },
      "source": [
        "g1 = Graph(3)\n",
        "g1.add_edge(0, 1)\n",
        "g1.add_edge(1, 2)\n",
        "g1.add_edge(2, 0)\n",
        "g1.print_graph()\n"
      ],
      "execution_count": 101,
      "outputs": [
        {
          "output_type": "stream",
          "text": [
            "Vertex  0:  1-> None\n",
            "Vertex  1:  2-> None\n",
            "Vertex  2:  0-> None\n"
          ],
          "name": "stdout"
        }
      ]
    },
    {
      "cell_type": "code",
      "metadata": {
        "id": "vm2Bs7JU817A",
        "colab_type": "code",
        "colab": {
          "base_uri": "https://localhost:8080/",
          "height": 34
        },
        "outputId": "e240b4da-e479-4ac0-8137-1e3dd8870181"
      },
      "source": [
        "detect_cycle(g1)"
      ],
      "execution_count": 110,
      "outputs": [
        {
          "output_type": "execute_result",
          "data": {
            "text/plain": [
              "True"
            ]
          },
          "metadata": {
            "tags": []
          },
          "execution_count": 110
        }
      ]
    },
    {
      "cell_type": "code",
      "metadata": {
        "id": "4afUxXnU8tTv",
        "colab_type": "code",
        "colab": {
          "base_uri": "https://localhost:8080/",
          "height": 67
        },
        "outputId": "9a210fa7-c091-46ae-9134-f3e8c8561faa"
      },
      "source": [
        "g2 = Graph(3)\n",
        "g2.add_edge(0, 1)\n",
        "g2.add_edge(1, 2)\n",
        "g2.print_graph()"
      ],
      "execution_count": 105,
      "outputs": [
        {
          "output_type": "stream",
          "text": [
            "Vertex  0:  1-> None\n",
            "Vertex  1:  2-> None\n",
            "Vertex  2:  List is empty\n"
          ],
          "name": "stdout"
        }
      ]
    },
    {
      "cell_type": "code",
      "metadata": {
        "id": "-zVzKFAm9baG",
        "colab_type": "code",
        "colab": {
          "base_uri": "https://localhost:8080/",
          "height": 34
        },
        "outputId": "d2f0934e-96ef-483a-b5ea-fe217d7b97e8"
      },
      "source": [
        "detect_cycle(g2)"
      ],
      "execution_count": 111,
      "outputs": [
        {
          "output_type": "execute_result",
          "data": {
            "text/plain": [
              "False"
            ]
          },
          "metadata": {
            "tags": []
          },
          "execution_count": 111
        }
      ]
    },
    {
      "cell_type": "code",
      "metadata": {
        "id": "xCOaA8iqB2Mo",
        "colab_type": "code",
        "colab": {
          "base_uri": "https://localhost:8080/",
          "height": 84
        },
        "outputId": "b4427eb9-a37e-4b33-a4c0-faf22135a68c"
      },
      "source": [
        "g3 = Graph(4)\n",
        "g3.add_edge(0, 1)\n",
        "g3.add_edge(0, 2)\n",
        "g3.add_edge(1, 2)\n",
        "#g3.add_edge(2, 0)\n",
        "g3.add_edge(2, 3)\n",
        "g3.add_edge(3, 3)\n",
        "g3.print_graph()"
      ],
      "execution_count": 115,
      "outputs": [
        {
          "output_type": "stream",
          "text": [
            "Vertex  0:  2-> 1-> None\n",
            "Vertex  1:  2-> None\n",
            "Vertex  2:  3-> None\n",
            "Vertex  3:  3-> None\n"
          ],
          "name": "stdout"
        }
      ]
    },
    {
      "cell_type": "code",
      "metadata": {
        "id": "9whreoVwCFuB",
        "colab_type": "code",
        "colab": {
          "base_uri": "https://localhost:8080/",
          "height": 34
        },
        "outputId": "8937d194-c4cb-4145-cf11-4d14118ad01b"
      },
      "source": [
        "detect_cycle(g3)"
      ],
      "execution_count": 116,
      "outputs": [
        {
          "output_type": "execute_result",
          "data": {
            "text/plain": [
              "True"
            ]
          },
          "metadata": {
            "tags": []
          },
          "execution_count": 116
        }
      ]
    },
    {
      "cell_type": "code",
      "metadata": {
        "id": "0MHqn2ZiCaB6",
        "colab_type": "code",
        "colab": {
          "base_uri": "https://localhost:8080/",
          "height": 134
        },
        "outputId": "b0027805-7bf2-40ce-e817-76556e4b0620"
      },
      "source": [
        "g4=Graph(6) \n",
        "g4.add_edge(0,1) \n",
        "g4.add_edge(1,2) \n",
        "g4.add_edge(2,0) \n",
        "g4.add_edge(3,4) \n",
        "g4.add_edge(4,5)\n",
        "g4.print_graph()\n",
        "detect_cycle(g4)"
      ],
      "execution_count": 117,
      "outputs": [
        {
          "output_type": "stream",
          "text": [
            "Vertex  0:  1-> None\n",
            "Vertex  1:  2-> None\n",
            "Vertex  2:  0-> None\n",
            "Vertex  3:  4-> None\n",
            "Vertex  4:  5-> None\n",
            "Vertex  5:  List is empty\n"
          ],
          "name": "stdout"
        },
        {
          "output_type": "execute_result",
          "data": {
            "text/plain": [
              "True"
            ]
          },
          "metadata": {
            "tags": []
          },
          "execution_count": 117
        }
      ]
    }
  ]
}