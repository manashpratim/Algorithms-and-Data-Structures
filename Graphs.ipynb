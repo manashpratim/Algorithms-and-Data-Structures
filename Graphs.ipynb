{
  "nbformat": 4,
  "nbformat_minor": 0,
  "metadata": {
    "colab": {
      "name": "Graphs.ipynb",
      "version": "0.3.2",
      "provenance": [],
      "collapsed_sections": [],
      "include_colab_link": true
    },
    "kernelspec": {
      "name": "python3",
      "display_name": "Python 3"
    }
  },
  "cells": [
    {
      "cell_type": "markdown",
      "metadata": {
        "id": "view-in-github",
        "colab_type": "text"
      },
      "source": [
        "<a href=\"https://colab.research.google.com/github/manashpratim/Algorithms-and-Data-Structures/blob/master/Graphs.ipynb\" target=\"_parent\"><img src=\"https://colab.research.google.com/assets/colab-badge.svg\" alt=\"Open In Colab\"/></a>"
      ]
    },
    {
      "cell_type": "markdown",
      "metadata": {
        "id": "dvtLJHKvpZXJ",
        "colab_type": "text"
      },
      "source": [
        "## **Graph Implementation (Adjacency List)**"
      ]
    },
    {
      "cell_type": "code",
      "metadata": {
        "id": "nRlL-MSdzndS",
        "colab_type": "code",
        "colab": {}
      },
      "source": [
        "class Graph:\n",
        "  \n",
        "  def __init__(self):\n",
        "    self.vertList={}\n",
        "    self.vertNums=0\n",
        "    \n",
        "  def add_vertex(self,key):\n",
        "    if key not in self.vertList:\n",
        "      self.vertList[key]={}\n",
        "      self.vertNums=self.vertNums+1\n",
        "      \n",
        "  def add_edges(self,From,To,weight):\n",
        "    if From not in self.vertList:\n",
        "      self.add_vertex(From)\n",
        "      \n",
        "    if To not in self.vertList:\n",
        "      self.add_vertex(To)\n",
        "      \n",
        "    self.vertList[From][To]=weight\n",
        "    \n",
        "  def vertex_is_present(self,key):\n",
        "    return key in self.vertList\n",
        "  \n",
        "  def get_connections(self,key):\n",
        "    if key in self.vertList:\n",
        "      if len(self.vertList[key])>0:\n",
        "        return self.vertList[key]\n",
        "      else:\n",
        "        return \"No Connections\"\n",
        "    else:\n",
        "      return \"Invalid Vertex\"\n",
        "    \n",
        "  def get_vertices(self):\n",
        "    return [*self.vertList]\n",
        "  \n",
        "  def get_vertex_nums(self):\n",
        "    return self.vertNums\n",
        "  \n",
        "  def remove_edge(self,vertex,to):\n",
        "    del self.vertList[vertex][to]\n",
        "    return \"Edge Removed\"\n",
        "  \n",
        "  def edge_is_present(self,vertex,to):\n",
        "    return to in self.vertList[vertex]\n",
        "   "
      ],
      "execution_count": 0,
      "outputs": []
    },
    {
      "cell_type": "code",
      "metadata": {
        "id": "XSfHYP3L2fNh",
        "colab_type": "code",
        "colab": {}
      },
      "source": [
        "g=Graph()"
      ],
      "execution_count": 0,
      "outputs": []
    },
    {
      "cell_type": "code",
      "metadata": {
        "id": "ZtgY3ciV2pIQ",
        "colab_type": "code",
        "colab": {}
      },
      "source": [
        "for i in range(5):\n",
        "  g.add_vertex(i)"
      ],
      "execution_count": 0,
      "outputs": []
    },
    {
      "cell_type": "code",
      "metadata": {
        "id": "aPS3HSTY22E3",
        "colab_type": "code",
        "colab": {
          "base_uri": "https://localhost:8080/",
          "height": 34
        },
        "outputId": "d2886009-5c02-45df-aa7c-2b6c7e6e487f"
      },
      "source": [
        "g.get_vertices()"
      ],
      "execution_count": 43,
      "outputs": [
        {
          "output_type": "execute_result",
          "data": {
            "text/plain": [
              "[0, 1, 2, 3, 4]"
            ]
          },
          "metadata": {
            "tags": []
          },
          "execution_count": 43
        }
      ]
    },
    {
      "cell_type": "code",
      "metadata": {
        "id": "TbLczbie3Don",
        "colab_type": "code",
        "colab": {
          "base_uri": "https://localhost:8080/",
          "height": 34
        },
        "outputId": "b59f02ab-8d81-4458-f59b-56a1b77b5343"
      },
      "source": [
        "g.get_vertex_nums()"
      ],
      "execution_count": 44,
      "outputs": [
        {
          "output_type": "execute_result",
          "data": {
            "text/plain": [
              "5"
            ]
          },
          "metadata": {
            "tags": []
          },
          "execution_count": 44
        }
      ]
    },
    {
      "cell_type": "code",
      "metadata": {
        "id": "LqdPBCYH3IYC",
        "colab_type": "code",
        "colab": {}
      },
      "source": [
        "g.add_edges(0,1,4)\n",
        "g.add_edges(1,3,6)\n",
        "g.add_edges(3,4,2)\n",
        "g.add_edges(0,2,1)\n",
        "g.add_edges(4,0,3)"
      ],
      "execution_count": 0,
      "outputs": []
    },
    {
      "cell_type": "code",
      "metadata": {
        "id": "SMxNzRaQ3sKf",
        "colab_type": "code",
        "colab": {
          "base_uri": "https://localhost:8080/",
          "height": 102
        },
        "outputId": "a6c5f8f9-d310-4e39-a5ec-00e83e4f000f"
      },
      "source": [
        "for i in range(g.get_vertex_nums()):\n",
        "    print(str(i)+ ' is connected to: '+ str(g.get_connections(i)))"
      ],
      "execution_count": 47,
      "outputs": [
        {
          "output_type": "stream",
          "text": [
            "0 is connected to: {1: 4, 2: 1}\n",
            "1 is connected to: {3: 6}\n",
            "2 is connected to: No Connections\n",
            "3 is connected to: {4: 2}\n",
            "4 is connected to: {0: 3}\n"
          ],
          "name": "stdout"
        }
      ]
    },
    {
      "cell_type": "code",
      "metadata": {
        "id": "bZbwaDaA6Exx",
        "colab_type": "code",
        "colab": {
          "base_uri": "https://localhost:8080/",
          "height": 34
        },
        "outputId": "c8139afc-48f1-449d-859c-2e0778be656c"
      },
      "source": [
        "g.remove_edge(0,2)"
      ],
      "execution_count": 48,
      "outputs": [
        {
          "output_type": "execute_result",
          "data": {
            "text/plain": [
              "'Edge Removed'"
            ]
          },
          "metadata": {
            "tags": []
          },
          "execution_count": 48
        }
      ]
    },
    {
      "cell_type": "code",
      "metadata": {
        "id": "rPfgaIz66MDD",
        "colab_type": "code",
        "colab": {
          "base_uri": "https://localhost:8080/",
          "height": 34
        },
        "outputId": "43eefe50-bc50-4340-d850-1ea98cc032c7"
      },
      "source": [
        "g.edge_is_present(0,2)"
      ],
      "execution_count": 49,
      "outputs": [
        {
          "output_type": "execute_result",
          "data": {
            "text/plain": [
              "False"
            ]
          },
          "metadata": {
            "tags": []
          },
          "execution_count": 49
        }
      ]
    },
    {
      "cell_type": "code",
      "metadata": {
        "id": "MWBBbObf6RCg",
        "colab_type": "code",
        "colab": {
          "base_uri": "https://localhost:8080/",
          "height": 34
        },
        "outputId": "b53c39eb-ce5c-41ce-9ca8-55bfc0ff9022"
      },
      "source": [
        "g.get_connections(2)"
      ],
      "execution_count": 50,
      "outputs": [
        {
          "output_type": "execute_result",
          "data": {
            "text/plain": [
              "'No Connections'"
            ]
          },
          "metadata": {
            "tags": []
          },
          "execution_count": 50
        }
      ]
    },
    {
      "cell_type": "code",
      "metadata": {
        "id": "RKhkp2i-7NSq",
        "colab_type": "code",
        "colab": {
          "base_uri": "https://localhost:8080/",
          "height": 34
        },
        "outputId": "316dae13-b606-432a-be84-cfee63f12f51"
      },
      "source": [
        "g.get_connections(5)"
      ],
      "execution_count": 51,
      "outputs": [
        {
          "output_type": "execute_result",
          "data": {
            "text/plain": [
              "'Invalid Vertex'"
            ]
          },
          "metadata": {
            "tags": []
          },
          "execution_count": 51
        }
      ]
    }
  ]
}