{
  "nbformat": 4,
  "nbformat_minor": 0,
  "metadata": {
    "colab": {
      "name": "Graphs.ipynb",
      "provenance": [],
      "collapsed_sections": [],
      "authorship_tag": "ABX9TyO8AWu1qUacZzwJ3amQ9PeX",
      "include_colab_link": true
    },
    "kernelspec": {
      "name": "python3",
      "display_name": "Python 3"
    }
  },
  "cells": [
    {
      "cell_type": "markdown",
      "metadata": {
        "id": "view-in-github",
        "colab_type": "text"
      },
      "source": [
        "<a href=\"https://colab.research.google.com/github/manashpratim/Algorithms-and-Data-Structures/blob/master/Graphs.ipynb\" target=\"_parent\"><img src=\"https://colab.research.google.com/assets/colab-badge.svg\" alt=\"Open In Colab\"/></a>"
      ]
    },
    {
      "cell_type": "markdown",
      "metadata": {
        "id": "yL2knVvzoeee",
        "colab_type": "text"
      },
      "source": [
        "# **Graphs Implementation (Adjacency List)**"
      ]
    },
    {
      "cell_type": "code",
      "metadata": {
        "id": "UoeDBQ6D2Ioa",
        "colab_type": "code",
        "colab": {}
      },
      "source": [
        "class Node(object):\n",
        "  def __init__(self,val,next=None):\n",
        "    self.val = val\n",
        "    self.next = next"
      ],
      "execution_count": 0,
      "outputs": []
    },
    {
      "cell_type": "code",
      "metadata": {
        "id": "ElAyJL0B3oT0",
        "colab_type": "code",
        "colab": {}
      },
      "source": [
        "class LinkedList(object):\n",
        "  def __init__(self):\n",
        "    self.head = None\n",
        "  \n",
        "  def isempty(self):\n",
        "    if not self.head: \n",
        "      return True\n",
        "    return False\n",
        "\n",
        "  def get_head(self):\n",
        "    return self.head\n",
        "\n",
        "  def insert_at_head(self,val):\n",
        "      node = Node(val)\n",
        "      if self.isempty():\n",
        "        self.head = node\n",
        "      else:\n",
        "        node.next = self.head\n",
        "        self.head = node\n",
        "\n",
        "  def insert_at_tail(self,val):\n",
        "      node = Node(val)\n",
        "      if self.isempty():\n",
        "        self.head = node\n",
        "      else:\n",
        "        curr = self.head\n",
        "        while curr.next:\n",
        "          curr = curr.next\n",
        "        curr.next = node\n",
        "\n",
        "  def delete_at_head(self):\n",
        "      if self.isempty():\n",
        "        print('List is empty!')\n",
        "      else:\n",
        "        temp = self.head\n",
        "        self.head = self.head.next\n",
        "        print(str(temp.val) + ' deleted!')\n",
        "\n",
        "  def delete(self,val):\n",
        "      if self.isempty():\n",
        "        print('List is empty!')\n",
        "      else:\n",
        "        curr = self.head\n",
        "        prev = None\n",
        "        while curr:\n",
        "          if curr.val == val:\n",
        "            if prev:\n",
        "              prev.next =  curr.next\n",
        "            else:\n",
        "              self.head = curr.next\n",
        "            print(str(curr.val) + ' deleted!')\n",
        "            return\n",
        "          prev = curr\n",
        "          curr = curr.next\n",
        "        print(str(val)+' not in List!')\n",
        "\n",
        "  def length(self):\n",
        "    if self.isempty():\n",
        "        return 0\n",
        "    else:\n",
        "        l = 0\n",
        "        curr = self.head\n",
        "        while curr:\n",
        "          l = l + 1\n",
        "          curr = curr.next\n",
        "        return l\n",
        "        \n",
        "  def printll(self):\n",
        "      if self.isempty():\n",
        "        print('List is empty')\n",
        "        \n",
        "      else:\n",
        "        curr = self.head\n",
        "        \n",
        "        while curr:\n",
        "          print(curr.val,end= '-> ')\n",
        "          curr = curr.next\n",
        "          if not curr:\n",
        "            print('None')\n",
        "\n",
        "  "
      ],
      "execution_count": 0,
      "outputs": []
    },
    {
      "cell_type": "code",
      "metadata": {
        "id": "StHpTWouilmt",
        "colab_type": "code",
        "colab": {}
      },
      "source": [
        "class Graph(object):\n",
        "  def __init__(self,vertices):\n",
        "    self.vertices = vertices\n",
        "    self.arr = []\n",
        "\n",
        "    for i in range(self.vertices):\n",
        "      self.arr.append(LinkedList())\n",
        "  \n",
        "  def add_edge(self,source,des):\n",
        "\n",
        "    if source < self.vertices and des < self.vertices:\n",
        "      self.arr[source].insert_at_head(des)       \n",
        "      #self.arr[des].insert_at_head(source)               #Uncomment for undirected graph\n",
        "    \n",
        "  def print_graph(self):\n",
        "    for i in range(self.vertices):\n",
        "        print('Vertex ',str(i)+': ',end=' ')\n",
        "        self.arr[i].printll()\n",
        "        \n",
        "        "
      ],
      "execution_count": 0,
      "outputs": []
    },
    {
      "cell_type": "code",
      "metadata": {
        "id": "cSLY9zHp6tTO",
        "colab_type": "code",
        "colab": {}
      },
      "source": [
        "l = LinkedList()"
      ],
      "execution_count": 0,
      "outputs": []
    },
    {
      "cell_type": "code",
      "metadata": {
        "id": "WPAfFO5B60bc",
        "colab_type": "code",
        "colab": {
          "base_uri": "https://localhost:8080/",
          "height": 34
        },
        "outputId": "eee2b615-0511-41f2-c096-35e225ce1d9c"
      },
      "source": [
        "l.insert_at_head(3)\n",
        "l.insert_at_head(1)\n",
        "l.insert_at_tail(4)\n",
        "l.insert_at_head(6)\n",
        "l.printll()"
      ],
      "execution_count": 36,
      "outputs": [
        {
          "output_type": "stream",
          "text": [
            "6-> 1-> 3-> 4-> None\n"
          ],
          "name": "stdout"
        }
      ]
    },
    {
      "cell_type": "code",
      "metadata": {
        "id": "nGIBikdimqYa",
        "colab_type": "code",
        "colab": {
          "base_uri": "https://localhost:8080/",
          "height": 84
        },
        "outputId": "2b05892b-73e3-4c81-bd6d-47b2e70cb159"
      },
      "source": [
        "g = Graph(4)\n",
        "g.add_edge(0, 1)\n",
        "g.add_edge(0, 2)\n",
        "g.add_edge(1, 3)\n",
        "g.add_edge(2, 3)\n",
        "g.print_graph()"
      ],
      "execution_count": 54,
      "outputs": [
        {
          "output_type": "stream",
          "text": [
            "Vertex  0:  2-> 1-> None\n",
            "Vertex  1:  3-> None\n",
            "Vertex  2:  3-> None\n",
            "Vertex  3:  List is empty\n"
          ],
          "name": "stdout"
        }
      ]
    }
  ]
}