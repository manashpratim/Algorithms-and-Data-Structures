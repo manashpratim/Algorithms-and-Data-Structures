{
  "nbformat": 4,
  "nbformat_minor": 0,
  "metadata": {
    "colab": {
      "name": "Graphs.ipynb",
      "provenance": [],
      "collapsed_sections": [],
      "authorship_tag": "ABX9TyPz8RfPt7mShYvCE4c/uSs4",
      "include_colab_link": true
    },
    "kernelspec": {
      "name": "python3",
      "display_name": "Python 3"
    }
  },
  "cells": [
    {
      "cell_type": "markdown",
      "metadata": {
        "id": "view-in-github",
        "colab_type": "text"
      },
      "source": [
        "<a href=\"https://colab.research.google.com/github/manashpratim/Algorithms-and-Data-Structures/blob/master/Graphs.ipynb\" target=\"_parent\"><img src=\"https://colab.research.google.com/assets/colab-badge.svg\" alt=\"Open In Colab\"/></a>"
      ]
    },
    {
      "cell_type": "markdown",
      "metadata": {
        "id": "yL2knVvzoeee",
        "colab_type": "text"
      },
      "source": [
        "# **Graphs Implementation (Adjacency List)**"
      ]
    },
    {
      "cell_type": "code",
      "metadata": {
        "id": "UoeDBQ6D2Ioa",
        "colab_type": "code",
        "colab": {}
      },
      "source": [
        "class Node(object):\n",
        "  def __init__(self,val,next=None):\n",
        "    self.val = val\n",
        "    self.next = next"
      ],
      "execution_count": null,
      "outputs": []
    },
    {
      "cell_type": "code",
      "metadata": {
        "id": "ElAyJL0B3oT0",
        "colab_type": "code",
        "colab": {}
      },
      "source": [
        "class LinkedList(object):\n",
        "  def __init__(self):\n",
        "    self.head = None\n",
        "  \n",
        "  def isempty(self):\n",
        "    if not self.head: \n",
        "      return True\n",
        "    return False\n",
        "\n",
        "  def get_head(self):\n",
        "    return self.head\n",
        "\n",
        "  def insert_at_head(self,val):\n",
        "      node = Node(val)\n",
        "      if self.isempty():\n",
        "        self.head = node\n",
        "      else:\n",
        "        node.next = self.head\n",
        "        self.head = node\n",
        "\n",
        "  def insert_at_tail(self,val):\n",
        "      node = Node(val)\n",
        "      if self.isempty():\n",
        "        self.head = node\n",
        "      else:\n",
        "        curr = self.head\n",
        "        while curr.next:\n",
        "          curr = curr.next\n",
        "        curr.next = node\n",
        "\n",
        "  def delete_at_head(self):\n",
        "      if self.isempty():\n",
        "        print('List is empty!')\n",
        "      else:\n",
        "        temp = self.head\n",
        "        self.head = self.head.next\n",
        "        print(str(temp.val) + ' deleted!')\n",
        "\n",
        "  def delete(self,val):\n",
        "      if self.isempty():\n",
        "        print('List is empty!')\n",
        "      else:\n",
        "        curr = self.head\n",
        "        prev = None\n",
        "        while curr:\n",
        "          if curr.val == val:\n",
        "            if prev:\n",
        "              prev.next =  curr.next\n",
        "            else:\n",
        "              self.head = curr.next\n",
        "            print(str(curr.val) + ' deleted!')\n",
        "            return\n",
        "          prev = curr\n",
        "          curr = curr.next\n",
        "        print(str(val)+' not in List!')\n",
        "\n",
        "  def length(self):\n",
        "    if self.isempty():\n",
        "        return 0\n",
        "    else:\n",
        "        l = 0\n",
        "        curr = self.head\n",
        "        while curr:\n",
        "          l = l + 1\n",
        "          curr = curr.next\n",
        "        return l\n",
        "        \n",
        "  def printll(self):\n",
        "      if self.isempty():\n",
        "        print('List is empty')\n",
        "        \n",
        "      else:\n",
        "        curr = self.head\n",
        "        \n",
        "        while curr:\n",
        "          print(curr.val,end= '-> ')\n",
        "          curr = curr.next\n",
        "          if not curr:\n",
        "            print('None')\n",
        "\n",
        "  "
      ],
      "execution_count": null,
      "outputs": []
    },
    {
      "cell_type": "code",
      "metadata": {
        "id": "StHpTWouilmt",
        "colab_type": "code",
        "colab": {}
      },
      "source": [
        "class Graph(object):\n",
        "  def __init__(self,vertices):\n",
        "    self.vertices = vertices\n",
        "    self.arr = []\n",
        "\n",
        "    for i in range(self.vertices):\n",
        "      self.arr.append(LinkedList())\n",
        "  \n",
        "  def add_edge(self,source,des):\n",
        "\n",
        "    if source < self.vertices and des < self.vertices:\n",
        "      self.arr[source].insert_at_head(des)       \n",
        "      #self.arr[des].insert_at_head(source)               #Uncomment for undirected graph\n",
        "    \n",
        "  def print_graph(self):\n",
        "    for i in range(self.vertices):\n",
        "        print('Vertex ',str(i)+': ',end=' ')\n",
        "        self.arr[i].printll()\n",
        "        \n",
        "        "
      ],
      "execution_count": null,
      "outputs": []
    },
    {
      "cell_type": "code",
      "metadata": {
        "id": "cSLY9zHp6tTO",
        "colab_type": "code",
        "colab": {}
      },
      "source": [
        "l = LinkedList()"
      ],
      "execution_count": null,
      "outputs": []
    },
    {
      "cell_type": "code",
      "metadata": {
        "id": "WPAfFO5B60bc",
        "colab_type": "code",
        "colab": {
          "base_uri": "https://localhost:8080/",
          "height": 34
        },
        "outputId": "e90804fb-b6a9-43ea-ea23-2cb3ade8a620"
      },
      "source": [
        "l.insert_at_head(3)\n",
        "l.insert_at_head(1)\n",
        "l.insert_at_tail(4)\n",
        "l.insert_at_head(6)\n",
        "l.printll()"
      ],
      "execution_count": null,
      "outputs": [
        {
          "output_type": "stream",
          "text": [
            "6-> 1-> 3-> 4-> None\n"
          ],
          "name": "stdout"
        }
      ]
    },
    {
      "cell_type": "markdown",
      "metadata": {
        "id": "oB7wvVk36KDZ",
        "colab_type": "text"
      },
      "source": [
        "## **BFS**"
      ]
    },
    {
      "cell_type": "code",
      "metadata": {
        "id": "DYip03gHve5N",
        "colab_type": "code",
        "colab": {}
      },
      "source": [
        "def bfs_helper(graph,source):\n",
        "    q = []\n",
        "    q.append(source)\n",
        "    visited = set()\n",
        "    res = ''\n",
        "\n",
        "    while len(q)>0:\n",
        "      v = q.pop(0)  \n",
        "      if v not in visited:\n",
        "        temp = graph.arr[v].get_head()\n",
        "        while temp:\n",
        "          q.append(temp.val)\n",
        "          temp = temp.next\n",
        "        res+= str(v)\n",
        "        visited.add(v)\n",
        "    return res,visited\n",
        "\n",
        "def bfs(graph,source):\n",
        "    result,visited = bfs_helper(graph,source)\n",
        "    for i in range(graph.vertices):\n",
        "      if i not in visited:\n",
        "         res,_= bfs_helper(graph,i)\n",
        "         result+=res\n",
        "    return result"
      ],
      "execution_count": null,
      "outputs": []
    },
    {
      "cell_type": "code",
      "metadata": {
        "id": "nGIBikdimqYa",
        "colab_type": "code",
        "colab": {
          "base_uri": "https://localhost:8080/",
          "height": 118
        },
        "outputId": "1b075744-5b1f-4f34-e78e-4cef1f5ea499"
      },
      "source": [
        "g = Graph(6)\n",
        "g.add_edge(0, 1)\n",
        "g.add_edge(0, 2)\n",
        "g.add_edge(1, 3)\n",
        "g.add_edge(1, 4)\n",
        "g.print_graph()"
      ],
      "execution_count": null,
      "outputs": [
        {
          "output_type": "stream",
          "text": [
            "Vertex  0:  2-> 1-> None\n",
            "Vertex  1:  4-> 3-> None\n",
            "Vertex  2:  List is empty\n",
            "Vertex  3:  List is empty\n",
            "Vertex  4:  List is empty\n",
            "Vertex  5:  List is empty\n"
          ],
          "name": "stdout"
        }
      ]
    },
    {
      "cell_type": "code",
      "metadata": {
        "id": "OoSB5YmMpYGQ",
        "colab_type": "code",
        "colab": {
          "base_uri": "https://localhost:8080/",
          "height": 34
        },
        "outputId": "30277d47-5e19-421c-fee6-4dd455c1a5f5"
      },
      "source": [
        "bfs(g,0)"
      ],
      "execution_count": null,
      "outputs": [
        {
          "output_type": "execute_result",
          "data": {
            "text/plain": [
              "'021435'"
            ]
          },
          "metadata": {
            "tags": []
          },
          "execution_count": 8
        }
      ]
    },
    {
      "cell_type": "markdown",
      "metadata": {
        "id": "3VoA5yj26Oq8",
        "colab_type": "text"
      },
      "source": [
        "## **DFS**"
      ]
    },
    {
      "cell_type": "code",
      "metadata": {
        "id": "rJ2azf-i1ylB",
        "colab_type": "code",
        "colab": {}
      },
      "source": [
        "def dfs_helper(graph,source):\n",
        "    s = []\n",
        "    s.append(source)\n",
        "    visited = set()\n",
        "    res = ''\n",
        "    while len(s)>0:\n",
        "      v = s.pop(0)  \n",
        "      if v not in visited:\n",
        "        temp = graph.arr[v].get_head()\n",
        "        while temp:\n",
        "          s.insert(0,temp.val)\n",
        "          temp = temp.next\n",
        "        res = res + str(v) \n",
        "        visited.add(v)\n",
        "    return res,visited\n",
        "\n",
        "def dfs(graph,source):\n",
        "    result,visited = dfs_helper(graph,source)\n",
        "    for i in range(graph.vertices):\n",
        "      if i not in visited:\n",
        "         res,_= dfs_helper(graph,i)\n",
        "         result+=res\n",
        "    return result"
      ],
      "execution_count": null,
      "outputs": []
    },
    {
      "cell_type": "code",
      "metadata": {
        "id": "u3s_u2pA30d2",
        "colab_type": "code",
        "colab": {
          "base_uri": "https://localhost:8080/",
          "height": 134
        },
        "outputId": "c5866210-3c3f-416d-e506-efaa44836027"
      },
      "source": [
        "g = Graph(7)\n",
        "g.add_edge(1, 3)\n",
        "g.add_edge(1, 2)\n",
        "g.add_edge(2, 5)\n",
        "g.add_edge(2, 4)\n",
        "g.add_edge(3, 6)\n",
        "g.print_graph()"
      ],
      "execution_count": null,
      "outputs": [
        {
          "output_type": "stream",
          "text": [
            "Vertex  0:  List is empty\n",
            "Vertex  1:  2-> 3-> None\n",
            "Vertex  2:  4-> 5-> None\n",
            "Vertex  3:  6-> None\n",
            "Vertex  4:  List is empty\n",
            "Vertex  5:  List is empty\n",
            "Vertex  6:  List is empty\n"
          ],
          "name": "stdout"
        }
      ]
    },
    {
      "cell_type": "code",
      "metadata": {
        "id": "p2GbY8Ex3nDU",
        "colab_type": "code",
        "colab": {
          "base_uri": "https://localhost:8080/",
          "height": 34
        },
        "outputId": "a10c3983-e7c8-4b41-9e70-1068df1ad74b"
      },
      "source": [
        "dfs(g,1)"
      ],
      "execution_count": null,
      "outputs": [
        {
          "output_type": "execute_result",
          "data": {
            "text/plain": [
              "'1362540'"
            ]
          },
          "metadata": {
            "tags": []
          },
          "execution_count": 11
        }
      ]
    },
    {
      "cell_type": "markdown",
      "metadata": {
        "id": "aXz-AO98_kqe",
        "colab_type": "text"
      },
      "source": [
        "## **Detect Cycle**"
      ]
    },
    {
      "cell_type": "code",
      "metadata": {
        "id": "6pBbbAbT7Fcz",
        "colab_type": "code",
        "colab": {}
      },
      "source": [
        "def detect_helper(graph,source):\n",
        "        q = []\n",
        "        q.append(source)\n",
        "        visited = set()\n",
        "\n",
        "        while len(q)>0:\n",
        "          v = q.pop(0)  \n",
        "          if v not in visited:\n",
        "            temp = graph.arr[v].get_head()\n",
        "            while temp:\n",
        "              q.append(temp.val)\n",
        "              temp = temp.next\n",
        "            visited.add(v)\n",
        "          else:\n",
        "            return True\n",
        "        return False\n",
        "\n",
        "def detect_cycle(graph):\n",
        "\n",
        "    for i in range(graph.vertices):\n",
        "        if detect_helper(graph,i)\n",
        "          return True      \n",
        "    return False"
      ],
      "execution_count": null,
      "outputs": []
    },
    {
      "cell_type": "code",
      "metadata": {
        "id": "yQsq1pyD8fT6",
        "colab_type": "code",
        "colab": {
          "base_uri": "https://localhost:8080/",
          "height": 67
        },
        "outputId": "e298e1ae-b320-45de-d969-f41b8c524611"
      },
      "source": [
        "g1 = Graph(3)\n",
        "g1.add_edge(0, 1)\n",
        "g1.add_edge(1, 2)\n",
        "g1.add_edge(2, 0)\n",
        "g1.print_graph()\n"
      ],
      "execution_count": null,
      "outputs": [
        {
          "output_type": "stream",
          "text": [
            "Vertex  0:  1-> None\n",
            "Vertex  1:  2-> None\n",
            "Vertex  2:  0-> None\n"
          ],
          "name": "stdout"
        }
      ]
    },
    {
      "cell_type": "code",
      "metadata": {
        "id": "vm2Bs7JU817A",
        "colab_type": "code",
        "colab": {
          "base_uri": "https://localhost:8080/",
          "height": 34
        },
        "outputId": "e240b4da-e479-4ac0-8137-1e3dd8870181"
      },
      "source": [
        "detect_cycle(g1)"
      ],
      "execution_count": null,
      "outputs": [
        {
          "output_type": "execute_result",
          "data": {
            "text/plain": [
              "True"
            ]
          },
          "metadata": {
            "tags": []
          },
          "execution_count": 110
        }
      ]
    },
    {
      "cell_type": "code",
      "metadata": {
        "id": "4afUxXnU8tTv",
        "colab_type": "code",
        "colab": {
          "base_uri": "https://localhost:8080/",
          "height": 67
        },
        "outputId": "9a210fa7-c091-46ae-9134-f3e8c8561faa"
      },
      "source": [
        "g2 = Graph(3)\n",
        "g2.add_edge(0, 1)\n",
        "g2.add_edge(1, 2)\n",
        "g2.print_graph()"
      ],
      "execution_count": null,
      "outputs": [
        {
          "output_type": "stream",
          "text": [
            "Vertex  0:  1-> None\n",
            "Vertex  1:  2-> None\n",
            "Vertex  2:  List is empty\n"
          ],
          "name": "stdout"
        }
      ]
    },
    {
      "cell_type": "code",
      "metadata": {
        "id": "-zVzKFAm9baG",
        "colab_type": "code",
        "colab": {
          "base_uri": "https://localhost:8080/",
          "height": 34
        },
        "outputId": "d2f0934e-96ef-483a-b5ea-fe217d7b97e8"
      },
      "source": [
        "detect_cycle(g2)"
      ],
      "execution_count": null,
      "outputs": [
        {
          "output_type": "execute_result",
          "data": {
            "text/plain": [
              "False"
            ]
          },
          "metadata": {
            "tags": []
          },
          "execution_count": 111
        }
      ]
    },
    {
      "cell_type": "code",
      "metadata": {
        "id": "xCOaA8iqB2Mo",
        "colab_type": "code",
        "colab": {
          "base_uri": "https://localhost:8080/",
          "height": 84
        },
        "outputId": "b4427eb9-a37e-4b33-a4c0-faf22135a68c"
      },
      "source": [
        "g3 = Graph(4)\n",
        "g3.add_edge(0, 1)\n",
        "g3.add_edge(0, 2)\n",
        "g3.add_edge(1, 2)\n",
        "#g3.add_edge(2, 0)\n",
        "g3.add_edge(2, 3)\n",
        "g3.add_edge(3, 3)\n",
        "g3.print_graph()"
      ],
      "execution_count": null,
      "outputs": [
        {
          "output_type": "stream",
          "text": [
            "Vertex  0:  2-> 1-> None\n",
            "Vertex  1:  2-> None\n",
            "Vertex  2:  3-> None\n",
            "Vertex  3:  3-> None\n"
          ],
          "name": "stdout"
        }
      ]
    },
    {
      "cell_type": "code",
      "metadata": {
        "id": "9whreoVwCFuB",
        "colab_type": "code",
        "colab": {
          "base_uri": "https://localhost:8080/",
          "height": 34
        },
        "outputId": "8937d194-c4cb-4145-cf11-4d14118ad01b"
      },
      "source": [
        "detect_cycle(g3)"
      ],
      "execution_count": null,
      "outputs": [
        {
          "output_type": "execute_result",
          "data": {
            "text/plain": [
              "True"
            ]
          },
          "metadata": {
            "tags": []
          },
          "execution_count": 116
        }
      ]
    },
    {
      "cell_type": "code",
      "metadata": {
        "id": "0MHqn2ZiCaB6",
        "colab_type": "code",
        "colab": {
          "base_uri": "https://localhost:8080/",
          "height": 134
        },
        "outputId": "b0027805-7bf2-40ce-e817-76556e4b0620"
      },
      "source": [
        "g4=Graph(6) \n",
        "g4.add_edge(0,1) \n",
        "g4.add_edge(1,2) \n",
        "g4.add_edge(2,0) \n",
        "g4.add_edge(3,4) \n",
        "g4.add_edge(4,5)\n",
        "g4.print_graph()\n",
        "detect_cycle(g4)"
      ],
      "execution_count": null,
      "outputs": [
        {
          "output_type": "stream",
          "text": [
            "Vertex  0:  1-> None\n",
            "Vertex  1:  2-> None\n",
            "Vertex  2:  0-> None\n",
            "Vertex  3:  4-> None\n",
            "Vertex  4:  5-> None\n",
            "Vertex  5:  List is empty\n"
          ],
          "name": "stdout"
        },
        {
          "output_type": "execute_result",
          "data": {
            "text/plain": [
              "True"
            ]
          },
          "metadata": {
            "tags": []
          },
          "execution_count": 117
        }
      ]
    },
    {
      "cell_type": "markdown",
      "metadata": {
        "id": "1fcn5cpexZTQ",
        "colab_type": "text"
      },
      "source": [
        "## **Find Mother Vertex**"
      ]
    },
    {
      "cell_type": "code",
      "metadata": {
        "id": "ozTT97bJbdVf",
        "colab_type": "code",
        "colab": {}
      },
      "source": [
        "def mother_helper(graph,source,visited):\n",
        "    s = []\n",
        "    s.append(source)\n",
        "    visited[source] = True\n",
        "    res = ''\n",
        "    while len(s)>0:\n",
        "        v = s.pop(0)  \n",
        "        temp = graph.arr[v].get_head()\n",
        "        while temp:\n",
        "          if not visited[temp.val]:\n",
        "            s.insert(0,temp.val)\n",
        "            visited[temp.val] =True\n",
        "          temp = temp.next\n",
        "        res = res + str(v) \n",
        "    return res,visited\n",
        "\n",
        "def find_mother_vertex(graph):\n",
        "    \n",
        "    for i in range(graph.vertices):\n",
        "      visited = [False]*graph.vertices\n",
        "      res,visited = mother_helper(graph,i,visited)\n",
        "      if sum(visited) == graph.vertices:\n",
        "           return i\n",
        "    return -1"
      ],
      "execution_count": null,
      "outputs": []
    },
    {
      "cell_type": "code",
      "metadata": {
        "id": "KdcqgY33clVq",
        "colab_type": "code",
        "colab": {
          "base_uri": "https://localhost:8080/",
          "height": 101
        },
        "outputId": "cef83985-d9fd-4bc4-e37f-97cea52caf3d"
      },
      "source": [
        "g=Graph(4) \n",
        "g.add_edge(3,0) \n",
        "g.add_edge(3,1) \n",
        "g.add_edge(0,1) \n",
        "g.add_edge(1,2) \n",
        "g.print_graph()\n",
        "find_mother_vertex(g)"
      ],
      "execution_count": null,
      "outputs": [
        {
          "output_type": "stream",
          "text": [
            "Vertex  0:  1-> None\n",
            "Vertex  1:  2-> None\n",
            "Vertex  2:  List is empty\n",
            "Vertex  3:  1-> 0-> None\n"
          ],
          "name": "stdout"
        },
        {
          "output_type": "execute_result",
          "data": {
            "text/plain": [
              "3"
            ]
          },
          "metadata": {
            "tags": []
          },
          "execution_count": 31
        }
      ]
    },
    {
      "cell_type": "code",
      "metadata": {
        "id": "kxnPzPPVexpJ",
        "colab_type": "code",
        "colab": {
          "base_uri": "https://localhost:8080/",
          "height": 84
        },
        "outputId": "bb39d55d-c56f-4e0e-dfe3-95b9ea1cc60e"
      },
      "source": [
        "g=Graph(3) \n",
        "g.add_edge(0,1) \n",
        "g.add_edge(1,2) \n",
        "g.add_edge(2,0) \n",
        "g.print_graph()\n",
        "find_mother_vertex(g)"
      ],
      "execution_count": null,
      "outputs": [
        {
          "output_type": "stream",
          "text": [
            "Vertex  0:  1-> None\n",
            "Vertex  1:  2-> None\n",
            "Vertex  2:  0-> None\n"
          ],
          "name": "stdout"
        },
        {
          "output_type": "execute_result",
          "data": {
            "text/plain": [
              "0"
            ]
          },
          "metadata": {
            "tags": []
          },
          "execution_count": 30
        }
      ]
    },
    {
      "cell_type": "markdown",
      "metadata": {
        "id": "61o4ka5p3ECp",
        "colab_type": "text"
      },
      "source": [
        "## **Counting Number of Unique Edges in an Undirected Graph**"
      ]
    },
    {
      "cell_type": "markdown",
      "metadata": {
        "id": "KS53W-yU4GDj",
        "colab_type": "text"
      },
      "source": [
        "### **Approach1**"
      ]
    },
    {
      "cell_type": "code",
      "metadata": {
        "id": "bn7TDZt0xnP6",
        "colab_type": "code",
        "colab": {}
      },
      "source": [
        "def edge_helper(graph,source,visited,unique):\n",
        "    s = []\n",
        "    s.append(source)\n",
        "    visited[source] = True\n",
        "    res = ''\n",
        "    while len(s)>0:\n",
        "        v = s.pop(0)  \n",
        "        temp = graph.arr[v].get_head()\n",
        "        while temp:\n",
        "          if not visited[temp.val]:\n",
        "            s.insert(0,temp.val)\n",
        "            if (v,temp.val) not in unique and (temp.val,v) not in unique:\n",
        "              unique.add((v,temp.val))\n",
        "            visited[temp.val] =True\n",
        "          temp = temp.next\n",
        "        res = res + str(v) \n",
        "    return res,visited,unique\n",
        "\n",
        "def count_edge1(graph):\n",
        "    \n",
        "    \n",
        "    unique = set()\n",
        "\n",
        "    for i in range(graph.vertices):\n",
        "        visited = [False]*graph.vertices\n",
        "        res,visited,unique = edge_helper(graph,i,visited,unique)\n",
        "    return len(unique)"
      ],
      "execution_count": null,
      "outputs": []
    },
    {
      "cell_type": "code",
      "metadata": {
        "id": "LhPh_xTTydXB",
        "colab_type": "code",
        "colab": {
          "base_uri": "https://localhost:8080/",
          "height": 185
        },
        "outputId": "cba3dd2e-5ba4-4336-94f2-1a2edb2f1b30"
      },
      "source": [
        "g=Graph(9) \n",
        "g.add_edge(0,2) \n",
        "g.add_edge(1,5) \n",
        "g.add_edge(2,3)\n",
        "g.add_edge(2,4) \n",
        "g.add_edge(5,3) \n",
        "g.add_edge(5,6)\n",
        "g.add_edge(3,6) \n",
        "g.add_edge(6,7) \n",
        "g.add_edge(6,8)\n",
        "g.add_edge(6,4)\n",
        "g.add_edge(7,8)\n",
        "g.print_graph()\n",
        "count_edge1(g)"
      ],
      "execution_count": null,
      "outputs": [
        {
          "output_type": "stream",
          "text": [
            "Vertex  0:  2-> None\n",
            "Vertex  1:  5-> None\n",
            "Vertex  2:  4-> 3-> 0-> None\n",
            "Vertex  3:  6-> 5-> 2-> None\n",
            "Vertex  4:  6-> 2-> None\n",
            "Vertex  5:  6-> 3-> 1-> None\n",
            "Vertex  6:  4-> 8-> 7-> 3-> 5-> None\n",
            "Vertex  7:  8-> 6-> None\n",
            "Vertex  8:  7-> 6-> None\n"
          ],
          "name": "stdout"
        },
        {
          "output_type": "execute_result",
          "data": {
            "text/plain": [
              "11"
            ]
          },
          "metadata": {
            "tags": []
          },
          "execution_count": 58
        }
      ]
    },
    {
      "cell_type": "markdown",
      "metadata": {
        "id": "mp9yX40h4J7e",
        "colab_type": "text"
      },
      "source": [
        "### **Approach2**"
      ]
    },
    {
      "cell_type": "code",
      "metadata": {
        "id": "JNjwQtvx2F_E",
        "colab_type": "code",
        "colab": {}
      },
      "source": [
        "def count_edge2(graph):\n",
        "\n",
        "    count=0\n",
        "    for i in range(graph.vertices):\n",
        "        temp = graph.arr[i].get_head()\n",
        "        while temp:\n",
        "          temp=temp.next\n",
        "          count+=1\n",
        "\n",
        "    return count//2"
      ],
      "execution_count": null,
      "outputs": []
    },
    {
      "cell_type": "code",
      "metadata": {
        "id": "jPrZHYRQ4A6p",
        "colab_type": "code",
        "colab": {
          "base_uri": "https://localhost:8080/",
          "height": 34
        },
        "outputId": "611b35c7-7779-4ed9-faf4-fd60fb6deb9c"
      },
      "source": [
        "count_edge2(g)"
      ],
      "execution_count": null,
      "outputs": [
        {
          "output_type": "execute_result",
          "data": {
            "text/plain": [
              "11"
            ]
          },
          "metadata": {
            "tags": []
          },
          "execution_count": 61
        }
      ]
    },
    {
      "cell_type": "markdown",
      "metadata": {
        "id": "RrxMVw4XHLsL",
        "colab_type": "text"
      },
      "source": [
        "## **Path between Two Vertices**"
      ]
    },
    {
      "cell_type": "code",
      "metadata": {
        "id": "cPGKxpEZEeDv",
        "colab_type": "code",
        "colab": {}
      },
      "source": [
        "def check_path(graph,source,destination):\n",
        "    s = []\n",
        "    s.append(source)\n",
        "    visited = set()\n",
        "    res = ''\n",
        "    while len(s)>0:\n",
        "      v = s.pop(0)  \n",
        "      if v not in visited:\n",
        "        temp = graph.arr[v].get_head()\n",
        "        while temp:\n",
        "          if temp.val == destination:\n",
        "            return True\n",
        "          s.insert(0,temp.val)\n",
        "\n",
        "          temp = temp.next\n",
        "        res = res + str(v) \n",
        "        visited.add(v)\n",
        "    return False"
      ],
      "execution_count": null,
      "outputs": []
    },
    {
      "cell_type": "code",
      "metadata": {
        "id": "0bN7OqewFVWH",
        "colab_type": "code",
        "colab": {
          "base_uri": "https://localhost:8080/",
          "height": 168
        },
        "outputId": "34c354d4-d168-438d-a47d-e4fe9a8ad523"
      },
      "source": [
        "g=Graph(9) \n",
        "g.add_edge(0,2) \n",
        "g.add_edge(0,5) \n",
        "g.add_edge(2,3)\n",
        "g.add_edge(2,4) \n",
        "g.add_edge(5,3) \n",
        "g.add_edge(5,6)\n",
        "g.add_edge(3,6) \n",
        "g.add_edge(6,7) \n",
        "g.add_edge(6,8)\n",
        "g.add_edge(6,4)\n",
        "g.add_edge(7,8)\n",
        "g.print_graph()"
      ],
      "execution_count": null,
      "outputs": [
        {
          "output_type": "stream",
          "text": [
            "Vertex  0:  5-> 2-> None\n",
            "Vertex  1:  List is empty\n",
            "Vertex  2:  4-> 3-> None\n",
            "Vertex  3:  6-> None\n",
            "Vertex  4:  List is empty\n",
            "Vertex  5:  6-> 3-> None\n",
            "Vertex  6:  4-> 8-> 7-> None\n",
            "Vertex  7:  8-> None\n",
            "Vertex  8:  List is empty\n"
          ],
          "name": "stdout"
        }
      ]
    },
    {
      "cell_type": "code",
      "metadata": {
        "id": "aS3RW_xqFmeq",
        "colab_type": "code",
        "colab": {
          "base_uri": "https://localhost:8080/",
          "height": 34
        },
        "outputId": "d1e7aee4-6269-45d5-a06d-e14eb196d070"
      },
      "source": [
        "check_path(g,0,7)"
      ],
      "execution_count": null,
      "outputs": [
        {
          "output_type": "execute_result",
          "data": {
            "text/plain": [
              "True"
            ]
          },
          "metadata": {
            "tags": []
          },
          "execution_count": 67
        }
      ]
    },
    {
      "cell_type": "markdown",
      "metadata": {
        "id": "Lpv14pQQQLxQ",
        "colab_type": "text"
      },
      "source": [
        "## **Remove Edges from a Graph**"
      ]
    },
    {
      "cell_type": "code",
      "metadata": {
        "id": "r6pwCExQKYu8",
        "colab_type": "code",
        "colab": {}
      },
      "source": [
        "def remove_edge(graph, source, dest):\n",
        "    if len(graph.arr) == 0:\n",
        "      return graph\n",
        "    if source>=len(graph.arr) or source<0:\n",
        "      return graph \n",
        "    if dest>=len(graph.arr) or dest<0:\n",
        "      return graph\n",
        "\n",
        "    graph.arr[source].delete(dest)\n",
        "    return graph\n"
      ],
      "execution_count": null,
      "outputs": []
    },
    {
      "cell_type": "code",
      "metadata": {
        "id": "awgYuqzgLVYu",
        "colab_type": "code",
        "colab": {
          "base_uri": "https://localhost:8080/",
          "height": 101
        },
        "outputId": "8a001b24-07eb-4b02-f15c-c8380f9fe8c5"
      },
      "source": [
        "g=Graph(5) \n",
        "g.add_edge(0,2) \n",
        "g.add_edge(0,1) \n",
        "g.add_edge(1,3)\n",
        "g.add_edge(2,4) \n",
        "g.add_edge(4,0)\n",
        "g.print_graph()"
      ],
      "execution_count": null,
      "outputs": [
        {
          "output_type": "stream",
          "text": [
            "Vertex  0:  1-> 2-> None\n",
            "Vertex  1:  3-> None\n",
            "Vertex  2:  4-> None\n",
            "Vertex  3:  List is empty\n",
            "Vertex  4:  0-> None\n"
          ],
          "name": "stdout"
        }
      ]
    },
    {
      "cell_type": "code",
      "metadata": {
        "id": "c2OhMsUvLjB4",
        "colab_type": "code",
        "colab": {
          "base_uri": "https://localhost:8080/",
          "height": 34
        },
        "outputId": "22aa62f1-95c3-48d0-956f-db2c12e772f6"
      },
      "source": [
        "p = remove_edge(g, 2, 4)"
      ],
      "execution_count": null,
      "outputs": [
        {
          "output_type": "stream",
          "text": [
            "4 deleted!\n"
          ],
          "name": "stdout"
        }
      ]
    },
    {
      "cell_type": "code",
      "metadata": {
        "id": "TcSRNSfRMAPM",
        "colab_type": "code",
        "colab": {
          "base_uri": "https://localhost:8080/",
          "height": 101
        },
        "outputId": "1cf3be3b-06d1-466f-e63b-bc8bae0aae66"
      },
      "source": [
        "p.print_graph()"
      ],
      "execution_count": null,
      "outputs": [
        {
          "output_type": "stream",
          "text": [
            "Vertex  0:  1-> None\n",
            "Vertex  1:  3-> None\n",
            "Vertex  2:  List is empty\n",
            "Vertex  3:  List is empty\n",
            "Vertex  4:  0-> None\n"
          ],
          "name": "stdout"
        }
      ]
    },
    {
      "cell_type": "code",
      "metadata": {
        "id": "_Z1p9MthReks",
        "colab_type": "code",
        "colab": {
          "base_uri": "https://localhost:8080/",
          "height": 118
        },
        "outputId": "90e33e09-cc21-45c0-94ac-c15b53f0cb90"
      },
      "source": [
        "g=Graph(6) \n",
        "g.add_edge(0,2) \n",
        "g.add_edge(0,1)\n",
        "g.add_edge(0,3) \n",
        "g.add_edge(3,5)\n",
        "g.add_edge(5,4) \n",
        "g.add_edge(2,4)\n",
        "g.print_graph()"
      ],
      "execution_count": null,
      "outputs": [
        {
          "output_type": "stream",
          "text": [
            "Vertex  0:  3-> 1-> 2-> None\n",
            "Vertex  1:  List is empty\n",
            "Vertex  2:  4-> None\n",
            "Vertex  3:  5-> None\n",
            "Vertex  4:  List is empty\n",
            "Vertex  5:  4-> None\n"
          ],
          "name": "stdout"
        }
      ]
    },
    {
      "cell_type": "markdown",
      "metadata": {
        "id": "wqxigXwsfpUz",
        "colab_type": "text"
      },
      "source": [
        "# **Tarjan's Algorithm**"
      ]
    },
    {
      "cell_type": "markdown",
      "metadata": {
        "id": "YIODgJNxuxuy",
        "colab_type": "text"
      },
      "source": [
        "## **Connected Components**"
      ]
    },
    {
      "cell_type": "code",
      "metadata": {
        "id": "RraCDQnRfLlV",
        "colab_type": "code",
        "colab": {}
      },
      "source": [
        "from collections import defaultdict,deque\n",
        "\n",
        "class Graph(object):\n",
        "    def __init__(self,vertices):\n",
        "        self.vertices = vertices\n",
        "        self.graph = defaultdict(list)\n",
        "        self.stack = deque()\n",
        "        self.stackmembers = [False]*vertices\n",
        "        self.discv = [-1]*vertices\n",
        "        self.low = [-1]*vertices\n",
        "        self.time = 0\n",
        "    \n",
        "    def add_edge(self,u,v):\n",
        "\n",
        "        self.graph[u].append(v)\n",
        "        #self.graph[v].append(u)   #undirected graph\n",
        "\n",
        "    def helper(self,u):\n",
        "\n",
        "        self.discv[u] = self.time\n",
        "        self.low[u] = self.time\n",
        "        self.time+=1\n",
        "        self.stack.appendleft(u)\n",
        "        self.stackmembers[u] = True\n",
        "\n",
        "        for v in self.graph[u]:\n",
        "\n",
        "            if self.discv[v] == -1:\n",
        "\n",
        "                self.helper(v)\n",
        "                self.low[u] = min(self.low[u],self.low[v])\n",
        "\n",
        "            elif self.stackmembers[v]:\n",
        "\n",
        "                self.low[u] = min(self.low[u],self.discv[v])\n",
        "\n",
        "        if self.low[u] == self.discv[u]:\n",
        "            w=-1\n",
        "            \n",
        "            while w!=u and self.stack:\n",
        "\n",
        "                w = self.stack.popleft()\n",
        "                self.stackmembers[w] = False\n",
        "                print(w,end=' ')\n",
        "\n",
        "            print('\\n') \n",
        "     \n",
        "\n",
        "    def SCC(self):\n",
        "\n",
        "        for v in range(self.vertices):\n",
        "            if self.discv[v] == -1:\n",
        "                self.helper(v)\n"
      ],
      "execution_count": 43,
      "outputs": []
    },
    {
      "cell_type": "code",
      "metadata": {
        "id": "ySs1OmK1jUIY",
        "colab_type": "code",
        "colab": {
          "base_uri": "https://localhost:8080/",
          "height": 33
        },
        "outputId": "ca66da48-d7c3-421e-e240-d2bf435f35ac"
      },
      "source": [
        "edges = [[0,1],[1,2],[2,0],[1,3]]\n",
        "v = 4\n",
        "g = Graph(v)\n",
        "\n",
        "for i,edge in enumerate(edges):\n",
        "    g.add_edge(edge[0],edge[1])\n",
        "\n",
        "g.SCC()"
      ],
      "execution_count": 44,
      "outputs": [
        {
          "output_type": "stream",
          "text": [
            "3 2 1 0 "
          ],
          "name": "stdout"
        }
      ]
    },
    {
      "cell_type": "code",
      "metadata": {
        "id": "R4H5Sbl_iBTX",
        "colab_type": "code",
        "colab": {
          "base_uri": "https://localhost:8080/",
          "height": 117
        },
        "outputId": "605927b3-ac9f-43c7-99a5-2d997b007fbc"
      },
      "source": [
        "g1 = Graph(5) \n",
        "g1.add_edge(1, 0) \n",
        "g1.add_edge(0, 2) \n",
        "g1.add_edge(2, 1) \n",
        "g1.add_edge(0, 3) \n",
        "g1.add_edge(3, 4) \n",
        "\n",
        "g1.SCC() "
      ],
      "execution_count": 42,
      "outputs": [
        {
          "output_type": "stream",
          "text": [
            "4 \n",
            "\n",
            "3 \n",
            "\n",
            "1 2 0 \n",
            "\n"
          ],
          "name": "stdout"
        }
      ]
    },
    {
      "cell_type": "markdown",
      "metadata": {
        "id": "qd6osayYu5ic",
        "colab_type": "text"
      },
      "source": [
        "## **Bridges**"
      ]
    },
    {
      "cell_type": "code",
      "metadata": {
        "id": "5j9EkBQZu4em",
        "colab_type": "code",
        "colab": {}
      },
      "source": [
        "from collections import defaultdict,deque\n",
        "\n",
        "class Graph(object):\n",
        "    def __init__(self,vertices):\n",
        "        self.vertices = vertices\n",
        "        self.graph = defaultdict(list)\n",
        "        self.parent = [-1]*vertices\n",
        "        self.visited = [False]*vertices\n",
        "        self.discv = [-1]*vertices\n",
        "        self.low = [-1]*vertices\n",
        "        self.time = 0\n",
        "    \n",
        "    def add_edge(self,u,v):\n",
        "\n",
        "        self.graph[u].append(v)\n",
        "        self.graph[v].append(u)   #undirected graph\n",
        "\n",
        "    def helper(self,u):\n",
        "\n",
        "        self.discv[u] = self.time\n",
        "        self.low[u] = self.time\n",
        "        self.time+=1\n",
        "\n",
        "        self.visited[u] = True\n",
        "\n",
        "        for v in self.graph[u]:\n",
        "\n",
        "            if not self.visited[v]:\n",
        "                self.parent[v] = u\n",
        "                self.helper(v)\n",
        "                self.low[u] = min(self.low[u],self.low[v])\n",
        "                if self.low[v]>self.discv[u]:\n",
        "                    print('Bridge: '+str(u)+'->'+str(v))\n",
        "\n",
        "            elif self.parent[u] != v:\n",
        "\n",
        "                self.low[u] = min(self.low[u],self.discv[v])\n",
        "\n",
        "       \n",
        "\n",
        "    def SCC(self):\n",
        "\n",
        "        for v in range(self.vertices):\n",
        "            if not self.visited[v]:\n",
        "                self.helper(v)\n"
      ],
      "execution_count": 27,
      "outputs": []
    },
    {
      "cell_type": "code",
      "metadata": {
        "id": "1S7fF54CwjQg",
        "colab_type": "code",
        "colab": {
          "base_uri": "https://localhost:8080/",
          "height": 33
        },
        "outputId": "06d97497-0938-4756-cb5c-3e36a0a38511"
      },
      "source": [
        "edges = [[1,0],[2,0],[3,2],[4,2],[4,3],[3,0],[4,0]]\n",
        "v = 5\n",
        "g = Graph(v)\n",
        "\n",
        "for i,edge in enumerate(edges):\n",
        "    g.add_edge(edge[0],edge[1])\n",
        "\n",
        "g.SCC()"
      ],
      "execution_count": 29,
      "outputs": [
        {
          "output_type": "stream",
          "text": [
            "Bridge: 0->1\n"
          ],
          "name": "stdout"
        }
      ]
    },
    {
      "cell_type": "markdown",
      "metadata": {
        "id": "GkZCu46S2Gqy",
        "colab_type": "text"
      },
      "source": [
        "## **Articulation Points**"
      ]
    },
    {
      "cell_type": "code",
      "metadata": {
        "id": "fw12LodW2DRz",
        "colab_type": "code",
        "colab": {}
      },
      "source": [
        "from collections import defaultdict,deque\n",
        "\n",
        "class Graph(object):\n",
        "    def __init__(self,vertices):\n",
        "        self.vertices = vertices\n",
        "        self.graph = defaultdict(list)\n",
        "        self.parent = [-1]*vertices\n",
        "        self.visited = [False]*vertices\n",
        "        self.discv = [-1]*vertices\n",
        "        self.low = [-1]*vertices\n",
        "        self.time = 0\n",
        "        self.art = []\n",
        "    \n",
        "    def add_edge(self,u,v):\n",
        "\n",
        "        self.graph[u].append(v)\n",
        "        self.graph[v].append(u)   #undirected graph\n",
        "\n",
        "    def helper(self,u):\n",
        "\n",
        "        self.discv[u] = self.time\n",
        "        self.low[u] = self.time\n",
        "        self.time+=1\n",
        "\n",
        "        children = 0\n",
        "\n",
        "        self.visited[u] = True\n",
        "\n",
        "        for v in self.graph[u]:\n",
        "\n",
        "            if not self.visited[v]:\n",
        "                self.parent[v] = u\n",
        "                children+=1\n",
        "                self.helper(v)\n",
        "                self.low[u] = min(self.low[u],self.low[v])\n",
        "                \n",
        "                if self.parent[u]==-1 and children>1:\n",
        "                    self.art.append(u)\n",
        "\n",
        "                if self.parent[u]!=-1 and self.low[v]>=self.discv[u]:\n",
        "                    self.art.append(u)\n",
        "\n",
        "            elif self.parent[u] != v:\n",
        "\n",
        "                self.low[u] = min(self.low[u],self.discv[v])\n",
        "\n",
        "       \n",
        "\n",
        "    def SCC(self):\n",
        "\n",
        "        for v in range(self.vertices):\n",
        "            if not self.visited[v]:\n",
        "                self.helper(v)\n"
      ],
      "execution_count": 46,
      "outputs": []
    },
    {
      "cell_type": "code",
      "metadata": {
        "id": "AKNv-tB83Bi0",
        "colab_type": "code",
        "colab": {
          "base_uri": "https://localhost:8080/",
          "height": 33
        },
        "outputId": "eb638e3e-8691-4dd8-e006-2619d6c18659"
      },
      "source": [
        "edges = [[1,0],[2,0],[3,2],[4,2],[4,3],[3,0],[4,0]]\n",
        "v = 5\n",
        "g = Graph(v)\n",
        "\n",
        "for i,edge in enumerate(edges):\n",
        "    g.add_edge(edge[0],edge[1])\n",
        "\n",
        "g.SCC()\n",
        "print('Articulation Points: ',g.art)"
      ],
      "execution_count": 47,
      "outputs": [
        {
          "output_type": "stream",
          "text": [
            "Articulation Points:  [0]\n"
          ],
          "name": "stdout"
        }
      ]
    }
  ]
}